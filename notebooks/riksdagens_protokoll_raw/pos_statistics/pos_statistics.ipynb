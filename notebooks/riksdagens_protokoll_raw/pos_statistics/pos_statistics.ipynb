{
 "cells": [
  {
   "cell_type": "markdown",
   "id": "5eda372e",
   "metadata": {},
   "source": [
    "# Token Count Statistics\n",
    "### Text Processing Pipeline\n",
    "\n",
    "| | Building block | Arguments | Description |\n",
    "| -- | :------------- | :------------- | :------------- |\n",
    "| 💾 | <b>Checkpoint</b> | checkpoint_filename | Checkpoint (tagged frames) to file\n",
    "\n",
    "The PoS tagging notebook uses the same processing pipeline as the Word trends tnotebook  do to produce a tagged data frame. The processing will henceread\n",
    "a checkpoint file if it exists, otherwise resolve the full pipeline.\n",
    "\n",
    "The word count statistics are collected in the tagging task (part-of-speech and lemma annotation). The computed statistics, total word count and the word counts for each PoS-grouping, are added (or updated) to the _document index file_ as new columns. This file is stored in the tagged text archive as `document_index.csv`.\n",
    "\n",
    "Note: The dcument index file is either a pre-existing document index or, if no such index exists, automatically generated during the initial text loading pipeline task.\n",
    "If no pre-existing file exists, then the necessary attributes (e.g. document's year) are extracted from the filename of each  document.\n"
   ]
  },
  {
   "cell_type": "code",
   "execution_count": null,
   "id": "aeedc641",
   "metadata": {
    "lines_to_next_cell": 0,
    "tags": []
   },
   "outputs": [],
   "source": [
    "\n",
    "import __paths__  # pylint: disable=unused-import\n",
    "\n",
    "from IPython.display import display\n",
    "from penelope.notebook.token_counts import pipeline_gui\n",
    "\n",
    "gui = pipeline_gui.create_token_count_gui(\n",
    "    corpus_folder=__paths__.corpus_folder,\n",
    "    resources_folder=\"..\",\n",
    ")\n",
    "display(gui.layout())"
   ]
  },
  {
   "cell_type": "code",
   "execution_count": null,
   "id": "cdff4ef0",
   "metadata": {},
   "outputs": [],
   "source": []
  }
 ],
 "metadata": {
  "jupytext": {
   "encoding": "# -*- coding: utf-8 -*-",
   "formats": "ipynb,py:percent"
  },
  "kernelspec": {
   "display_name": "Python 3 (ipykernel)",
   "language": "python",
   "name": "python3"
  }
 },
 "nbformat": 4,
 "nbformat_minor": 5
}
