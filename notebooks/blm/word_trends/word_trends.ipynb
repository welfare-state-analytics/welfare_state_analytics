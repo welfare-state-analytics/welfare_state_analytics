{
 "cells": [
  {
   "cell_type": "markdown",
   "id": "32394c31",
   "metadata": {
    "lines_to_next_cell": 0
   },
   "source": [
    "## Word, or part-of-word, trend analysis\n",
    "\n",
    "### Text Processing Pipeline\n",
    "To be updated:\n",
    "\n",
    "| 🔽 | Building block | Arguments | Description | Configuration\n",
    "| -- | :------------- | :------------- | :------------- | :------------- |\n",
    "| ⚙ | <b>SetTagger</b>SpacyModel | 'en' | Set PoS tagger | spaCy\n",
    "| 📜| <b>LoadText</b> | reader_opts, transform_opts | Text stream provider | config.yml\n",
    "| 🔎 | <b>Tqdm</b> | ⚪ | Progress indicator | ⚪\n",
    "| ⌛ | <b>Passthrough</b> | ⚪ | Passthrough | ⚪\n",
    "| 🔨 | <b>ToTaggedFrame</b> | ⚪ Spacy | PoS tagging | config.yml\n",
    "| 💾 | <b>Checkpoint</b> | checkpoint_filename | Checkpoint (tagged frames) to file | ⚪\n",
    "| 🔨 | TaggedFrame<b>ToTokens</b> | extract_opts | Tokens extractor | User specified\n",
    "| 🔨 | <b>TokensTransform</b> | transform_opts | Tokens transformer | User specified\n",
    "| 🔎 | <b>Tqdm</b> | ⚪ | Progress indicator | ⚪\n",
    "| 🔨 | <b>ToDTM</b> | vectorize_opts| DTM vectorizer | User specified\n",
    "| 💾 | <b>Checkpoint</b> | checkpoint_filename| Checkpoint (DTM) to file | User specified\n",
    "\n",
    "### User instructions\n",
    "\n",
    "#### Load a DTM corpus\n",
    "\n",
    "To load a corpus you must first select a file, then press <b>`Load`</b>. To select the file:</b> <b>1)</b> press <b>`Change`</b> to open the file browser, <b>2)</b> find and select the file you want to open and <b>3)</b> press <b>`Change`</b> again to confirm the file and close the file browser. Then you can load the corpus by pressing <b>`Load`</b>.\n",
    "\n",
    "#### Word trends\n",
    "\n",
    "Specifiy words of interest in the text box. You can use both wildcards and regular expressions to widen your search. The\n",
    "words in the vocabulary that matches what you have specified will be listed in the selection box. Since using wildcards and regexps can result\n",
    "in a large number of words, only the `Word count` matching most frequent words are displayed. Refine your search if you get to many matches.\n",
    "The words will be plotted when they are selected. You can select and plot multiple words by pressing CTRL when selected, or using arrow keys.\n",
    "\n",
    "The regular expressions must be surrounded by vertical bars `|`. To find words ending with `tion`\n",
    "you can enter `|.*tion$|` in the textbox. I might seem cryptical, but is a very powerful notation for searching words. The vertical\n",
    "bars is specified only so that the system can distinguish the regexp from \"normal\" words. The actual expression is `^.*tion$`.\n",
    "The dot and star`.*` matches any character (the dot) any number of times (the `*`). The dollar sign `$` indicates the word ending.\n",
    "So this expression matches all words that begins with any number of characters follwoed, by the character sequence `tion` at the end of the word.\n",
    "To match all words starting with `info`you can enter `|^info.*|` where `^` specifies the start of the word.\n"
   ]
  },
  {
   "cell_type": "code",
   "execution_count": null,
   "id": "19ea5bcd",
   "metadata": {
    "lines_to_next_cell": 0
   },
   "outputs": [],
   "source": [
    "import __paths__\n",
    "\n",
    "import penelope.notebook.word_trends.main_gui as main_gui\n",
    "from bokeh.plotting import output_notebook\n",
    "from IPython.display import display\n",
    "\n",
    "output_notebook()\n",
    "gui = main_gui.create_to_dtm_gui(\n",
    "    corpus_config=\"bolima\",\n",
    "    corpus_folder=__paths__.corpus_folder,\n",
    "    data_folder=__paths__.data_folder,\n",
    "    resources_folder='..',\n",
    ")\n",
    "display(gui)"
   ]
  },
  {
   "cell_type": "code",
   "execution_count": null,
   "id": "bc600f13",
   "metadata": {},
   "outputs": [],
   "source": []
  }
 ],
 "metadata": {
  "jupytext": {
   "encoding": "# -*- coding: utf-8 -*-",
   "formats": "ipynb,py:percent"
  },
  "kernelspec": {
   "display_name": "Python 3 (ipykernel)",
   "language": "python",
   "name": "python3"
  }
 },
 "nbformat": 4,
 "nbformat_minor": 5
}
