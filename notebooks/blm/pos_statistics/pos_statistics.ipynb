{
 "cells": [
  {
   "cell_type": "markdown",
   "id": "901e0825",
   "metadata": {},
   "source": [
    "# Token Count Statistics\n",
    "### Text Processing Pipeline\n",
    "\n",
    "| | Building block | Arguments | Description |\n",
    "| -- | :------------- | :------------- | :------------- |\n",
    "| 💾 | <b>pyriksprot</b> | TF[20, MASK] | Extract corpus from Parla-CLARIN\n",
    "| 💾 | <b>pyriksprot (tagger)</b> | _ | PoS-tag and lemmatize\n",
    "| 💾 | <b>dtm_id</b> | _ | Create DTM\n",
    "| 💾 | <b>dtm </b> | _ | Create DTM\n",
    "\n"
   ]
  },
  {
   "cell_type": "code",
   "execution_count": null,
   "id": "bcc592cc",
   "metadata": {
    "tags": []
   },
   "outputs": [],
   "source": [
    "\n",
    "import __paths__  # pylint: disable=unused-import\n",
    "\n",
    "from IPython.display import display\n",
    "from penelope import pipeline as pp\n",
    "from penelope.notebook.token_counts import TokenCountsGUI\n",
    "\n",
    "config_filenames: list[str] = pp.CorpusConfig.list_all(folder=\"..\", recursive=True, try_load=True)\n",
    "gui = TokenCountsGUI().setup(config_filenames=config_filenames)\n",
    "\n",
    "display(gui.layout())"
   ]
  }
 ],
 "metadata": {
  "jupytext": {
   "encoding": "# -*- coding: utf-8 -*-",
   "formats": "ipynb,py:percent"
  },
  "kernelspec": {
   "display_name": "Python 3 (ipykernel)",
   "language": "python",
   "name": "python3"
  }
 },
 "nbformat": 4,
 "nbformat_minor": 5
}
