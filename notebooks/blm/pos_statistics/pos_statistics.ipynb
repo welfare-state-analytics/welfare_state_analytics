{
 "cells": [
  {
   "cell_type": "markdown",
   "id": "3a240875",
   "metadata": {},
   "source": [
    "# Token Count Statistics\n",
    "### Text Processing Pipeline\n",
    "\n",
    "| | Building block | Arguments | Description |\n",
    "| -- | :------------- | :------------- | :------------- |\n",
    "| 💾 | <b>pyriksprot</b> | TF[20, MASK] | Extract corpus from Parla-CLARIN\n",
    "| 💾 | <b>pyriksprot (tagger)</b> | _ | PoS-tag and lemmatize\n",
    "| 💾 | <b>dtm_id</b> | _ | Create DTM\n",
    "| 💾 | <b>dtm </b> | _ | Create DTM\n",
    "\n"
   ]
  },
  {
   "cell_type": "code",
   "execution_count": null,
   "id": "e684f233",
   "metadata": {
    "tags": []
   },
   "outputs": [],
   "source": [
    "\n",
    "import __paths__  # pylint: disable=unused-import\n",
    "\n",
    "from IPython.display import display\n",
    "from penelope.notebook.token_counts import pipeline_gui\n",
    "\n",
    "gui = pipeline_gui.create_token_count_gui(corpus_folder=__paths__.corpus_folder, resources_folder=\"..\")\n",
    "display(gui.layout())"
   ]
  }
 ],
 "metadata": {
  "jupytext": {
   "encoding": "# -*- coding: utf-8 -*-",
   "formats": "ipynb,py:percent"
  },
  "kernelspec": {
   "display_name": "Python 3 (ipykernel)",
   "language": "python",
   "name": "python3"
  }
 },
 "nbformat": 4,
 "nbformat_minor": 5
}
