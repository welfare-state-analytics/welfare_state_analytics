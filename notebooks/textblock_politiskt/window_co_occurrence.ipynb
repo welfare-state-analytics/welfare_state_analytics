{
 "cells": [
  {
   "cell_type": "code",
   "execution_count": null,
   "id": "d822e530",
   "metadata": {
    "tags": []
   },
   "outputs": [],
   "source": [
    "%%capture\n",
    "%load_ext autoreload\n",
    "%autoreload 2\n",
    "\n",
    "# pylint: disable=wrong-import-position\n",
    "\n",
    "import os\n",
    "\n",
    "import pandas as pd\n",
    "from penelope.corpus import TokenizedCorpus, TokensTransformOpts\n",
    "from penelope.corpus.readers import PandasCorpusReader\n",
    "\n",
    "import __paths__  # isort:skip pylint: disable=import-error, unused-import\n",
    "\n",
    "\n",
    "# from notebooks.textblock_politiskt.pandas_co_occurrence import (\n",
    "#     compute_co_occurrence_for_periods,\n",
    "# )\n",
    "\n",
    "root_folder = os.getcwd().split(\"notebooks\")[0]\n",
    "\n",
    "\n",
    "def create_corpus(source_filename: str, periods):\n",
    "\n",
    "    df = pd.read_csv(source_filename, sep=\"\\t\")[[\"year\", \"txt\"]]\n",
    "\n",
    "    reader = PandasCorpusReader(df, column_filters={\"year\": periods})\n",
    "\n",
    "    transform_opts = TokensTransformOpts(\n",
    "        to_lower=True,\n",
    "        remove_accents=False,\n",
    "        min_len=1,\n",
    "        max_len=None,\n",
    "        keep_numerals=False,\n",
    "        only_any_alphanumeric=False,\n",
    "    )\n",
    "    corpus = TokenizedCorpus(reader, transform_opts=transform_opts)\n",
    "    return corpus\n",
    "\n",
    "\n",
    "ytw_filename = \"./data/year+text_window.txt\"\n",
    "ytw_corpus = create_corpus(source_filename=ytw_filename, periods=1957)\n",
    "\n",
    "# compute_co_occurrence_for_periods(\"./data/year+text_window.txt\", 1957, target_filename=\"test_1957.xlsx\")"
   ]
  },
  {
   "cell_type": "code",
   "execution_count": null,
   "id": "fc4d9f9a",
   "metadata": {},
   "outputs": [],
   "source": []
  }
 ],
 "metadata": {
  "jupytext": {
   "formats": "ipynb,py:percent",
   "main_language": "python"
  },
  "kernelspec": {
   "display_name": "Python 3.8.5 64-bit ('westac-O7wB9ikj-py3.8': venv)",
   "metadata": {
    "interpreter": {
     "hash": "22b1e31d3d5f905e8a7998fc3532ca535c806f75d42474f77651a5c803dd310a"
    }
   },
   "name": "Python 3.8.5 64-bit ('westac-O7wB9ikj-py3.8': venv)"
  }
 },
 "nbformat": 4,
 "nbformat_minor": 5
}
