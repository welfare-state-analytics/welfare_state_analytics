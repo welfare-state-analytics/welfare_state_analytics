{
 "cells": [
  {
   "cell_type": "code",
   "execution_count": null,
   "id": "41d65b4b-efa9-4276-9805-32895670728c",
   "metadata": {},
   "outputs": [],
   "source": [
    "from dataclasses import dataclass\n",
    "\n",
    "import ipywidgets\n",
    "import matplotlib.pyplot as plt\n",
    "\n",
    "import pandas as pd\n",
    "from IPython.display import display\n",
    "from ipywidgets import Dropdown, HBox, Output, ToggleButton, VBox\n",
    "\n",
    "pd.options.mode.chained_assignment = None\n",
    "\n",
    "#%matplotlib inline\n",
    "\n",
    "def load_speech_index(index_path: str, members_path: str) -> pd.DataFrame:\n",
    "    \"\"\"Load speech index. Merge with person index (parla. members, ministers, speakers)\"\"\"\n",
    "    speech_index: pd.DataFrame = pd.read_csv(index_path, sep='\\t')\n",
    "    members: pd.DataFrame = pd.read_json(members_path)\n",
    "    speech_index['protocol_name'] = speech_index.filename.str.split('_').str[0]\n",
    "    speech_index = speech_index.merge(members, left_on='who', right_index=True, how='inner').fillna('')\n",
    "    speech_index.loc[speech_index['gender']=='','gender'] = 'unknown'\n",
    "    return speech_index, members\n",
    "\n",
    "def plot_pivot(data: pd.DataFrame, kind: str):\n",
    "    if kind == 'table':\n",
    "        display(data)\n",
    "    else:\n",
    "        data.plot(kind=kind, figsize=(20,10))\n",
    "        plt.show()\n",
    "\n",
    "def compute_statistics(\n",
    "    *, temporal_key: str, pivot_key: str, pivot_sub_key: str, pivot_value: str, normalize: bool, mode: str\n",
    "):\n",
    "    \n",
    "    data: pd.DataFrame = SPEECH_INDEX.copy()\n",
    "\n",
    "    if pivot_value:\n",
    "        data = data[data[pivot_key] == pivot_value]\n",
    "        pivot_key = pivot_sub_key\n",
    "\n",
    "    if temporal_key == 'decade':\n",
    "        data[temporal_key] = data.year - data.year % 10\n",
    "    \n",
    "    pivot: pd.DataFrame = None\n",
    "\n",
    "    if mode == 'token':\n",
    "        pivot = data.groupby([temporal_key, pivot_key]).agg({'n_tokens': sum})\n",
    "    elif mode == 'speech':\n",
    "        pivot = data.groupby([temporal_key, pivot_key]).size()\n",
    "    elif mode == 'speaker':\n",
    "        pivot = data.groupby([temporal_key, pivot_key]).agg({'who': lambda x: len(set(x))})\n",
    "\n",
    "    if normalize:\n",
    "        \n",
    "        if mode == 'token':\n",
    "            sums = pivot.groupby(temporal_key)['n_tokens'].sum()\n",
    "        elif mode == 'speech':\n",
    "            sums = pivot.sum(axis=1)\n",
    "        elif mode == 'speaker':\n",
    "            sums = pivot.groupby(temporal_key)['who'].sum()\n",
    "\n",
    "    pivot = pivot.unstack(level=1).fillna(0)\n",
    "    pivot = pivot.div(sums, axis=0)\n",
    "    \n",
    "    pivot.columns = pivot.columns.levels[1].tolist()\n",
    "\n",
    "    return pivot\n",
    "\n",
    "@dataclass\n",
    "class CaseOneGUI:\n",
    "\n",
    "    pivot_key: str = None\n",
    "    pivot_sub_key: str = None\n",
    "    pivot_values = Dropdown(description='Pivot', options=[], layout={'width': '160px'})\n",
    "    mode = Dropdown(description='Mode', options=['token', 'speech', 'speaker'], value='token', layout={'width': '160px'})\n",
    "    period = Dropdown(description='Period', options=['year', 'decade'], value='decade', layout={'width': '160px'})\n",
    "    kind = Dropdown(description='Kind', options=['area', 'line', 'bar', 'table'], value='table', layout={'width': '160px'})\n",
    "    normalize = ToggleButton(description='Normalize', value=True, layout={'width': '160px'})\n",
    "    output = Output()\n",
    "\n",
    "    def layout(self):\n",
    "        return VBox([\n",
    "            HBox([\n",
    "                VBox([self.pivot_values, self.period]),\n",
    "                VBox([self.kind, self.mode]),\n",
    "                self.normalize\n",
    "            ]),\n",
    "            self.output\n",
    "        ])\n",
    "\n",
    "    def setup(self, pivot_values) -> \"CaseOneGUI\":\n",
    "        self.pivot_values.options = pivot_values\n",
    "        self.pivot_values.observe(self.handler, 'value')\n",
    "        self.mode.observe(self.handler, 'value')\n",
    "        self.period.observe(self.handler, 'value')\n",
    "        self.kind.observe(self.handler, 'value')\n",
    "        self.normalize.observe(self.handler, 'value')\n",
    "        return self\n",
    "\n",
    "    def update(self):\n",
    "\n",
    "        opts: dict = dict(\n",
    "            temporal_key=self.period.value,\n",
    "            pivot_key=self.pivot_key,\n",
    "            pivot_sub_key=self.pivot_sub_key,\n",
    "            pivot_value=self.pivot_values.value,\n",
    "            normalize=self.normalize.value,\n",
    "            mode=self.mode.value,\n",
    "        )\n",
    "\n",
    "        self.output.clear_output()\n",
    "        with self.output:\n",
    "            # print(opts)\n",
    "            data: pd.DataFrame = compute_statistics(**opts)\n",
    "            plot_pivot(data, kind=self.kind.value)\n",
    "\n",
    "    def handler(self, *_):\n",
    "        self.update()\n",
    "\n",
    "\n",
    "SPEECH_INDEX, MEMBERS = load_speech_index(\n",
    "    '/data/westac/shared/document_index.csv.xz',\n",
    "    '/data/westac/shared/members.json'\n",
    ")\n",
    "PARTYS = SPEECH_INDEX.party_abbrev.unique().tolist()\n",
    "GENDERS = SPEECH_INDEX.gender.unique().tolist()\n"
   ]
  },
  {
   "cell_type": "markdown",
   "id": "2416e1a0-b432-4ee4-9de6-71d373a2acff",
   "metadata": {},
   "source": [
    "## Words/speeches per party over time\n",
    " - Ministers are encoded as party `gov` and gender `unknown`\n",
    " - Mode: `token` number of tokens, `speech` number of speeches, `speaker`number of unique speakers"
   ]
  },
  {
   "cell_type": "code",
   "execution_count": null,
   "id": "40b61959-ecfe-46e4-8527-b75e80edd985",
   "metadata": {},
   "outputs": [],
   "source": [
    "guip = CaseOneGUI(pivot_key='party_abbrev', pivot_sub_key='gender')\\\n",
    "    .setup(pivot_values=[''] + PARTYS)\n",
    "display(guip.layout())\n",
    "guip.update()"
   ]
  },
  {
   "cell_type": "markdown",
   "id": "a0e66167-ccc0-48a8-bda6-8573dc0883ee",
   "metadata": {},
   "source": [
    "## Words/speeches per gender over time"
   ]
  },
  {
   "cell_type": "code",
   "execution_count": null,
   "id": "709cef4e-b2f5-42a6-96c0-07ac4ae1e9ac",
   "metadata": {},
   "outputs": [],
   "source": [
    "guig = CaseOneGUI(pivot_key='gender', pivot_sub_key='party_abbrev')\\\n",
    "    .setup(pivot_values=[''] + GENDERS)\n",
    "display(guig.layout())\n",
    "guig.update()"
   ]
  },
  {
   "cell_type": "markdown",
   "id": "f9336a92-6b74-4d2f-a05d-4db05c607ca0",
   "metadata": {},
   "source": [
    "## Words per speech over time\n"
   ]
  },
  {
   "cell_type": "code",
   "execution_count": 57,
   "id": "d8f71068-31fd-4471-8c22-0c739bbe8953",
   "metadata": {},
   "outputs": [
    {
     "data": {
      "text/plain": [
       "<AxesSubplot:xlabel='year'>"
      ]
     },
     "execution_count": 57,
     "metadata": {},
     "output_type": "execute_result"
    },
    {
     "data": {
      "image/png": "[encoded data removed]",
      "text/plain": [
       "<Figure size 432x288 with 1 Axes>"
      ]
     },
     "metadata": {
      "needs_background": "light"
     },
     "output_type": "display_data"
    }
   ],
   "source": [
    "SPEECH_INDEX.groupby(['year', 'gender']).agg({'n_tokens': lambda x: sum(x)/len(x)}).unstack(level=1).plot()"
   ]
  },
  {
   "cell_type": "markdown",
   "id": "dfe27395-5e18-48e2-b0f0-d39570cf1cff",
   "metadata": {},
   "source": [
    "## Missing values\n"
   ]
  },
  {
   "cell_type": "markdown",
   "id": "e6b1c4a1-7533-4289-b93d-c43b39a5386a",
   "metadata": {},
   "source": [
    "# Statistik\n",
    "\n",
    "1. Procentuell bar eller area. Normalisera efter antal ledamöter?\n",
    "2. Män och kvinnor (samma bild som ovan)\n",
    "3. Snitt längd av tal pedatar år, kön?\n"
   ]
  },
  {
   "cell_type": "code",
   "execution_count": null,
   "id": "9344a4f5-cf9e-412b-b641-8c97c20bfd0c",
   "metadata": {},
   "outputs": [],
   "source": [
    "dg = du.groupby(['year', 'gender']).agg({'name': lambda x: len(set(x)) }).unstack(level=1)\n",
    "dg = dg.div(dg.sum(axis=1), axis=0)\n",
    "dg.plot(kind='area', figsize=(20,20))\n",
    "\n",
    "dg = du.groupby(['year', 'gender']).size().unstack(level=1)\n",
    "dg = dg.div(dg.sum(axis=1), axis=0)\n",
    "dg.plot(kind='area', figsize=(20,20))"
   ]
  },
  {
   "cell_type": "code",
   "execution_count": null,
   "id": "3260e352-72d8-469e-b526-4dfe668e55d8",
   "metadata": {},
   "outputs": [],
   "source": []
  }
 ],
 "metadata": {
  "kernelspec": {
   "display_name": "Python 3 (ipykernel)",
   "language": "python",
   "name": "python3"
  },
  "language_info": {
   "codemirror_mode": {
    "name": "ipython",
    "version": 3
   },
   "file_extension": ".py",
   "mimetype": "text/x-python",
   "name": "python",
   "nbconvert_exporter": "python",
   "pygments_lexer": "ipython3",
   "version": "3.8.5"
  }
 },
 "nbformat": 4,
 "nbformat_minor": 5
}
