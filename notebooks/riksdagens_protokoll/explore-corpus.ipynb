{
 "cells": [
  {
   "cell_type": "code",
   "execution_count": 174,
   "source": [
    "import os\n",
    "import pandas as pd\n",
    "import __paths__\n",
    "from typing import List, Iterable, Tuple\n",
    "from penelope.type_alias import DocumentIndex, TaggedFrame\n",
    "from westac import parliamentary_debates as parla\n",
    "from penelope.pipeline import CheckpointData, CheckpointOpts, ContentType\n",
    "from pathlib import Path\n",
    "from IPython.display import display\n",
    "\n",
    "file_pattern: str = \"*.zip\"\n",
    "source_folder: str = \"/data/riksdagen_corpus_data/annotated\"\n",
    "\n"
   ],
   "outputs": [],
   "metadata": {}
  },
  {
   "cell_type": "code",
   "execution_count": 175,
   "source": [
    "\n",
    "checkpoint_opts = CheckpointOpts(\n",
    "    content_type_code=ContentType.TAGGED_FRAME,\n",
    "    sep=\"\\t\",\n",
    "    quoting=3,\n",
    "    document_index_name=\"document_index.csv\",\n",
    "    document_index_sep=\"\\t\",\n",
    "    text_column=\"text\",\n",
    "    lemma_column=\"lemma\",\n",
    "    pos_column=\"pos\",\n",
    "    custom_serializer_classname=None,\n",
    "    index_column=None,\n",
    ")\n",
    "\n",
    "file_pattern: str = \"*.zip\"\n",
    "source_folder: str = \"/data/riksdagen_corpus_data/annotated\"\n",
    "\n",
    "stream: Iterable[CheckpointData] = parla.load_checkpoints(source_folder, file_pattern, checkpoint_opts)\n"
   ],
   "outputs": [],
   "metadata": {}
  },
  {
   "cell_type": "code",
   "execution_count": 198,
   "source": [
    "import zipfile\n",
    "from tqdm.auto import tqdm\n",
    "from io import StringIO\n",
    "import csv\n",
    "\n",
    "filenames = sorted(Path(source_folder).rglob(file_pattern))\n",
    "\n",
    "#for filename in tqdm(filenames):\n"
   ],
   "outputs": [
    {
     "output_type": "display_data",
     "data": {
      "text/plain": [
       "'  empty: 707'"
      ]
     },
     "metadata": {}
    },
    {
     "output_type": "display_data",
     "data": {
      "text/plain": [
       "' failed: 0'"
      ]
     },
     "metadata": {}
    },
    {
     "output_type": "display_data",
     "data": {
      "text/plain": [
       "'success: 10494'"
      ]
     },
     "metadata": {}
    }
   ],
   "metadata": {}
  },
  {
   "cell_type": "code",
   "execution_count": 195,
   "source": [
    "checkpoint = next(checkpoints)\n",
    "\n",
    "cps: List[CheckpointData] = [cp for cp in stream]\n",
    "\n",
    "source_names = {os.path.basename(x.source_name) for x in cps}\n",
    "\n",
    "document_indexes: List[DocumentIndex] = [x.document_index for x in cps]\n",
    "merged_index: DocumentIndex = pd.concat(document_indexes, ignore_index=False, sort=False)\n",
    "\n",
    "assert len(merged_index) == 15\n",
    "\n",
    "unique_document_names = set(merged_index.document_name.apply(lambda x: x.split('@')[0]).unique())\n"
   ],
   "outputs": [
    {
     "output_type": "error",
     "ename": "NameError",
     "evalue": "name 'checkpoints' is not defined",
     "traceback": [
      "\u001b[0;31m---------------------------------------------------------------------------\u001b[0m",
      "\u001b[0;31mNameError\u001b[0m                                 Traceback (most recent call last)",
      "\u001b[0;32m/tmp/ipykernel_15898/1588998600.py\u001b[0m in \u001b[0;36m<module>\u001b[0;34m\u001b[0m\n\u001b[0;32m----> 1\u001b[0;31m \u001b[0mcheckpoint\u001b[0m \u001b[0;34m=\u001b[0m \u001b[0mnext\u001b[0m\u001b[0;34m(\u001b[0m\u001b[0mcheckpoints\u001b[0m\u001b[0;34m)\u001b[0m\u001b[0;34m\u001b[0m\u001b[0;34m\u001b[0m\u001b[0m\n\u001b[0m\u001b[1;32m      2\u001b[0m \u001b[0;34m\u001b[0m\u001b[0m\n\u001b[1;32m      3\u001b[0m \u001b[0mcps\u001b[0m\u001b[0;34m:\u001b[0m \u001b[0mList\u001b[0m\u001b[0;34m[\u001b[0m\u001b[0mCheckpointData\u001b[0m\u001b[0;34m]\u001b[0m \u001b[0;34m=\u001b[0m \u001b[0;34m[\u001b[0m\u001b[0mcp\u001b[0m \u001b[0;32mfor\u001b[0m \u001b[0mcp\u001b[0m \u001b[0;32min\u001b[0m \u001b[0mstream\u001b[0m\u001b[0;34m]\u001b[0m\u001b[0;34m\u001b[0m\u001b[0;34m\u001b[0m\u001b[0m\n\u001b[1;32m      4\u001b[0m \u001b[0;34m\u001b[0m\u001b[0m\n\u001b[1;32m      5\u001b[0m \u001b[0msource_names\u001b[0m \u001b[0;34m=\u001b[0m \u001b[0;34m{\u001b[0m\u001b[0mos\u001b[0m\u001b[0;34m.\u001b[0m\u001b[0mpath\u001b[0m\u001b[0;34m.\u001b[0m\u001b[0mbasename\u001b[0m\u001b[0;34m(\u001b[0m\u001b[0mx\u001b[0m\u001b[0;34m.\u001b[0m\u001b[0msource_name\u001b[0m\u001b[0;34m)\u001b[0m \u001b[0;32mfor\u001b[0m \u001b[0mx\u001b[0m \u001b[0;32min\u001b[0m \u001b[0mcps\u001b[0m\u001b[0;34m}\u001b[0m\u001b[0;34m\u001b[0m\u001b[0;34m\u001b[0m\u001b[0m\n",
      "\u001b[0;31mNameError\u001b[0m: name 'checkpoints' is not defined"
     ]
    }
   ],
   "metadata": {}
  },
  {
   "cell_type": "code",
   "execution_count": 194,
   "source": [
    "print(success[0])\n"
   ],
   "outputs": [],
   "metadata": {}
  },
  {
   "cell_type": "code",
   "execution_count": 190,
   "source": [
    "success[0]"
   ],
   "outputs": [
    {
     "output_type": "error",
     "ename": "IndexError",
     "evalue": "list index out of range",
     "traceback": [
      "\u001b[0;31m---------------------------------------------------------------------------\u001b[0m",
      "\u001b[0;31mIndexError\u001b[0m                                Traceback (most recent call last)",
      "\u001b[0;32m/tmp/ipykernel_15898/3556988009.py\u001b[0m in \u001b[0;36m<module>\u001b[0;34m\u001b[0m\n\u001b[0;32m----> 1\u001b[0;31m \u001b[0msuccess\u001b[0m\u001b[0;34m[\u001b[0m\u001b[0;36m0\u001b[0m\u001b[0;34m]\u001b[0m\u001b[0;34m\u001b[0m\u001b[0;34m\u001b[0m\u001b[0m\n\u001b[0m",
      "\u001b[0;31mIndexError\u001b[0m: list index out of range"
     ]
    }
   ],
   "metadata": {}
  },
  {
   "cell_type": "code",
   "execution_count": null,
   "source": [],
   "outputs": [],
   "metadata": {}
  }
 ],
 "metadata": {
  "orig_nbformat": 4,
  "language_info": {
   "name": "python",
   "version": "3.8.5",
   "mimetype": "text/x-python",
   "codemirror_mode": {
    "name": "ipython",
    "version": 3
   },
   "pygments_lexer": "ipython3",
   "nbconvert_exporter": "python",
   "file_extension": ".py"
  },
  "kernelspec": {
   "name": "python3",
   "display_name": "Python 3.8.5 64-bit ('humlab-westac-O7wB9ikj-py3.8': poetry)"
  },
  "interpreter": {
   "hash": "28d78e871dbbc3aa47ecc48e6705df5c6b83976683f0dd436ad1562189d80110"
  }
 },
 "nbformat": 4,
 "nbformat_minor": 2
}