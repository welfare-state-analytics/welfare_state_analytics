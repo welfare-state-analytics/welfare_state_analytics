{
 "cells": [
  {
   "cell_type": "markdown",
   "id": "284b27bb",
   "metadata": {},
   "source": [
    "# Token Count Statistics\n",
    "### Text Processing Pipeline\n",
    "\n",
    "| | Building block | Arguments | Description |\n",
    "| -- | :------------- | :------------- | :------------- |\n",
    "| 💾 | <b>pyriksprot</b> | TF[20, MASK] | Extract corpus from Parla-CLARIN\n",
    "| 💾 | <b>pyriksprot (tagger)</b> | _ | PoS-tag and lemmatize\n",
    "| 💾 | <b>dtm_id</b> | _ | Create DTM\n",
    "| 💾 | <b>dtm </b> | _ | Create DTM\n",
    "\n"
   ]
  },
  {
   "cell_type": "code",
   "execution_count": null,
   "id": "b939508d",
   "metadata": {
    "tags": []
   },
   "outputs": [],
   "source": [
    "\n",
    "import __paths__  # pylint: disable=unused-import\n",
    "import importlib\n",
    "from os.path import join as jj\n",
    "\n",
    "import pandas as pd\n",
    "from bokeh.io import output_notebook\n",
    "from IPython.display import display\n",
    "\n",
    "from notebooks.riksdagens_protokoll.token_counts import pos_statistics_gui as ps\n",
    "from westac.riksprot.parlaclarin import metadata as md\n",
    "\n",
    "importlib.reload(ps)\n",
    "output_notebook()\n",
    "\n",
    "pd.set_option('display.max_rows', 2000)\n",
    "data_folder: str = jj(__paths__.data_folder, \"riksdagen_corpus_data/dtm_1920-2020_v0.3.0.tf20\")\n",
    "riksprot_metadata: md.ProtoMetaData = md.ProtoMetaData(members=jj(data_folder, 'person_index.zip'))\n",
    "\n",
    "gui = ps.PoSCountGUI(default_folder=data_folder, riksprot_metadata=riksprot_metadata).setup(load_data=True)\n",
    "display(gui.layout())"
   ]
  },
  {
   "cell_type": "code",
   "execution_count": null,
   "id": "53685ec0",
   "metadata": {},
   "outputs": [],
   "source": []
  }
 ],
 "metadata": {
  "jupytext": {
   "encoding": "# -*- coding: utf-8 -*-",
   "formats": "ipynb,py:percent"
  },
  "kernelspec": {
   "display_name": "Python 3 (ipykernel)",
   "language": "python",
   "name": "python3"
  }
 },
 "nbformat": 4,
 "nbformat_minor": 5
}
