{
 "cells": [
  {
   "cell_type": "markdown",
   "id": "965cbefd",
   "metadata": {},
   "source": [
    "# Token Count Statistics\n",
    "### Text Processing Pipeline\n",
    "\n",
    "| | Building block | Arguments | Description |\n",
    "| -- | :------------- | :------------- | :------------- |\n",
    "| 💾 | <b>pyriksprot</b> | TF[20, MASK] | Extract corpus from Parla-CLARIN\n",
    "| 💾 | <b>pyriksprot (tagger)</b> | _ | PoS-tag and lemmatize\n",
    "| 💾 | <b>dtm_id</b> | _ | Create DTM\n",
    "| 💾 | <b>dtm </b> | _ | Create DTM\n",
    "\n"
   ]
  },
  {
   "cell_type": "code",
   "execution_count": null,
   "id": "3a339fe1",
   "metadata": {
    "tags": []
   },
   "outputs": [],
   "source": [
    "\n",
    "import __paths__  # pylint: disable=unused-import\n",
    "import importlib\n",
    "from os.path import join as jj\n",
    "\n",
    "import pandas as pd\n",
    "from bokeh.io import output_notebook\n",
    "from IPython.display import display\n",
    "\n",
    "from notebooks.riksdagens_protokoll.token_counts import pos_statistics_gui as ps\n",
    "from westac.riksprot.parlaclarin import codecs as md\n",
    "\n",
    "importlib.reload(ps)\n",
    "output_notebook()\n",
    "\n",
    "pd.set_option('display.max_rows', 2000)\n",
    "\n",
    "data_folder: str = jj(__paths__.data_folder, \"riksdagen_corpus_data\")\n",
    "person_codecs: md.PersonCodecs = md.PersonCodecs().load(source=jj(data_folder, 'metadata/riksprot_metadata.main.db'))\n",
    "\n",
    "gui = ps.PoSCountGUI(\n",
    "    default_folder=jj(data_folder, \"dtm_041.1500000.TF20.mask\"),\n",
    "    person_codecs=person_codecs,\n",
    ").setup(load_data=True)\n",
    "\n",
    "display(gui.layout())"
   ]
  },
  {
   "cell_type": "code",
   "execution_count": null,
   "id": "ebe517ca",
   "metadata": {},
   "outputs": [],
   "source": []
  }
 ],
 "metadata": {
  "jupytext": {
   "encoding": "# -*- coding: utf-8 -*-",
   "formats": "ipynb,py:percent"
  },
  "kernelspec": {
   "display_name": "Python 3 (ipykernel)",
   "language": "python",
   "name": "python3"
  }
 },
 "nbformat": 4,
 "nbformat_minor": 5
}
