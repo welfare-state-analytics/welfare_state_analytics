{
 "cells": [
  {
   "cell_type": "markdown",
   "id": "e71897f2",
   "metadata": {},
   "source": [
    "# Token Count Statistics\n",
    "### Text Processing Pipeline\n",
    "\n",
    "| | Building block | Arguments | Description |\n",
    "| -- | :------------- | :------------- | :------------- |\n",
    "| 💾 | <b>pyriksprot (tagger(</b> | FIXME | FIXME\n",
    "| 💾 | <b>pyriksprot (extract)</b> | FIXME | FIXME\n",
    "\n"
   ]
  },
  {
   "cell_type": "code",
   "execution_count": null,
   "id": "91c5975b",
   "metadata": {
    "lines_to_next_cell": 0,
    "tags": []
   },
   "outputs": [
    {
     "ename": "",
     "evalue": "",
     "output_type": "error",
     "traceback": [
      "\u001b[1;31mUnable to start Kernel 'humlab-westac-O7wB9ikj-py3.8 (Python 3.8.5)' due to connection timeout. \n",
      "View Jupyter <a href='command:jupyter.viewOutput'>log</a> for further details."
     ]
    }
   ],
   "source": [
    "import __paths__  # pylint: disable=unused-import\n",
    "\n",
    "from IPython.core.display import display\n",
    "from notebooks.riksdagens_protokoll.token_counts.tokens_count_gui import PoSCountGUI\n",
    "\n",
    "\n",
    "gui = PoSCountGUI(default_folder='/data/riksdagen_corpus_data/dtm_1920-2020_v0.3.0.tf20').setup()\n",
    "display(gui.layout())"
   ]
  },
  {
   "cell_type": "code",
   "execution_count": null,
   "id": "8f883fa7",
   "metadata": {},
   "outputs": [],
   "source": []
  }
 ],
 "metadata": {
  "jupytext": {
   "encoding": "# -*- coding: utf-8 -*-",
   "formats": "ipynb,py:percent"
  },
  "kernelspec": {
   "display_name": "Python 3 (ipykernel)",
   "language": "python",
   "name": "python3"
  },
  "language_info": {
   "name": "python",
   "version": "3.8.5"
  }
 },
 "nbformat": 4,
 "nbformat_minor": 5
}
