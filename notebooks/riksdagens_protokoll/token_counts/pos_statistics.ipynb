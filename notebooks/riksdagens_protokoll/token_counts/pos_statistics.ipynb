{
 "cells": [
  {
   "cell_type": "markdown",
   "id": "e8c72109",
   "metadata": {},
   "source": [
    "# Token Count Statistics\n",
    "### Text Processing Pipeline\n",
    "\n",
    "| | Building block | Arguments | Description |\n",
    "| -- | :------------- | :------------- | :------------- |\n",
    "| 💾 | <b>pyriksprot</b> | TF[20, MASK] | Extract corpus from Parla-CLARIN\n",
    "| 💾 | <b>pyriksprot (tagger)</b> | _ | PoS-tag and lemmatize\n",
    "| 💾 | <b>dtm_id</b> | _ | Create DTM\n",
    "| 💾 | <b>dtm </b> | _ | Create DTM\n",
    "\n"
   ]
  },
  {
   "cell_type": "code",
   "execution_count": null,
   "id": "672f4f65",
   "metadata": {
    "tags": []
   },
   "outputs": [],
   "source": [
    "\n",
    "import __paths__  # pylint: disable=unused-import\n",
    "import importlib\n",
    "\n",
    "import pandas as pd\n",
    "from bokeh.io import output_notebook\n",
    "from IPython.display import display\n",
    "\n",
    "from notebooks.riksdagens_protokoll.token_counts import pos_statistics_gui as ps\n",
    "from westac.riksprot.parlaclarin import metadata\n",
    "\n",
    "importlib.reload(ps)\n",
    "output_notebook()\n",
    "\n",
    "pd.set_option('display.max_rows', 500)\n",
    "\n",
    "md: metadata.ProtoMetaData = metadata.ProtoMetaData.load_from_same_folder(\n",
    "    '/data/westac/riksdagen_corpus_data/dtm_1920-2020_v0.3.0.tf20'\n",
    ")\n",
    "\n",
    "gui = ps.PoSCountGUI(\n",
    "    default_folder='/data/westac/riksdagen_corpus_data/dtm_1920-2020_v0.3.0.tf20', riksprot_metadata=md\n",
    ").setup(load_data=True)\n",
    "display(gui.layout())"
   ]
  },
  {
   "cell_type": "code",
   "execution_count": null,
   "id": "d577337f",
   "metadata": {},
   "outputs": [],
   "source": []
  }
 ],
 "metadata": {
  "jupytext": {
   "encoding": "# -*- coding: utf-8 -*-",
   "formats": "ipynb,py:percent"
  },
  "kernelspec": {
   "display_name": "Python 3 (ipykernel)",
   "language": "python",
   "name": "python3"
  }
 },
 "nbformat": 4,
 "nbformat_minor": 5
}
