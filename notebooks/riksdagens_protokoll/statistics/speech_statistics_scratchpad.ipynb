{
 "cells": [
  {
   "cell_type": "code",
   "execution_count": null,
   "id": "57a091a8",
   "metadata": {},
   "outputs": [],
   "source": [
    "from dataclasses import dataclass\n",
    "\n",
    "import matplotlib.pyplot as plt"
   ]
  },
  {
   "cell_type": "code",
   "execution_count": null,
   "id": "c66e8f99",
   "metadata": {},
   "outputs": [],
   "source": [
    "import matplotlib.ticker as ticker\n",
    "import pandas as pd\n",
    "from IPython.display import display\n",
    "from ipywidgets import Dropdown, HBox, Output, ToggleButton, VBox\n",
    "\n",
    "pd.options.mode.chained_assignment = None\n",
    "\n",
    "# %matplotlib inline\n",
    "\n",
    "\n",
    "def load_speech_index(index_path: str, members_path: str) -> pd.DataFrame:\n",
    "    \"\"\"Load speech index. Merge with person index (parla. members, ministers, speakers)\"\"\"\n",
    "    speech_index: pd.DataFrame = pd.read_feather(index_path)\n",
    "    #     members: pd.DataFrame = pd.read_csv(members_path)\n",
    "    members: pd.DataFrame = pd.read_csv(members_path, delimiter='\\t').set_index('id')\n",
    "    speech_index['protocol_name'] = speech_index.filename.str.split('_').str[0]\n",
    "    speech_index = speech_index.merge(members, left_on='who', right_index=True, how='inner').fillna('')\n",
    "    speech_index.loc[speech_index['gender'] == '', 'gender'] = 'unknown'\n",
    "    return speech_index, members\n",
    "\n",
    "\n",
    "def plot_pivot(data: pd.DataFrame, kind: str):\n",
    "    if kind == 'table':\n",
    "        display(data.round(2))\n",
    "    elif kind == 'excel':\n",
    "        display(data.round(2))\n",
    "        data.to_excel('output.xlsx')\n",
    "        print('Saved as output.xlsx')\n",
    "    else:\n",
    "        data.plot(kind=kind, figsize=(20, 10))\n",
    "        plt.show()\n",
    "\n",
    "\n",
    "def compute_statistics(\n",
    "    *, temporal_key: str, pivot_key: str, pivot_sub_key: str, pivot_value: str, normalize: bool, mode: str\n",
    "):\n",
    "\n",
    "    data: pd.DataFrame = SPEECH_INDEX.copy()\n",
    "\n",
    "    if pivot_value:\n",
    "        data = data[data[pivot_key] == pivot_value]\n",
    "        pivot_key = pivot_sub_key\n",
    "\n",
    "    if temporal_key == 'decade':\n",
    "        data[temporal_key] = data.year - data.year % 10\n",
    "\n",
    "    pivot: pd.DataFrame = None\n",
    "\n",
    "    if mode == 'token':\n",
    "        pivot = data.groupby([temporal_key, pivot_key]).agg({'n_tokens': sum}).unstack(level=1)\n",
    "    elif mode == 'speech':\n",
    "        pivot = pd.DataFrame(data.groupby([temporal_key, pivot_key]).size()).unstack(level=1)\n",
    "    elif mode == 'speaker':\n",
    "        pivot = data.groupby([temporal_key, pivot_key]).agg({'who': lambda x: len(set(x))}).unstack(level=1)\n",
    "    pivot = pivot.fillna(0)\n",
    "\n",
    "    if normalize:\n",
    "        pivot = pivot.div(pivot.sum(axis=1), axis=0)\n",
    "    if hasattr(pivot.columns, 'levels'):\n",
    "        pivot.columns = pivot.columns.levels[1].tolist()\n",
    "\n",
    "    return pivot\n",
    "\n",
    "\n",
    "@dataclass\n",
    "class CaseOneGUI:\n",
    "\n",
    "    pivot_key: str = None\n",
    "    pivot_sub_key: str = None\n",
    "    pivot_values = Dropdown(description='Pivot', options=[], layout={'width': '160px'})\n",
    "    mode = Dropdown(\n",
    "        description='Mode', options=['token', 'speech', 'speaker'], value='token', layout={'width': '160px'}\n",
    "    )\n",
    "    period = Dropdown(description='Period', options=['year', 'decade'], value='decade', layout={'width': '160px'})\n",
    "    kind = Dropdown(\n",
    "        description='Kind', options=['area', 'line', 'bar', 'table', 'excel'], value='table', layout={'width': '160px'}\n",
    "    )\n",
    "    normalize = ToggleButton(description='Normalize', value=True, layout={'width': '160px'})\n",
    "    output = Output()\n",
    "\n",
    "    def layout(self):\n",
    "        return VBox(\n",
    "            [HBox([VBox([self.pivot_values, self.period]), VBox([self.kind, self.mode]), self.normalize]), self.output]\n",
    "        )\n",
    "\n",
    "    def setup(self, pivot_values) -> \"CaseOneGUI\":\n",
    "        self.pivot_values.options = pivot_values\n",
    "        self.pivot_values.observe(self.handler, 'value')\n",
    "        self.mode.observe(self.handler, 'value')\n",
    "        self.period.observe(self.handler, 'value')\n",
    "        self.kind.observe(self.handler, 'value')\n",
    "        self.normalize.observe(self.handler, 'value')\n",
    "        return self\n",
    "\n",
    "    def update(self):\n",
    "\n",
    "        opts: dict = dict(\n",
    "            temporal_key=self.period.value,\n",
    "            pivot_key=self.pivot_key,\n",
    "            pivot_sub_key=self.pivot_sub_key,\n",
    "            pivot_value=self.pivot_values.value,\n",
    "            normalize=self.normalize.value,\n",
    "            mode=self.mode.value,\n",
    "        )\n",
    "\n",
    "        self.output.clear_output()\n",
    "        with self.output:\n",
    "            # print(opts)\n",
    "            data: pd.DataFrame = compute_statistics(**opts)\n",
    "            plot_pivot(data, kind=self.kind.value)\n",
    "\n",
    "    def handler(self, *_):\n",
    "        self.update()\n",
    "\n",
    "\n",
    "SPEECH_INDEX, MEMBERS = load_speech_index(\n",
    "    '/data/westac/riksdagen_corpus_data/tagged-speech-corpus.v0.3.0.id.lemma.no-stopwords.lowercase.feather/document_index.feather',\n",
    "    '/data/westac/riksdagen_corpus_data/tagged-speech-corpus.v0.3.0.id.lemma.no-stopwords.lowercase.feather/person_index.csv',\n",
    ")\n",
    "\n",
    "PARTYS = SPEECH_INDEX.party_abbrev.unique().tolist()\n",
    "GENDERS = SPEECH_INDEX.gender.unique().tolist()"
   ]
  },
  {
   "cell_type": "code",
   "execution_count": null,
   "id": "f820de15",
   "metadata": {},
   "outputs": [],
   "source": [
    "# MEMBERS =  pd.read_csv('person_index.csv',delimiter='\\t').set_index('id')\n",
    "SPEECH_INDEX.party_abbrev.value_counts()"
   ]
  },
  {
   "cell_type": "markdown",
   "id": "b6e8a492",
   "metadata": {},
   "source": [
    "## Words/speeches per party over time\n",
    " - Ministers are encoded as party `gov` and gender `unknown`\n",
    " - Mode: `token` number of tokens, `speech` number of speeches, `speaker`number of unique speakers"
   ]
  },
  {
   "cell_type": "code",
   "execution_count": null,
   "id": "81537c43",
   "metadata": {},
   "outputs": [],
   "source": [
    "guip = CaseOneGUI(pivot_key='party_abbrev', pivot_sub_key='gender').setup(pivot_values=[''] + PARTYS)\n",
    "display(guip.layout())\n",
    "guip.update()"
   ]
  },
  {
   "cell_type": "markdown",
   "id": "495dd932",
   "metadata": {},
   "source": [
    "## Words/speeches per gender over time"
   ]
  },
  {
   "cell_type": "code",
   "execution_count": null,
   "id": "646a5ada",
   "metadata": {},
   "outputs": [],
   "source": [
    "guig = CaseOneGUI(pivot_key='gender').setup(pivot_values=[''] + GENDERS)\n",
    "display(guig.layout())\n",
    "guig.update()"
   ]
  },
  {
   "cell_type": "markdown",
   "id": "81329bf8",
   "metadata": {},
   "source": [
    "## Words per speech over time\n"
   ]
  },
  {
   "cell_type": "code",
   "execution_count": null,
   "id": "9da40b8c",
   "metadata": {},
   "outputs": [],
   "source": [
    "pd.set_option('display.max_rows', 1000)\n",
    "print('NOTE 1995 REMOVED')\n",
    "SPEECH_INDEX[SPEECH_INDEX.year != 1995].groupby(['year', 'gender']).agg(\n",
    "    {'n_tokens': lambda x: sum(x) / len(x)}\n",
    ").unstack(level=1).plot(figsize=(20, 10))"
   ]
  },
  {
   "cell_type": "markdown",
   "id": "cb5d7eab",
   "metadata": {},
   "source": [
    "# Additional quality metrics"
   ]
  },
  {
   "cell_type": "code",
   "execution_count": null,
   "id": "7e1fde70",
   "metadata": {},
   "outputs": [],
   "source": [
    "SPEECH_INDEX.groupby(['protocol_name'])['n_tokens'].sum().hist(bins=1000, figsize=(20, 10))"
   ]
  },
  {
   "cell_type": "code",
   "execution_count": null,
   "id": "be517836",
   "metadata": {},
   "outputs": [],
   "source": [
    "\n",
    "print(MEMBERS.columns)\n",
    "# SPEECH_INDEX[SPEECH_INDEX.born != ''].groupby(['born']).size().plot() # TODO FIXA GENOMSNITTSÅLDER\n",
    "# SPEECH_INDEX.groupby(['year','party_abbrev']).agg({'born': lambda x: next((z for z in x if z != ''),-1)})\n",
    "\n",
    "\n",
    "def count_empty(x):\n",
    "    return (x.isna() | x.isnull() | x.eq('') | x.eq('unknown')).sum()\n",
    "\n",
    "\n",
    "empty_percentages_stats = []\n",
    "\n",
    "for col in MEMBERS.columns:\n",
    "    #     print(f\"Members without {col} specified: {round((MEMBERS[col].isna().sum()) / len(MEMBERS['born']),4)*100}%\")\n",
    "    empty_percentage = round(count_empty(MEMBERS[col]) / len(MEMBERS['born']) * 100, 3)\n",
    "    if empty_percentage > 0:\n",
    "        empty_percentages_stats.append((col, empty_percentage))\n",
    "#         print(f\"Members without {col} specified: {empty_percentage}%\")\n",
    "pd.DataFrame(empty_percentages_stats, columns=['Value', 'Missing (%)']).set_index('Value').plot.bar()"
   ]
  },
  {
   "cell_type": "code",
   "execution_count": null,
   "id": "8c0412e0",
   "metadata": {},
   "outputs": [],
   "source": [
    "MEMBERS.groupby(['occupation']).size().sort_values(ascending=False).head(30)\n",
    "# MEMBERS"
   ]
  },
  {
   "cell_type": "code",
   "execution_count": null,
   "id": "c62860ac",
   "metadata": {},
   "outputs": [],
   "source": [
    "SPEECH_INDEX.groupby(['protocol_name']).size().hist(bins=100, figsize=(20, 10))"
   ]
  },
  {
   "cell_type": "code",
   "execution_count": null,
   "id": "3b6d7cbf",
   "metadata": {},
   "outputs": [],
   "source": []
  },
  {
   "cell_type": "code",
   "execution_count": null,
   "id": "af5266f9",
   "metadata": {},
   "outputs": [],
   "source": [
    "print(SPEECH_INDEX.columns)\n",
    "SPEECH_INDEX.head(10)"
   ]
  },
  {
   "cell_type": "code",
   "execution_count": null,
   "id": "2b612980",
   "metadata": {},
   "outputs": [],
   "source": [
    "SPEECH_INDEX.groupby(['protocol_name']).size().hist(bins=100, figsize=(20, 10))"
   ]
  },
  {
   "cell_type": "markdown",
   "id": "e04a393a",
   "metadata": {},
   "source": [
    "# Statistik\n",
    "\n",
    "1. Procentuell bar eller area. Normalisera efter antal ledamöter?\n",
    "2. Män och kvinnor (samma bild som ovan)\n",
    "3. Snitt längd av tal pedatar år, kön?\n"
   ]
  },
  {
   "cell_type": "code",
   "execution_count": null,
   "id": "94c95fde",
   "metadata": {},
   "outputs": [],
   "source": [
    "year_group = SPEECH_INDEX[SPEECH_INDEX.year != 1995].drop(columns='document_id').groupby('year')\n",
    "\n",
    "ax = year_group.size().hist(bins=20, figsize=(20, 10))\n",
    "ax.set_title('Histogram of number of speeches per year')"
   ]
  },
  {
   "cell_type": "code",
   "execution_count": null,
   "id": "61d04142",
   "metadata": {},
   "outputs": [],
   "source": [
    "year_group.size().plot(figsize=(20, 10), title='Number of speeches per year')"
   ]
  },
  {
   "cell_type": "code",
   "execution_count": null,
   "id": "ecfdf4e8",
   "metadata": {},
   "outputs": [],
   "source": [
    "year_group['n_tokens'].sum().div(year_group.size()).plot.bar(\n",
    "    figsize=(20, 10), title='Speech length on average per year', rot=90\n",
    ")\n",
    "\n",
    "\n",
    "axes = year_group['n_tokens'].describe().plot(subplots=True, figsize=(20, 20), rot=90)\n",
    "\n",
    "for ax in axes:\n",
    "    ax.xaxis.set_major_locator(ticker.MultipleLocator(1))"
   ]
  },
  {
   "cell_type": "code",
   "execution_count": null,
   "id": "aef4115d",
   "metadata": {},
   "outputs": [],
   "source": [
    "year_party = SPEECH_INDEX[SPEECH_INDEX.year != 1995].drop(columns=['document_id']).groupby(['year', 'party_abbrev'])\n",
    "year_party.describe()"
   ]
  }
 ],
 "metadata": {
  "jupytext": {
   "encoding": "# -*- coding: utf-8 -*-",
   "formats": "ipynb,py:percent"
  },
  "kernelspec": {
   "display_name": "Python 3 (ipykernel)",
   "language": "python",
   "name": "python3"
  }
 },
 "nbformat": 4,
 "nbformat_minor": 5
}
