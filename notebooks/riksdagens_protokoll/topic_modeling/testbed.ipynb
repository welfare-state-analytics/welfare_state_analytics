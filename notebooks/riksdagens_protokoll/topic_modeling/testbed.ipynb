{
 "cells": [
  {
   "cell_type": "code",
   "execution_count": 3,
   "metadata": {},
   "outputs": [
    {
     "data": {
      "text/plain": [
       "{'status': 'ok', 'restart': True}"
      ]
     },
     "execution_count": 3,
     "metadata": {},
     "output_type": "execute_result"
    }
   ],
   "source": [
    "import IPython\n",
    "IPython.Application.instance().kernel.do_shutdown(True) "
   ]
  },
  {
   "cell_type": "code",
   "execution_count": 3,
   "metadata": {},
   "outputs": [
    {
     "data": {
      "application/javascript": "\n(function(root) {\n  function now() {\n    return new Date();\n  }\n\n  const force = true;\n\n  if (typeof root._bokeh_onload_callbacks === \"undefined\" || force === true) {\n    root._bokeh_onload_callbacks = [];\n    root._bokeh_is_loading = undefined;\n  }\n\n  const JS_MIME_TYPE = 'application/javascript';\n  const HTML_MIME_TYPE = 'text/html';\n  const EXEC_MIME_TYPE = 'application/vnd.bokehjs_exec.v0+json';\n  const CLASS_NAME = 'output_bokeh rendered_html';\n\n  /**\n   * Render data to the DOM node\n   */\n  function render(props, node) {\n    const script = document.createElement(\"script\");\n    node.appendChild(script);\n  }\n\n  /**\n   * Handle when an output is cleared or removed\n   */\n  function handleClearOutput(event, handle) {\n    const cell = handle.cell;\n\n    const id = cell.output_area._bokeh_element_id;\n    const server_id = cell.output_area._bokeh_server_id;\n    // Clean up Bokeh references\n    if (id != null && id in Bokeh.index) {\n      Bokeh.index[id].model.document.clear();\n      delete Bokeh.index[id];\n    }\n\n    if (server_id !== undefined) {\n      // Clean up Bokeh references\n      const cmd_clean = \"from bokeh.io.state import curstate; print(curstate().uuid_to_server['\" + server_id + \"'].get_sessions()[0].document.roots[0]._id)\";\n      cell.notebook.kernel.execute(cmd_clean, {\n        iopub: {\n          output: function(msg) {\n            const id = msg.content.text.trim();\n            if (id in Bokeh.index) {\n              Bokeh.index[id].model.document.clear();\n              delete Bokeh.index[id];\n            }\n          }\n        }\n      });\n      // Destroy server and session\n      const cmd_destroy = \"import bokeh.io.notebook as ion; ion.destroy_server('\" + server_id + \"')\";\n      cell.notebook.kernel.execute(cmd_destroy);\n    }\n  }\n\n  /**\n   * Handle when a new output is added\n   */\n  function handleAddOutput(event, handle) {\n    const output_area = handle.output_area;\n    const output = handle.output;\n\n    // limit handleAddOutput to display_data with EXEC_MIME_TYPE content only\n    if ((output.output_type != \"display_data\") || (!Object.prototype.hasOwnProperty.call(output.data, EXEC_MIME_TYPE))) {\n      return\n    }\n\n    const toinsert = output_area.element.find(\".\" + CLASS_NAME.split(' ')[0]);\n\n    if (output.metadata[EXEC_MIME_TYPE][\"id\"] !== undefined) {\n      toinsert[toinsert.length - 1].firstChild.textContent = output.data[JS_MIME_TYPE];\n      // store reference to embed id on output_area\n      output_area._bokeh_element_id = output.metadata[EXEC_MIME_TYPE][\"id\"];\n    }\n    if (output.metadata[EXEC_MIME_TYPE][\"server_id\"] !== undefined) {\n      const bk_div = document.createElement(\"div\");\n      bk_div.innerHTML = output.data[HTML_MIME_TYPE];\n      const script_attrs = bk_div.children[0].attributes;\n      for (let i = 0; i < script_attrs.length; i++) {\n        toinsert[toinsert.length - 1].firstChild.setAttribute(script_attrs[i].name, script_attrs[i].value);\n        toinsert[toinsert.length - 1].firstChild.textContent = bk_div.children[0].textContent\n      }\n      // store reference to server id on output_area\n      output_area._bokeh_server_id = output.metadata[EXEC_MIME_TYPE][\"server_id\"];\n    }\n  }\n\n  function register_renderer(events, OutputArea) {\n\n    function append_mime(data, metadata, element) {\n      // create a DOM node to render to\n      const toinsert = this.create_output_subarea(\n        metadata,\n        CLASS_NAME,\n        EXEC_MIME_TYPE\n      );\n      this.keyboard_manager.register_events(toinsert);\n      // Render to node\n      const props = {data: data, metadata: metadata[EXEC_MIME_TYPE]};\n      render(props, toinsert[toinsert.length - 1]);\n      element.append(toinsert);\n      return toinsert\n    }\n\n    /* Handle when an output is cleared or removed */\n    events.on('clear_output.CodeCell', handleClearOutput);\n    events.on('delete.Cell', handleClearOutput);\n\n    /* Handle when a new output is added */\n    events.on('output_added.OutputArea', handleAddOutput);\n\n    /**\n     * Register the mime type and append_mime function with output_area\n     */\n    OutputArea.prototype.register_mime_type(EXEC_MIME_TYPE, append_mime, {\n      /* Is output safe? */\n      safe: true,\n      /* Index of renderer in `output_area.display_order` */\n      index: 0\n    });\n  }\n\n  // register the mime type if in Jupyter Notebook environment and previously unregistered\n  if (root.Jupyter !== undefined) {\n    const events = require('base/js/events');\n    const OutputArea = require('notebook/js/outputarea').OutputArea;\n\n    if (OutputArea.prototype.mime_types().indexOf(EXEC_MIME_TYPE) == -1) {\n      register_renderer(events, OutputArea);\n    }\n  }\n\n  \n  if (typeof (root._bokeh_timeout) === \"undefined\" || force === true) {\n    root._bokeh_timeout = Date.now() + 5000;\n    root._bokeh_failed_load = false;\n  }\n\n  const NB_LOAD_WARNING = {'data': {'text/html':\n     \"<div style='background-color: #fdd'>\\n\"+\n     \"<p>\\n\"+\n     \"BokehJS does not appear to have successfully loaded. If loading BokehJS from CDN, this \\n\"+\n     \"may be due to a slow or bad network connection. Possible fixes:\\n\"+\n     \"</p>\\n\"+\n     \"<ul>\\n\"+\n     \"<li>re-rerun `output_notebook()` to attempt to load from CDN again, or</li>\\n\"+\n     \"<li>use INLINE resources instead, as so:</li>\\n\"+\n     \"</ul>\\n\"+\n     \"<code>\\n\"+\n     \"from bokeh.resources import INLINE\\n\"+\n     \"output_notebook(resources=INLINE)\\n\"+\n     \"</code>\\n\"+\n     \"</div>\"}};\n\n  function display_loaded() {\n    const el = document.getElementById(null);\n    if (el != null) {\n      el.textContent = \"BokehJS is loading...\";\n    }\n    if (root.Bokeh !== undefined) {\n      if (el != null) {\n        el.textContent = \"BokehJS \" + root.Bokeh.version + \" successfully loaded.\";\n      }\n    } else if (Date.now() < root._bokeh_timeout) {\n      setTimeout(display_loaded, 100)\n    }\n  }\n\n\n  function run_callbacks() {\n    try {\n      root._bokeh_onload_callbacks.forEach(function(callback) {\n        if (callback != null)\n          callback();\n      });\n    } finally {\n      delete root._bokeh_onload_callbacks\n    }\n    console.debug(\"Bokeh: all callbacks have finished\");\n  }\n\n  function load_libs(css_urls, js_urls, callback) {\n    if (css_urls == null) css_urls = [];\n    if (js_urls == null) js_urls = [];\n\n    root._bokeh_onload_callbacks.push(callback);\n    if (root._bokeh_is_loading > 0) {\n      console.debug(\"Bokeh: BokehJS is being loaded, scheduling callback at\", now());\n      return null;\n    }\n    if (js_urls == null || js_urls.length === 0) {\n      run_callbacks();\n      return null;\n    }\n    console.debug(\"Bokeh: BokehJS not loaded, scheduling load and callback at\", now());\n    root._bokeh_is_loading = css_urls.length + js_urls.length;\n\n    function on_load() {\n      root._bokeh_is_loading--;\n      if (root._bokeh_is_loading === 0) {\n        console.debug(\"Bokeh: all BokehJS libraries/stylesheets loaded\");\n        run_callbacks()\n      }\n    }\n\n    function on_error(url) {\n      console.error(\"failed to load \" + url);\n    }\n\n    for (let i = 0; i < css_urls.length; i++) {\n      const url = css_urls[i];\n      const element = document.createElement(\"link\");\n      element.onload = on_load;\n      element.onerror = on_error.bind(null, url);\n      element.rel = \"stylesheet\";\n      element.type = \"text/css\";\n      element.href = url;\n      console.debug(\"Bokeh: injecting link tag for BokehJS stylesheet: \", url);\n      document.body.appendChild(element);\n    }\n\n    for (let i = 0; i < js_urls.length; i++) {\n      const url = js_urls[i];\n      const element = document.createElement('script');\n      element.onload = on_load;\n      element.onerror = on_error.bind(null, url);\n      element.async = false;\n      element.src = url;\n      console.debug(\"Bokeh: injecting script tag for BokehJS library: \", url);\n      document.head.appendChild(element);\n    }\n  };\n\n  function inject_raw_css(css) {\n    const element = document.createElement(\"style\");\n    element.appendChild(document.createTextNode(css));\n    document.body.appendChild(element);\n  }\n\n  \n  const js_urls = [\"https://cdn.bokeh.org/bokeh/release/bokeh-2.4.2.min.js\", \"https://cdn.bokeh.org/bokeh/release/bokeh-gl-2.4.2.min.js\", \"https://cdn.bokeh.org/bokeh/release/bokeh-widgets-2.4.2.min.js\", \"https://cdn.bokeh.org/bokeh/release/bokeh-tables-2.4.2.min.js\", \"https://cdn.bokeh.org/bokeh/release/bokeh-mathjax-2.4.2.min.js\"];\n  const css_urls = [];\n  \n\n  const inline_js = [\n    function(Bokeh) {\n      Bokeh.set_log_level(\"info\");\n    },\n    function(Bokeh) {\n    \n    \n    }\n  ];\n\n  function run_inline_js() {\n    \n    if (root.Bokeh !== undefined || force === true) {\n      \n    for (let i = 0; i < inline_js.length; i++) {\n      inline_js[i].call(root, root.Bokeh);\n    }\n    } else if (Date.now() < root._bokeh_timeout) {\n      setTimeout(run_inline_js, 100);\n    } else if (!root._bokeh_failed_load) {\n      console.log(\"Bokeh: BokehJS failed to load within specified timeout.\");\n      root._bokeh_failed_load = true;\n    } else if (force !== true) {\n      const cell = $(document.getElementById(null)).parents('.cell').data().cell;\n      cell.output_area.append_execute_result(NB_LOAD_WARNING)\n    }\n\n  }\n\n  if (root._bokeh_is_loading === 0) {\n    console.debug(\"Bokeh: BokehJS loaded, going straight to plotting\");\n    run_inline_js();\n  } else {\n    load_libs(css_urls, js_urls, function() {\n      console.debug(\"Bokeh: BokehJS plotting callback run at\", now());\n      run_inline_js();\n    });\n  }\n}(window));",
      "application/vnd.bokehjs_load.v0+json": ""
     },
     "metadata": {},
     "output_type": "display_data"
    },
    {
     "name": "stderr",
     "output_type": "stream",
     "text": [
      "2022-02-06 13:24:58.724 | INFO     | westac.riksprot.parlaclarin.speech_text:get_github_tags:132 - GITHUB_ACCESS_TOKEN not set\n"
     ]
    },
    {
     "data": {
      "application/vnd.jupyter.widget-view+json": {
       "model_id": "ed3f1fc649b14189a7174a7c781d49b9",
       "version_major": 2,
       "version_minor": 0
      },
      "text/plain": [
       "VBox(children=(HBox(children=(VBox(children=(HBox(children=(HBox(children=(Button(description='<<', layout=Lay…"
      ]
     },
     "metadata": {},
     "output_type": "display_data"
    }
   ],
   "source": [
    "import __paths__\n",
    "\n",
    "from notebooks.riksdagens_protokoll import topic_modeling as wtm\n",
    "from penelope import topic_modelling as tm\n",
    "from penelope.notebook import topic_modelling as ntm\n",
    "import westac.riksprot.parlaclarin.metadata as md\n",
    "import westac.riksprot.parlaclarin.speech_text as sr\n",
    "from penelope import utility as pu\n",
    "\n",
    "from IPython.display import display\n",
    "from bokeh.io import output_notebook\n",
    "\n",
    "\n",
    "output_notebook(hide_banner=True)\n",
    "pu.set_default_options()\n",
    "\n",
    "model_folder: str = \"/data/westac/riksdagen_corpus_data/tm_1920-2020_500-TF5-MP0.02.500000.lemma.mallet\"\n",
    "riksprot_metadata: md.ProtoMetaData = md.ProtoMetaData(\n",
    "    members=\"/data/westac/riksdagen_corpus_data/dtm_1920-2020_v0.3.0.tf20/person_index.zip\"\n",
    ")\n",
    "speech_repository: sr.SpeechTextRepository = sr.SpeechTextRepository(\n",
    "    folder=\"/data/westac/riksdagen_corpus_data/tagged_frames_v0.3.0_20201218\",\n",
    "    riksprot_metadata=riksprot_metadata,\n",
    ")\n",
    "# FIXME #166 Load fails if topic models if topic model is slimmed-\n",
    "inferred_topics: tm.InferredTopicsData = tm.InferredTopicsData.load(\n",
    "    # folder=\"/data/westac/riksdagen_corpus_data/tm_1920-2020_500-topics-mallet/\",\n",
    "    folder=model_folder,\n",
    "    slim=True,\n",
    ")\n",
    "inferred_topics.document_index = riksprot_metadata.overload_by_member_data(\n",
    "    inferred_topics.document_index, encoded=True, drop=True\n",
    ")\n",
    "state = dict(inferred_topics=inferred_topics)\n",
    "# ui = wtm.RiksprotLoadGUI(riksprot_metadata, corpus_folder=\"/data/westac/riksdagen_corpus_data/\", corpus_config=None,state=state, slim=True).setup()\n",
    "# ui = ntm.WordcloudGUI(state).setup()\n",
    "#ui = wtm.RiksprotFindTopicDocumentsGUI(riksprot_metadata, speech_repository=speech_repository, state=state).setup()\n",
    "# ui = wtm.RiksprotBrowseTopicDocumentsGUI(riksprot_metadata, speech_repository=speech_repository, state=state).setup()\n",
    "#ui = wtm.RiksprotTopicTrendsGUI(riksprot_metadata, speech_repository=speech_repository, state=state).setup()\n",
    "# ui = ntm.TopicOverviewGUI(state=state).setup()\n",
    "ui = wtm.RiksprotTopicTrendsOverviewGUI(riksprot_metadata, speech_repository=speech_repository, state=state).setup()\n",
    "# ui = ntm.TopicTrendsGUI(state=state).setup()\n",
    "# ui = wtm.RiksprotTopicTrendsGUI(riksprot_metadata, speech_repository=speech_repository, state=state).setup()\n",
    "# ui = ntm.TopicTopicGUI(state=state).setup()\n",
    "# ui = wtm.RiksprotTopicTopicGUI(riksprot_metadata, speech_repository=speech_repository, state=state).setup()\n",
    "# ui = ntm.PivotTopicNetworkGUI(pivot_key_specs=riksprot_metadata.member_property_specs, state=state).setup()\n",
    "# ui = wtm.RiksprotTopicTopicGUI(riksprot_metadata, speech_repository=speech_repository, state=state).setup()\n",
    "# ui = ntm.EditTopicLabelsGUI(folder=model_folder, state=state).setup()\n",
    "# ui: ntm.DefaultTopicDocumentNetworkGui = ntm.DefaultTopicDocumentNetworkGui(\n",
    "#     pivot_key_specs=riksprot_metadata.member_property_specs, state=state\n",
    "# ).setup()\n",
    "# ui: ntm.FocusTopicDocumentNetworkGui = ntm.FocusTopicDocumentNetworkGui(\n",
    "#     pivot_key_specs=riksprot_metadata.member_property_specs, state=state\n",
    "# ).setup()\n",
    "#ui._find_text.value = \"byggnad\"\n",
    "display(ui.layout())\n",
    "ui.update_handler()"
   ]
  },
  {
   "cell_type": "code",
   "execution_count": null,
   "metadata": {},
   "outputs": [],
   "source": []
  },
  {
   "cell_type": "code",
   "execution_count": null,
   "metadata": {},
   "outputs": [],
   "source": [
    "import ipycytoscape\n",
    "\n",
    "g = ipycytoscape.CytoscapeWidget()\n",
    "ui.topic_topic_data\n",
    "def plot_network(self, layout='circle', pie=False, height=None, width=None):\n",
    "    \"\"\"\n",
    "    Notes\n",
    "    -----\n",
    "    Reduced functionalities when NOT opened from jupyter.\n",
    "    Parameters\n",
    "    ----------\n",
    "    layout : str\n",
    "        Cytoscape network layout - e.g. circle, cola, grid, breadthfirst, concentric, dagre, random,  etc.\n",
    "    pie : bool\n",
    "        Whether to include pie chart in nodes (according to associated rob)\n",
    "    height : str\n",
    "        Interactive widget height; e.g. '400px'\n",
    "    width : str\n",
    "        Interactive widget width; e.g. '400px'\n",
    "    Returns\n",
    "    -------\n",
    "    ipycytoscape.cytoscape.CytoscapeWidget\n",
    "    \"\"\"\n",
    "    cyG = ipycytoscape.CytoscapeWidget(cytoscape_layout={'name': layout})\n",
    "    cy_edges, cy_nodes = get_network(self.net_data, sep=True)\n",
    "    cyG.graph.add_graph_from_json({'nodes':cy_nodes, 'edges':cy_edges})\n",
    "    cyG.set_style(get_stylesheet(pie=pie))\n",
    "    if height: cyG.layout.height = '200px'\n",
    "    if width: cyG.layout.width = '800px'\n",
    "    if self._is_jupyter:\n",
    "        return cyG\n",
    "    else:\n",
    "        _net_plot_path = 'nmastudio/__temp/export.html'\n",
    "        embed_minimal_html(_net_plot_path, views=[cyG], title='NMA Studio - Treatments network')\n",
    "        webbrowser.open(f'file://{os.getcwd()}/{_net_plot_path}', new=2)\n"
   ]
  },
  {
   "cell_type": "code",
   "execution_count": 3,
   "metadata": {},
   "outputs": [
    {
     "data": {
      "application/vnd.jupyter.widget-view+json": {
       "model_id": "0c6569bd6f994054a02437f4435bf199",
       "version_major": 2,
       "version_minor": 0
      },
      "text/plain": [
       "HTML(value='<a href=\"https://github.com/welfare-state-analytics/riksdagen-corpus/blob/main/corpus/1920/prot-19…"
      ]
     },
     "metadata": {},
     "output_type": "display_data"
    }
   ],
   "source": [
    "import ipywidgets as w\n",
    "\n",
    "text = w.HTML(speech_repository.to_parla_clarin_urls(\"prot-1920--ak--1.xml\"))\n",
    "display(text)"
   ]
  }
 ],
 "metadata": {
  "interpreter": {
   "hash": "c22f82ccfa1d80f2c176850ec35c88353fcd6863d8576bf0e63cd8d1a0005989"
  },
  "kernelspec": {
   "display_name": "Python 3 (ipykernel)",
   "language": "python",
   "name": "python3"
  },
  "language_info": {
   "codemirror_mode": {
    "name": "ipython",
    "version": 3
   },
   "file_extension": ".py",
   "mimetype": "text/x-python",
   "name": "python",
   "nbconvert_exporter": "python",
   "pygments_lexer": "ipython3",
   "version": "3.8.5"
  }
 },
 "nbformat": 4,
 "nbformat_minor": 4
}
