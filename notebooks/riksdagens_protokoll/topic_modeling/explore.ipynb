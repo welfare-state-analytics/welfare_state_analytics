{
 "cells": [
  {
   "cell_type": "markdown",
   "id": "200e5590",
   "metadata": {},
   "source": [
    "## Text Analysis - Topic Modelling\n",
    "### <span style='color: green'>SETUP </span> Setup Notebook<span style='float: right; color: red'>MANDATORY</span>"
   ]
  },
  {
   "cell_type": "code",
   "execution_count": null,
   "id": "e3f71333",
   "metadata": {},
   "outputs": [],
   "source": [
    "import __paths__  # pylint: disable=unused-import\n",
    "import os\n",
    "\n",
    "import pandas as pd\n",
    "from bokeh.io import output_notebook\n",
    "from IPython.display import display\n",
    "from penelope import utility as pu\n",
    "from penelope.notebook import topic_modelling as ntm\n",
    "\n",
    "import westac.riksprot.parlaclarin.speech_text as sr\n",
    "from notebooks.riksdagens_protokoll import topic_modeling as wtm\n",
    "from westac.riksprot.parlaclarin import codecs as md\n",
    "\n",
    "jj = os.path.join\n",
    "output_notebook()\n",
    "pu.set_default_options()\n",
    "\n",
    "current_state: ntm.TopicModelContainer = ntm.TopicModelContainer.singleton\n",
    "\n",
    "data_folder: str = jj(__paths__.data_folder, \"riksdagen_corpus_data\")\n",
    "codecs_filename: str = jj(data_folder, \"metadata/riksprot_metadata.main.db\")\n",
    "speech_index_filename: str = jj(data_folder, 'tagged_frames_v0.4.1_speeches.feather/document_index.feather')\n",
    "speech_folder: str = jj(data_folder, 'tagged_frames_v0.4.1')\n",
    "\n",
    "person_codecs: md.PersonCodecs = md.PersonCodecs().load(source=codecs_filename)\n",
    "speech_index: pd.DataFrame = pd.read_feather(speech_index_filename)\n",
    "speech_repository: sr.SpeechTextRepository = sr.SpeechTextRepository(\n",
    "    source=speech_folder,\n",
    "    person_codecs=person_codecs,\n",
    "    document_index=speech_index,\n",
    ")\n",
    "\n",
    "default_args: dict = dict(person_codecs=person_codecs, speech_repository=speech_repository, state=current_state())"
   ]
  },
  {
   "cell_type": "code",
   "execution_count": null,
   "id": "779e60b9",
   "metadata": {},
   "outputs": [],
   "source": [
    "# ! jupytext --to py:percent explore.ipynb\n",
    "# ! cat /data/westac/riksdagen_corpus_data/tm_1920-2020_500-TF5-MP0.02.500000.lemma.mallet/topic_token_overview_label.csv"
   ]
  },
  {
   "cell_type": "markdown",
   "id": "193df739",
   "metadata": {},
   "source": [
    "### <span style='color: green'>SETUP </span> Load Model<span style='float: right; color: red'>MANDATORY</span>\n"
   ]
  },
  {
   "cell_type": "code",
   "execution_count": null,
   "id": "847a0dc8",
   "metadata": {
    "lines_to_next_cell": 0
   },
   "outputs": [],
   "source": [
    "load_gui: wtm.RiksprotLoadGUI = wtm.RiksprotLoadGUI(\n",
    "    person_codecs, corpus_folder=data_folder, state=current_state(), slim=True\n",
    ").setup()\n",
    "display(load_gui.layout())"
   ]
  },
  {
   "cell_type": "markdown",
   "id": "62d10a1d",
   "metadata": {},
   "source": [
    "### <span style='color: green'>PREPARE </span> Edit Topic Labels<span style='float: right; color: red'></span>\n"
   ]
  },
  {
   "cell_type": "code",
   "execution_count": null,
   "id": "d4f54ca2",
   "metadata": {},
   "outputs": [],
   "source": [
    "display(ntm.EditTopicLabelsGUI(folder=load_gui.loaded_model_folder, state=current_state()).setup().layout())"
   ]
  },
  {
   "cell_type": "markdown",
   "id": "107a4bf8",
   "metadata": {},
   "source": [
    "### <span style='color: green;'>VISUALIZE</span> Display Topic's Word Distribution as a Wordcloud<span style='color: red; float: right'> TRY IT</span>"
   ]
  },
  {
   "cell_type": "code",
   "execution_count": null,
   "id": "77ff918c",
   "metadata": {},
   "outputs": [],
   "source": [
    "wc_ui = ntm.WordcloudGUI(current_state()).setup()\n",
    "display(wc_ui.layout())\n",
    "wc_ui.update_handler()"
   ]
  },
  {
   "cell_type": "markdown",
   "id": "22468e70",
   "metadata": {},
   "source": [
    "### <span style='color: green;'>BROWSE</span> Find topic's documents by token<span style='color: red; float: right'>TRY IT</span>\n",
    "Displays documents having topics in which given token is in toplist of dominant words."
   ]
  },
  {
   "cell_type": "code",
   "execution_count": null,
   "id": "7631fbf0",
   "metadata": {},
   "outputs": [],
   "source": [
    "display(wtm.RiksprotFindTopicDocumentsGUI(**default_args).setup().layout())"
   ]
  },
  {
   "cell_type": "markdown",
   "id": "2f5637f0",
   "metadata": {},
   "source": [
    "### <span style='color: green;'>VISUALIZE</span> Topic-Word Distribution<span style='color: red; float: right'>TRY IT</span>\n"
   ]
  },
  {
   "cell_type": "code",
   "execution_count": null,
   "id": "e71e8a0f",
   "metadata": {},
   "outputs": [],
   "source": [
    "ntm.display_topic_word_distribution_gui(current_state())"
   ]
  },
  {
   "cell_type": "markdown",
   "id": "37432083",
   "metadata": {},
   "source": [
    "### <span style='color: green;'>BROWSE</span> Browse Topic Documents<span style='color: red; float: right'>TRY IT</span>\n",
    "\n",
    "Displays documents in which a topic occurs above a given threshold."
   ]
  },
  {
   "cell_type": "code",
   "execution_count": null,
   "id": "97a01d5b",
   "metadata": {},
   "outputs": [],
   "source": [
    "display(wtm.RiksprotBrowseTopicDocumentsGUI(**default_args).setup().layout())"
   ]
  },
  {
   "cell_type": "markdown",
   "id": "68bace40",
   "metadata": {},
   "source": [
    "### <span style='color: green;'>VISUALIZE</span> Topic Trends over Time<span style='color: red; float: right'>RUN</span>"
   ]
  },
  {
   "cell_type": "code",
   "execution_count": null,
   "id": "08581605",
   "metadata": {},
   "outputs": [],
   "source": [
    "display(wtm.RiksprotTopicTrendsGUI(**default_args).setup().layout())"
   ]
  },
  {
   "cell_type": "markdown",
   "id": "1a33caed",
   "metadata": {},
   "source": [
    "### <span style='color: green;'>VISUALIZE</span> Topic Trends Overview<span style='color: red; float: right'>TRY IT</span>\n",
    "The topic shares  displayed as a scattered heatmap plot using gradient color based on topic's weight in documen (see [Stanford’s Termite software](http://vis.stanford.edu/papers/termite).\n"
   ]
  },
  {
   "cell_type": "code",
   "execution_count": null,
   "id": "97b75792",
   "metadata": {},
   "outputs": [],
   "source": [
    "display(wtm.RiksprotTopicTrendsOverviewGUI(**default_args).setup().layout())"
   ]
  },
  {
   "cell_type": "markdown",
   "id": "7c1dcbd8",
   "metadata": {},
   "source": [
    "### <span style='color: green;'>VISUALIZE</span> Topic Topic Network<span style='color: red; float: right'>TRY IT</span>\n",
    "\n",
    "Computes weighted graph of topics co-occurring in the same document. Topics are defined as co-occurring in a document if they both have a weight above given threshold. The edge weights are the number of co-occurrences (binary yes or no). Node size reflects topic proportions over the entire corpus computed in accordance to LDAvis topic proportions."
   ]
  },
  {
   "cell_type": "code",
   "execution_count": null,
   "id": "868e1db2",
   "metadata": {},
   "outputs": [],
   "source": [
    "display(wtm.RiksprotTopicTopicGUI(**default_args).setup().layout())"
   ]
  },
  {
   "cell_type": "markdown",
   "id": "25c76753",
   "metadata": {},
   "source": [
    "### <span style='color: green;'>VISUALIZE</span> Pivot Topic Network<span style='color: red; float: right'>TRY IT</span>\n"
   ]
  },
  {
   "cell_type": "code",
   "execution_count": null,
   "id": "c6f29a62",
   "metadata": {},
   "outputs": [],
   "source": [
    "display(\n",
    "    ntm.PivotTopicNetworkGUI(pivot_key_specs=person_codecs.property_values_specs, state=current_state())\n",
    "    .setup()\n",
    "    .layout()\n",
    ")"
   ]
  },
  {
   "cell_type": "markdown",
   "id": "e3b01290",
   "metadata": {},
   "source": [
    "### <span style='color: green;'>VISUALIZE</span> Focus-Topic Document Network<span style='color: red; float: right'>TRY IT</span>\n"
   ]
  },
  {
   "cell_type": "code",
   "execution_count": null,
   "id": "64be873a",
   "metadata": {},
   "outputs": [],
   "source": [
    "display(\n",
    "    ntm.FocusTopicDocumentNetworkGui(pivot_key_specs=person_codecs.property_values_specs, state=current_state())\n",
    "    .setup()\n",
    "    .layout()\n",
    ")"
   ]
  },
  {
   "cell_type": "markdown",
   "id": "39d0791a",
   "metadata": {},
   "source": [
    "### <span style='color: green;'>VISUALIZE</span> Topic-Token  Network<span style='color: red; float: right'>TRY IT</span>"
   ]
  },
  {
   "cell_type": "code",
   "execution_count": null,
   "id": "5a2d4345",
   "metadata": {},
   "outputs": [],
   "source": [
    "w = ntm.create_topics_token_network_gui(data_folder=data_folder, custom_styles={'edges': {'curve-style': 'haystack'}})\n",
    "display(w.layout())"
   ]
  },
  {
   "cell_type": "code",
   "execution_count": null,
   "id": "24750f18",
   "metadata": {},
   "outputs": [],
   "source": []
  }
 ],
 "metadata": {
  "jupytext": {
   "encoding": "# -*- coding: utf-8 -*-",
   "formats": "ipynb,py:percent"
  },
  "kernelspec": {
   "display_name": "Python 3 (ipykernel)",
   "language": "python",
   "name": "python3"
  }
 },
 "nbformat": 4,
 "nbformat_minor": 5
}
