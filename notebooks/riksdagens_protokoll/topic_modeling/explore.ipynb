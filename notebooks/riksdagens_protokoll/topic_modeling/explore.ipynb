{
 "cells": [
  {
   "cell_type": "markdown",
   "id": "85db0a4c",
   "metadata": {},
   "source": [
    "## Text Analysis - Topic Modelling\n",
    "### <span style='color: green'>SETUP </span> Setup Notebook<span style='float: right; color: red'>MANDATORY</span>"
   ]
  },
  {
   "cell_type": "code",
   "execution_count": null,
   "id": "b1d97a8a",
   "metadata": {},
   "outputs": [],
   "source": [
    "import __paths__  # pylint: disable=unused-import\n",
    "import os\n",
    "\n",
    "from bokeh.io import output_notebook\n",
    "from IPython.display import display\n",
    "from penelope import utility as pu\n",
    "from penelope.notebook import topic_modelling as ntm\n",
    "\n",
    "import westac.riksprot.parlaclarin.speech_text as sr\n",
    "from notebooks.riksdagens_protokoll import topic_modeling as wtm\n",
    "from westac.riksprot.parlaclarin import metadata as md\n",
    "\n",
    "jj = os.path.join\n",
    "output_notebook()\n",
    "pu.set_default_options()\n",
    "\n",
    "current_state: ntm.TopicModelContainer = ntm.TopicModelContainer.singleton\n",
    "data_folder: str = jj(__paths__.corpus_folder, \"riksdagen_corpus_data\")\n",
    "members_filename: str = jj(data_folder, 'dtm_1920-2020_v0.3.0.tf20/person_index.zip')\n",
    "\n",
    "riksprot_metadata: md.ProtoMetaData = md.ProtoMetaData(members=members_filename)\n",
    "speech_repository: sr.SpeechTextRepository = sr.SpeechTextRepository(\n",
    "    source=jj(data_folder, \"tagged_frames_v0.3.0_20201218\"),\n",
    "    riksprot_metadata=riksprot_metadata,\n",
    ")\n",
    "default_args: dict = dict(\n",
    "    riksprot_metadata=riksprot_metadata, speech_repository=speech_repository, state=current_state()\n",
    ")"
   ]
  },
  {
   "cell_type": "code",
   "execution_count": null,
   "id": "335ab63a",
   "metadata": {},
   "outputs": [],
   "source": [
    "# ! jupytext --to py:percent explore.ipynb\n",
    "# ! cat /data/westac/riksdagen_corpus_data/tm_1920-2020_500-TF5-MP0.02.500000.lemma.mallet/topic_token_overview_label.csv"
   ]
  },
  {
   "cell_type": "markdown",
   "id": "6726d207",
   "metadata": {},
   "source": [
    "### <span style='color: green'>SETUP </span> Load Model<span style='float: right; color: red'>MANDATORY</span>\n"
   ]
  },
  {
   "cell_type": "code",
   "execution_count": null,
   "id": "2c386cd1",
   "metadata": {
    "lines_to_next_cell": 0
   },
   "outputs": [],
   "source": [
    "load_gui: wtm.RiksprotLoadGUI = wtm.RiksprotLoadGUI(\n",
    "    riksprot_metadata, corpus_folder=data_folder, state=current_state(), slim=True\n",
    ").setup()\n",
    "display(load_gui.layout())"
   ]
  },
  {
   "cell_type": "markdown",
   "id": "7691376e",
   "metadata": {},
   "source": [
    "### <span style='color: green'>PREPARE </span> Edit Topic Labels<span style='float: right; color: red'></span>\n"
   ]
  },
  {
   "cell_type": "code",
   "execution_count": null,
   "id": "2199104a",
   "metadata": {},
   "outputs": [],
   "source": [
    "display(ntm.EditTopicLabelsGUI(folder=load_gui.loaded_model_folder, state=current_state()).setup().layout())"
   ]
  },
  {
   "cell_type": "markdown",
   "id": "bdbef629",
   "metadata": {},
   "source": [
    "### <span style='color: green;'>VISUALIZE</span> Display Topic's Word Distribution as a Wordcloud<span style='color: red; float: right'> TRY IT</span>"
   ]
  },
  {
   "cell_type": "code",
   "execution_count": null,
   "id": "221010b3",
   "metadata": {},
   "outputs": [],
   "source": [
    "wc_ui = ntm.WordcloudGUI(current_state()).setup()\n",
    "display(wc_ui.layout())\n",
    "wc_ui.update_handler()"
   ]
  },
  {
   "cell_type": "markdown",
   "id": "50ec08bd",
   "metadata": {},
   "source": [
    "### <span style='color: green;'>BROWSE</span> Find topic's documents by token<span style='color: red; float: right'>TRY IT</span>\n",
    "Displays documents having topics in which given token is in toplist of dominant words."
   ]
  },
  {
   "cell_type": "code",
   "execution_count": null,
   "id": "fc541c64",
   "metadata": {},
   "outputs": [],
   "source": [
    "display(wtm.RiksprotFindTopicDocumentsGUI(**default_args).setup().layout())"
   ]
  },
  {
   "cell_type": "markdown",
   "id": "0d10fe02",
   "metadata": {},
   "source": [
    "### <span style='color: green;'>VISUALIZE</span> Topic-Word Distribution<span style='color: red; float: right'>TRY IT</span>\n"
   ]
  },
  {
   "cell_type": "code",
   "execution_count": null,
   "id": "6db8c2c1",
   "metadata": {},
   "outputs": [],
   "source": [
    "ntm.display_topic_word_distribution_gui(current_state())"
   ]
  },
  {
   "cell_type": "markdown",
   "id": "3aa032c1",
   "metadata": {},
   "source": [
    "### <span style='color: green;'>BROWSE</span> Browse Topic Documents<span style='color: red; float: right'>TRY IT</span>\n",
    "\n",
    "Displays documents in which a topic occurs above a given threshold."
   ]
  },
  {
   "cell_type": "code",
   "execution_count": null,
   "id": "ee867fe2",
   "metadata": {},
   "outputs": [],
   "source": [
    "display(wtm.RiksprotBrowseTopicDocumentsGUI(**default_args).setup().layout())"
   ]
  },
  {
   "cell_type": "markdown",
   "id": "2cc3cb7f",
   "metadata": {},
   "source": [
    "### <span style='color: green;'>VISUALIZE</span> Topic Trends over Time<span style='color: red; float: right'>RUN</span>"
   ]
  },
  {
   "cell_type": "code",
   "execution_count": null,
   "id": "2bca0172",
   "metadata": {},
   "outputs": [],
   "source": [
    "display(wtm.RiksprotTopicTrendsGUI(**default_args).setup().layout())"
   ]
  },
  {
   "cell_type": "markdown",
   "id": "c2cddc1b",
   "metadata": {},
   "source": [
    "### <span style='color: green;'>VISUALIZE</span> Topic Trends Overview<span style='color: red; float: right'>TRY IT</span>\n",
    "The topic shares  displayed as a scattered heatmap plot using gradient color based on topic's weight in documen (see [Stanford’s Termite software](http://vis.stanford.edu/papers/termite).\n"
   ]
  },
  {
   "cell_type": "code",
   "execution_count": null,
   "id": "60e5d52f",
   "metadata": {},
   "outputs": [],
   "source": [
    "display(wtm.RiksprotTopicTrendsOverviewGUI(**default_args).setup().layout())"
   ]
  },
  {
   "cell_type": "markdown",
   "id": "d7732db6",
   "metadata": {},
   "source": [
    "### <span style='color: green;'>VISUALIZE</span> Topic Topic Network<span style='color: red; float: right'>TRY IT</span>\n",
    "\n",
    "Computes weighted graph of topics co-occurring in the same document. Topics are defined as co-occurring in a document if they both have a weight above given threshold. The edge weights are the number of co-occurrences (binary yes or no). Node size reflects topic proportions over the entire corpus computed in accordance to LDAvis topic proportions."
   ]
  },
  {
   "cell_type": "code",
   "execution_count": null,
   "id": "2cfd79c8",
   "metadata": {},
   "outputs": [],
   "source": [
    "display(wtm.RiksprotTopicTopicGUI(**default_args).setup().layout())"
   ]
  },
  {
   "cell_type": "markdown",
   "id": "2a31b480",
   "metadata": {},
   "source": [
    "### <span style='color: green;'>VISUALIZE</span> Pivot Topic Network<span style='color: red; float: right'>TRY IT</span>\n"
   ]
  },
  {
   "cell_type": "code",
   "execution_count": null,
   "id": "ddbc9d43",
   "metadata": {},
   "outputs": [],
   "source": [
    "display(\n",
    "    ntm.PivotTopicNetworkGUI(pivot_key_specs=riksprot_metadata.member_property_specs, state=current_state())\n",
    "    .setup()\n",
    "    .layout()\n",
    ")"
   ]
  },
  {
   "cell_type": "markdown",
   "id": "6ec1ed44",
   "metadata": {},
   "source": [
    "### <span style='color: green;'>VISUALIZE</span> Focus-Topic Document Network<span style='color: red; float: right'>TRY IT</span>\n"
   ]
  },
  {
   "cell_type": "code",
   "execution_count": null,
   "id": "c3108f0b",
   "metadata": {},
   "outputs": [],
   "source": [
    "display(\n",
    "    ntm.FocusTopicDocumentNetworkGui(pivot_key_specs=riksprot_metadata.member_property_specs, state=current_state())\n",
    "    .setup()\n",
    "    .layout()\n",
    ")"
   ]
  },
  {
   "cell_type": "markdown",
   "id": "08a824e9",
   "metadata": {},
   "source": [
    "### <span style='color: green;'>VISUALIZE</span> Topic-Token  Network<span style='color: red; float: right'>TRY IT</span>"
   ]
  },
  {
   "cell_type": "code",
   "execution_count": null,
   "id": "73af615f",
   "metadata": {},
   "outputs": [],
   "source": [
    "w = ntm.create_topics_token_network_gui(data_folder=data_folder, custom_styles={'edges': {'curve-style': 'haystack'}})\n",
    "display(w.layout())"
   ]
  },
  {
   "cell_type": "code",
   "execution_count": null,
   "id": "0231d5be",
   "metadata": {},
   "outputs": [],
   "source": []
  }
 ],
 "metadata": {
  "jupytext": {
   "encoding": "# -*- coding: utf-8 -*-",
   "formats": "ipynb,py:percent"
  },
  "kernelspec": {
   "display_name": "Python 3 (ipykernel)",
   "language": "python",
   "name": "python3"
  }
 },
 "nbformat": 4,
 "nbformat_minor": 5
}
