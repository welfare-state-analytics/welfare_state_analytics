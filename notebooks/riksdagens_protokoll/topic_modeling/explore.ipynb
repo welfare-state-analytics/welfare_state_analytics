{
 "cells": [
  {
   "cell_type": "markdown",
   "id": "54aff5ec",
   "metadata": {},
   "source": [
    "## Text Analysis - Topic Modelling\n",
    "### <span style='color: green'>SETUP </span> Setup Notebook<span style='float: right; color: red'>MANDATORY</span>"
   ]
  },
  {
   "cell_type": "code",
   "execution_count": null,
   "id": "507618e7",
   "metadata": {},
   "outputs": [],
   "source": [
    "import __paths__  # pylint: disable=unused-import\n",
    "import os\n",
    "from typing import Callable\n",
    "\n",
    "from bokeh.io import output_notebook\n",
    "from IPython.display import display\n",
    "from penelope import utility as pu\n",
    "from penelope.notebook import topic_modelling as ntm\n",
    "\n",
    "from notebooks.riksdagens_protokoll.topic_modeling import utility as utm\n",
    "\n",
    "output_notebook()\n",
    "pu.set_default_options()\n",
    "\n",
    "current_state: Callable[[], utm.TopicModelContainer] = utm.TopicModelContainer.singleton\n",
    "data_folder: str = os.path.join(__paths__.data_folder, \"riksdagen_corpus_data\")\n",
    "\n",
    "\n",
    "def display_gux(cls, *, state: utm.TopicModelContainer, **kwargs):\n",
    "    if state.inferred_topics is None:\n",
    "        print(\"No model loaded. Please load, then rerun this cell\")\n",
    "        return None\n",
    "\n",
    "    ui = cls(state=state, **kwargs).setup()\n",
    "    display(ui.layout())\n",
    "    return ui"
   ]
  },
  {
   "cell_type": "markdown",
   "id": "edc5409b",
   "metadata": {},
   "source": [
    "### <span style='color: green'>SETUP </span> Load Model<span style='float: right; color: red'>MANDATORY</span>\n"
   ]
  },
  {
   "cell_type": "code",
   "execution_count": null,
   "id": "c5b8bbee",
   "metadata": {
    "lines_to_next_cell": 0
   },
   "outputs": [],
   "source": [
    "load_gui: utm.RiksprotLoadGUI = utm.RiksprotLoadGUI(data_folder=data_folder, state=current_state(), slim=True).setup()\n",
    "display(load_gui.layout())"
   ]
  },
  {
   "cell_type": "markdown",
   "id": "f2496720",
   "metadata": {},
   "source": [
    "### <span style='color: green'>PREPARE </span> Edit Topic Labels<span style='float: right; color: red'></span>\n"
   ]
  },
  {
   "cell_type": "code",
   "execution_count": null,
   "id": "7866a4a6",
   "metadata": {
    "lines_to_next_cell": 0
   },
   "outputs": [],
   "source": [
    "display_gux(ntm.EditTopicLabelsGUI, folder=load_gui.model_info.folder, state=current_state())"
   ]
  },
  {
   "cell_type": "markdown",
   "id": "b6ee89cc",
   "metadata": {},
   "source": [
    "### <span style='color: green;'>VISUALIZE</span> Display Topic's Word Distribution as a Wordcloud<span style='color: red; float: right'> TRY IT</span>"
   ]
  },
  {
   "cell_type": "code",
   "execution_count": null,
   "id": "806f93b0",
   "metadata": {},
   "outputs": [],
   "source": [
    "wc_ui = display_gux(ntm.WordcloudGUI, state=current_state())\n",
    "if wc_ui:\n",
    "    wc_ui.update_handler()"
   ]
  },
  {
   "cell_type": "markdown",
   "id": "6aa71357",
   "metadata": {},
   "source": [
    "### <span style='color: green;'>BROWSE</span> Find topic's documents by token<span style='color: red; float: right'>TRY IT</span>\n",
    "Displays documents having topics in which given token is in toplist of dominant words."
   ]
  },
  {
   "cell_type": "code",
   "execution_count": null,
   "id": "54170f4d",
   "metadata": {},
   "outputs": [],
   "source": [
    "display_gux(utm.RiksprotFindTopicDocumentsGUI, state=current_state())"
   ]
  },
  {
   "cell_type": "markdown",
   "id": "876bf3d4",
   "metadata": {},
   "source": [
    "### <span style='color: green;'>VISUALIZE</span> Topic-Word Distribution<span style='color: red; float: right'>TRY IT</span>\n"
   ]
  },
  {
   "cell_type": "code",
   "execution_count": null,
   "id": "43c8c7e4",
   "metadata": {
    "lines_to_next_cell": 0
   },
   "outputs": [],
   "source": [
    "display_gux(ntm.TopicWordDistributionGUI, state=current_state())"
   ]
  },
  {
   "cell_type": "markdown",
   "id": "3603f3bf",
   "metadata": {},
   "source": [
    "### <span style='color: green;'>BROWSE</span> Browse Topic Documents<span style='color: red; float: right'>TRY IT</span>\n",
    "\n",
    "Displays documents in which a topic occurs above a given threshold."
   ]
  },
  {
   "cell_type": "code",
   "execution_count": null,
   "id": "61816a6e",
   "metadata": {},
   "outputs": [],
   "source": [
    "display_gux(utm.RiksprotBrowseTopicDocumentsGUI, state=current_state())"
   ]
  },
  {
   "cell_type": "markdown",
   "id": "64352a75",
   "metadata": {},
   "source": [
    "### <span style='color: green;'>VISUALIZE</span> Topic Trends over Time<span style='color: red; float: right'>RUN</span>"
   ]
  },
  {
   "cell_type": "code",
   "execution_count": null,
   "id": "22f506e5",
   "metadata": {},
   "outputs": [],
   "source": [
    "display_gux(utm.RiksprotTopicTrendsGUI, state=current_state())"
   ]
  },
  {
   "cell_type": "markdown",
   "id": "63f9fe97",
   "metadata": {},
   "source": [
    "### <span style='color: green;'>VISUALIZE</span>Topic Trends over Time (Multiple Lines)<span style='color: red; float: right'>RUN</span>"
   ]
  },
  {
   "cell_type": "code",
   "execution_count": null,
   "id": "9bb44bde",
   "metadata": {},
   "outputs": [],
   "source": [
    "display_gux(utm.RiksprotTopicMultiTrendsGUI, state=current_state())"
   ]
  },
  {
   "cell_type": "markdown",
   "id": "29a90cf8",
   "metadata": {},
   "source": [
    "### <span style='color: green;'>VISUALIZE</span> Topic Trends Overview<span style='color: red; float: right'>TRY IT</span>\n",
    "The topic shares  displayed as a scattered heatmap plot using gradient color based on topic's weight in documen (see [Stanford’s Termite software](http://vis.stanford.edu/papers/termite).\n"
   ]
  },
  {
   "cell_type": "code",
   "execution_count": null,
   "id": "e2b74be2",
   "metadata": {},
   "outputs": [],
   "source": [
    "display_gux(utm.RiksprotTopicTrendsOverviewGUI, state=current_state())"
   ]
  },
  {
   "cell_type": "markdown",
   "id": "30f7488e",
   "metadata": {},
   "source": [
    "### <span style='color: green;'>VISUALIZE</span> Topic Topic Network<span style='color: red; float: right'>TRY IT</span>\n",
    "\n",
    "Computes weighted graph of topics co-occurring in the same document. Topics are defined as co-occurring in a document if they both have a weight above given threshold. The edge weights are the number of co-occurrences (binary yes or no). Node size reflects topic proportions over the entire corpus computed in accordance to LDAvis topic proportions."
   ]
  },
  {
   "cell_type": "code",
   "execution_count": null,
   "id": "1d884421",
   "metadata": {},
   "outputs": [],
   "source": [
    "display_gux(utm.RiksprotTopicTopicGUI, state=current_state())"
   ]
  },
  {
   "cell_type": "markdown",
   "id": "5565697e",
   "metadata": {},
   "source": [
    "### <span style='color: green;'>VISUALIZE</span> Pivot Topic Network<span style='color: red; float: right'>TRY IT</span>\n"
   ]
  },
  {
   "cell_type": "code",
   "execution_count": null,
   "id": "1dd9baa5",
   "metadata": {},
   "outputs": [],
   "source": [
    "display_gux(ntm.PivotTopicNetworkGUI, state=current_state(), pivot_key_specs=current_state().pivot_key_specs)"
   ]
  },
  {
   "cell_type": "markdown",
   "id": "c29145d8",
   "metadata": {},
   "source": [
    "### <span style='color: green;'>VISUALIZE</span> Focus-Topic Document Network<span style='color: red; float: right'>TRY IT</span>\n"
   ]
  },
  {
   "cell_type": "code",
   "execution_count": null,
   "id": "9901942d",
   "metadata": {},
   "outputs": [],
   "source": [
    "display_gux(ntm.FocusTopicDocumentNetworkGui, state=current_state(), pivot_key_specs=current_state().pivot_key_specs)"
   ]
  },
  {
   "cell_type": "markdown",
   "id": "9a664a7e",
   "metadata": {},
   "source": [
    "### <span style='color: green;'>VISUALIZE</span> Topic-Token  Network<span style='color: red; float: right'>TRY IT</span>"
   ]
  },
  {
   "cell_type": "code",
   "execution_count": null,
   "id": "a9167705",
   "metadata": {},
   "outputs": [],
   "source": [
    "w = ntm.create_topics_token_network_gui(data_folder=data_folder, custom_styles={'edges': {'curve-style': 'haystack'}})\n",
    "display(w.layout())"
   ]
  },
  {
   "cell_type": "code",
   "execution_count": null,
   "id": "15ff3c4d",
   "metadata": {},
   "outputs": [],
   "source": []
  }
 ],
 "metadata": {
  "jupytext": {
   "encoding": "# -*- coding: utf-8 -*-",
   "formats": "ipynb,py:percent"
  },
  "kernelspec": {
   "display_name": "Python 3 (ipykernel)",
   "language": "python",
   "name": "python3"
  }
 },
 "nbformat": 4,
 "nbformat_minor": 5
}
