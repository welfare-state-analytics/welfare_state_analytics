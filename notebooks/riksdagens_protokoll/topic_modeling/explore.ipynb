{
 "cells": [
  {
   "cell_type": "markdown",
   "id": "5872114f",
   "metadata": {},
   "source": [
    "## Text Analysis - Topic Modelling\n",
    "### <span style='color: green'>SETUP </span> Prepare and Setup Notebook <span style='float: right; color: red'>MANDATORY</span>\n"
   ]
  },
  {
   "cell_type": "code",
   "execution_count": null,
   "id": "30919468",
   "metadata": {
    "lines_to_next_cell": 0
   },
   "outputs": [],
   "source": [
    "import __paths__  # pylint: disable=unused-import\n",
    "import os\n",
    "from typing import Callable\n",
    "\n",
    "import penelope.notebook.topic_modelling as tm_ui\n",
    "from bokeh.io import output_notebook\n",
    "from IPython.display import display\n",
    "from penelope import utility as pu\n",
    "from penelope.pipeline.config import CorpusConfig\n",
    "from notebooks.riksdagens_protokoll.topic_modeling import RiksprotBrowseTopicDocumentsGUI, RiksprotFindTopicDocumentsGUI\n",
    "from notebooks.riksdagens_protokoll.topic_modeling import RiksprotTopicTrendsGUI, RiksprotTopicTrendsOverviewGUI\n",
    "from westac.riksprot.parlaclarin import metadata as md\n",
    "import westac.riksprot.parlaclarin.speech_text as sr\n",
    "\n",
    "output_notebook()\n",
    "pu.set_default_options()\n",
    "\n",
    "current_state: Callable[[], tm_ui.TopicModelContainer] = tm_ui.TopicModelContainer.singleton\n",
    "corpus_folder: str = \"/data/westac/riksdagen_corpus_data/\"\n",
    "corpus_config: CorpusConfig = CorpusConfig.load(os.path.join(corpus_folder, \"dtm_1920-2020_v0.3.0.tf20\", 'corpus.yml'))\n",
    "metadata_folder = '/data/westac/riksdagen_corpus_data/dtm_1920-2020_v0.3.0.tf20'\n",
    "\n",
    "riksprot_metadata: md.ProtoMetaData = md.ProtoMetaData.load_from_same_folder(metadata_folder)\n",
    "speech_repository: sr.SpeechTextRepository = sr.SpeechTextRepository(\n",
    "    folder=\"/data/westac/riksdagen_corpus_data/tagged_frames_v0.3.0_20201218\",\n",
    "    riksprot_metadata=riksprot_metadata,\n",
    ")"
   ]
  },
  {
   "cell_type": "markdown",
   "id": "7f1ba606",
   "metadata": {},
   "source": [
    "### <span style='color: green'>PREPARE</span> Load Topic Model <span style='float: right; color: red'>MANDATORY</span>\n",
    "\n",
    "Notea! Underligande modell är tränad på alla enskilda tal. Aktuell testmodel är skapad genom att ett nytt korpus skapats där dokumenten utgörs av ett dokument per talare och år.\n",
    "\n",
    "Data flow:\n",
    " - Use pyriksprot to produce a tokenized and tagged corpus\n",
    "\n",
    "Noteworthy:\n",
    "  - Dehypehnation of source material is done using a frequency based algorithm [eide? Språkbanken]. Given the overall corpus term frequencies (TF) and a hyphenated word \"xxx-yyy\", the individual frequencies for \"xxx\", \"yyy\", \"xxxyyy\" and \"xxx-yyy\" are are used to decide whether the word should be merged, split of left as is.\n",
    "  - A base topic model are"
   ]
  },
  {
   "cell_type": "code",
   "execution_count": null,
   "id": "f417f573",
   "metadata": {},
   "outputs": [],
   "source": [
    "load_gui = tm_ui.create_load_topic_model_gui(corpus_config, corpus_folder, current_state(), slim=True)\n",
    "display(load_gui.layout())"
   ]
  },
  {
   "cell_type": "markdown",
   "id": "5e87d262",
   "metadata": {},
   "source": [
    "### <span style='color: green;'>VISUALIZE</span> Display Topic's Word Distribution as a Wordcloud<span style='color: red; float: right'> TRY IT</span>"
   ]
  },
  {
   "cell_type": "code",
   "execution_count": null,
   "id": "92b600a5",
   "metadata": {},
   "outputs": [],
   "source": [
    "wc_ui = tm_ui.display_topic_wordcloud_gui(current_state())"
   ]
  },
  {
   "cell_type": "markdown",
   "id": "91676412",
   "metadata": {},
   "source": [
    "### <span style='color: green;'>BROWSE</span> Find topic's documents by token<span style='color: red; float: right'>TRY IT</span>\n",
    "\n",
    "Displays documents having topics in which given token is in toplist of dominant words.\n",
    "\n",
    "TODO:\n",
    " - Auto-compute doesn't work\n",
    " - Add group by (speaker, protocol) option\n",
    " - Add download data\n",
    "\n",
    "\n",
    "\n",
    "find_ui = RiksprotFindTopicDocumentsGUI(riksprot_metadata, current_state()).setup()\n",
    "display(find_ui.layout())"
   ]
  },
  {
   "cell_type": "markdown",
   "id": "8d103dc7",
   "metadata": {},
   "source": [
    "### <span style='color: green;'>VISUALIZE</span> Topic-Word Distribution<span style='color: red; float: right'>TRY IT</span>\n"
   ]
  },
  {
   "cell_type": "code",
   "execution_count": null,
   "id": "93dfe28f",
   "metadata": {},
   "outputs": [],
   "source": [
    "tm_ui.display_topic_word_distribution_gui(current_state())"
   ]
  },
  {
   "cell_type": "markdown",
   "id": "d8db71a2",
   "metadata": {},
   "source": [
    "### <span style='color: green;'>BROWSE</span> Browse Topic Documents<span style='color: red; float: right'>TRY IT</span>\n",
    "\n",
    "Displays documents in which a topic occurs above a given threshold.\n",
    "\n",
    " -  Add same output columns and filter as in Find Document Topics\n",
    "\n",
    "\n",
    "btd_ui = RiksprotBrowseTopicDocumentsGUI(\n",
    "    riksprot_metadata=riksprot_metadata, state=current_state()\n",
    ").setup()\n",
    "display(btd_ui.layout())"
   ]
  },
  {
   "cell_type": "markdown",
   "id": "fe1a9987",
   "metadata": {},
   "source": [
    "### <span style='color: green;'>VISUALIZE</span> Topic Trends over Time<span style='color: red; float: right'>RUN</span>"
   ]
  },
  {
   "cell_type": "code",
   "execution_count": null,
   "id": "27d47795",
   "metadata": {},
   "outputs": [],
   "source": [
    "rtt_ui = RiksprotTopicTrendsGUI(riksprot_metadata, speech_repository=speech_repository, state=current_state()).setup()\n",
    "display(rtt_ui.layout())"
   ]
  },
  {
   "cell_type": "markdown",
   "id": "a298ff83",
   "metadata": {},
   "source": [
    "### <span style='color: green;'>VISUALIZE</span> Topic Trends Overview<span style='color: red; float: right'>TRY IT</span>\n",
    "\n",
    "- The topic shares  displayed as a scattered heatmap plot using gradient color based on topic's weight in document.\n",
    "- [Stanford’s Termite software](http://vis.stanford.edu/papers/termite) uses a similar visualization.\n",
    "\n",
    "TODO\n",
    " - Hover har slutat fungera. Är CustomJS borttagen?"
   ]
  },
  {
   "cell_type": "code",
   "execution_count": null,
   "id": "6bb929dc",
   "metadata": {},
   "outputs": [],
   "source": [
    "tto_ui = RiksprotTopicTrendsOverviewGUI(riksprot_metadata, speech_repository=speech_repository, state=current_state()).setup()"
   ]
  },
  {
   "cell_type": "markdown",
   "id": "33da0fb1",
   "metadata": {},
   "source": [
    "### <span style='color: green;'>VISUALIZE</span> Topic Topic Network<span style='color: red; float: right'>TRY IT</span>\n",
    "\n",
    "Computes weighted graph of topics co-occurring in the same document. Topics are defined as co-occurring in a document if they both have a weight above given threshold. The edge weights are the number of co-occurrences (binary yes or no). Node size reflects topic proportions over the entire corpus computed in accordance to LDAvis topic proportions."
   ]
  },
  {
   "cell_type": "code",
   "execution_count": null,
   "id": "169af8ae",
   "metadata": {},
   "outputs": [],
   "source": [
    "tm_ui.display_topic_topic_network_gui(current_state())"
   ]
  },
  {
   "cell_type": "markdown",
   "id": "836b014a",
   "metadata": {},
   "source": [
    "### <span style='color: green;'>VISUALIZE</span> Document Topic Network<span style='color: red; float: right'>TRY IT</span>\n"
   ]
  },
  {
   "cell_type": "code",
   "execution_count": null,
   "id": "be6df530",
   "metadata": {},
   "outputs": [],
   "source": [
    "tm_ui.display_topic_document_network_gui(plot_mode=tm_ui.PlotMode.Default, state=current_state())  # type: ignore"
   ]
  },
  {
   "cell_type": "markdown",
   "id": "5d910a85",
   "metadata": {},
   "source": [
    "### <span style='color: green;'>VISUALIZE</span> Focus-Topic Document Network<span style='color: red; float: right'>TRY IT</span>\n"
   ]
  },
  {
   "cell_type": "code",
   "execution_count": null,
   "id": "2144ebdd",
   "metadata": {},
   "outputs": [],
   "source": [
    "tm_ui.display_topic_document_network_gui(plot_mode=tm_ui.PlotMode.FocusTopics, state=current_state())"
   ]
  },
  {
   "cell_type": "markdown",
   "id": "2c8ea711",
   "metadata": {},
   "source": [
    "### <span style='color: green;'>VISUALIZE</span> Topic-Token  Network<span style='color: red; float: right'>TRY IT</span>"
   ]
  },
  {
   "cell_type": "code",
   "execution_count": null,
   "id": "511dc022",
   "metadata": {},
   "outputs": [],
   "source": [
    "w = tm_ui.create_topics_token_network_gui(\n",
    "    data_folder=corpus_folder, custom_styles={'edges': {'curve-style': 'haystack'}}\n",
    ")\n",
    "display(w.layout())"
   ]
  }
 ],
 "metadata": {
  "jupytext": {
   "encoding": "# -*- coding: utf-8 -*-",
   "formats": "ipynb,py:percent"
  },
  "kernelspec": {
   "display_name": "Python 3 (ipykernel)",
   "language": "python",
   "name": "python3"
  },
  "language_info": {
   "name": "python",
   "version": "3.8.5"
  }
 },
 "nbformat": 4,
 "nbformat_minor": 5
}
