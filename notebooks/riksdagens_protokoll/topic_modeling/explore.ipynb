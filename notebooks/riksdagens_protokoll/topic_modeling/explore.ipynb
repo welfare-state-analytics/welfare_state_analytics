{
 "cells": [
  {
   "cell_type": "markdown",
   "id": "d94d3122",
   "metadata": {},
   "source": [
    "## Text Analysis - Topic Modelling\n",
    "### <span style='color: green'>SETUP </span> Prepare and Setup Notebook <span style='float: right; color: red'>MANDATORY</span>\n",
    "\n",
    "import __paths__  # pylint: disable=unused-import\n",
    "import os\n",
    "from typing import Callable\n",
    "\n",
    "import penelope.notebook.topic_modelling as tm_ui\n",
    "from bokeh.io import output_notebook\n",
    "from IPython.display import display\n",
    "from penelope.pipeline.config import CorpusConfig\n",
    "from penelope.utility import pandas_utils\n",
    "\n",
    "from westac.riksprot.parlaclarin import metadata as md\n",
    "\n",
    "output_notebook()\n",
    "pandas_utils.set_default_options()\n",
    "\n",
    "current_state: Callable[[], tm_ui.TopicModelContainer] = tm_ui.TopicModelContainer.singleton\n",
    "corpus_folder: str = \"/data/westac/riksdagen_corpus_data/\"\n",
    "corpus_config: CorpusConfig = CorpusConfig.load(os.path.join(corpus_folder, \"dtm_1920-2020_v0.3.0.tf20\", 'corpus.yml'))\n",
    "metadata_folder = '/data/westac/riksdagen_corpus_data/dtm_1920-2020_v0.3.0.tf20'\n",
    "output_notebook()  # resources=INLINE)\n",
    "\n",
    "riksprot_metadata: md.ProtoMetaData = md.ProtoMetaData.load_from_same_folder(metadata_folder)"
   ]
  },
  {
   "cell_type": "markdown",
   "id": "56983c40",
   "metadata": {},
   "source": [
    "### <span style='color: green'>PREPARE</span> Load Topic Model <span style='float: right; color: red'>MANDATORY</span>\n",
    "\n",
    "Notea! Underligande modell är tränad på alla enskilda tal. Aktuell testmodel är skapad genom att ett nytt korpus skapats där dokumenten utgörs av ett dokument per talare och år.\n",
    "\n",
    "Data flow:\n",
    " - Use pyriksprot to produce a tokenized and tagged corpus\n",
    "\n",
    "Noteworthy:\n",
    "  - Dehypehnation of source material is done using a frequency based algorithm [eide? Språkbanken]. Given the overall corpus term frequencies (TF) and a hyphenated word \"xxx-yyy\", the individual frequencies for \"xxx\", \"yyy\", \"xxxyyy\" and \"xxx-yyy\" are are used to decide whether the word should be merged, split of left as is.\n",
    "  - A base topic model are"
   ]
  },
  {
   "cell_type": "code",
   "execution_count": null,
   "id": "52931c19",
   "metadata": {},
   "outputs": [],
   "source": [
    "load_gui = tm_ui.create_load_topic_model_gui(corpus_config, corpus_folder, current_state())\n",
    "display(load_gui.layout())"
   ]
  },
  {
   "cell_type": "markdown",
   "id": "5ec15b8b",
   "metadata": {},
   "source": [
    "### <span style='color: green;'>VISUALIZE</span> Display Topic's Word Distribution as a Wordcloud<span style='color: red; float: right'> TRY IT</span>"
   ]
  },
  {
   "cell_type": "code",
   "execution_count": null,
   "id": "fab46b5e",
   "metadata": {},
   "outputs": [],
   "source": [
    "wc_ui = tm_ui.display_topic_wordcloud_gui(current_state())"
   ]
  },
  {
   "cell_type": "markdown",
   "id": "50b6245d",
   "metadata": {},
   "source": [
    "### <span style='color: green;'>BROWSE</span> Find topics by token<span style='color: red; float: right'>TRY IT</span>\n",
    "\n",
    "Displays topics in which given token is among toplist of dominant words."
   ]
  },
  {
   "cell_type": "code",
   "execution_count": null,
   "id": "71a2de4b",
   "metadata": {},
   "outputs": [],
   "source": [
    "find_ui = tm_ui.find_topic_documents_gui(current_state())"
   ]
  },
  {
   "cell_type": "markdown",
   "id": "f59c76fa",
   "metadata": {},
   "source": [
    "### <span style='color: green;'>VISUALIZE</span> Topic-Word Distribution<span style='color: red; float: right'>TRY IT</span>\n"
   ]
  },
  {
   "cell_type": "code",
   "execution_count": null,
   "id": "758b7bed",
   "metadata": {},
   "outputs": [],
   "source": [
    "tm_ui.display_topic_word_distribution_gui(current_state())"
   ]
  },
  {
   "cell_type": "markdown",
   "id": "d87cb889",
   "metadata": {},
   "source": [
    "### <span style='color: green;'>BROWSE</span> Browse Topic Documents<span style='color: red; float: right'>TRY IT</span>\n",
    "\n",
    "Displays documents in which a topic occurs above a given threshold."
   ]
  },
  {
   "cell_type": "code",
   "execution_count": null,
   "id": "dbc67d2d",
   "metadata": {},
   "outputs": [],
   "source": [
    "tm_ui.display_topic_documents_gui(current_state())"
   ]
  },
  {
   "cell_type": "markdown",
   "id": "abb89da1",
   "metadata": {},
   "source": [
    "### <span style='color: green;'>VISUALIZE</span> Topic Trends over Time<span style='color: red; float: right'>RUN</span>"
   ]
  },
  {
   "cell_type": "code",
   "execution_count": null,
   "id": "96fd98d0",
   "metadata": {},
   "outputs": [],
   "source": [
    "tt_gui = tm_ui.display_topic_trends_gui(current_state())"
   ]
  },
  {
   "cell_type": "markdown",
   "id": "019b9448",
   "metadata": {},
   "source": [
    "### <span style='color: green;'>VISUALIZE</span> Topic Trends Overview<span style='color: red; float: right'>TRY IT</span>\n",
    "\n",
    "- The topic shares  displayed as a scattered heatmap plot using gradient color based on topic's weight in document.\n",
    "- [Stanford’s Termite software](http://vis.stanford.edu/papers/termite) uses a similar visualization."
   ]
  },
  {
   "cell_type": "code",
   "execution_count": null,
   "id": "bf4e7cb2",
   "metadata": {},
   "outputs": [],
   "source": [
    "tm_ui.display_topic_trends_overview_gui(current_state())"
   ]
  },
  {
   "cell_type": "markdown",
   "id": "792259da",
   "metadata": {},
   "source": [
    "### <span style='color: green;'>VISUALIZE</span> Topic Topic Network<span style='color: red; float: right'>TRY IT</span>\n",
    "\n",
    "Computes weighted graph of topics co-occurring in the same document. Topics are defined as co-occurring in a document if they both have a weight above given threshold. The edge weights are the number of co-occurrences (binary yes or no). Node size reflects topic proportions over the entire corpus computed in accordance to LDAvis topic proportions."
   ]
  },
  {
   "cell_type": "code",
   "execution_count": null,
   "id": "160f1023",
   "metadata": {
    "code_folding": [
     0
    ]
   },
   "outputs": [],
   "source": [
    "tm_ui.display_topic_topic_network_gui(current_state())"
   ]
  },
  {
   "cell_type": "markdown",
   "id": "f81c2225",
   "metadata": {},
   "source": [
    "### <span style='color: green;'>VISUALIZE</span> Document Topic Network<span style='color: red; float: right'>TRY IT</span>\n"
   ]
  },
  {
   "cell_type": "code",
   "execution_count": null,
   "id": "a3412a25",
   "metadata": {},
   "outputs": [],
   "source": [
    "tm_ui.display_topic_document_network_gui(plot_mode=tm_ui.PlotMode.Default, state=current_state())  # type: ignore"
   ]
  },
  {
   "cell_type": "markdown",
   "id": "7e58cdba",
   "metadata": {},
   "source": [
    "### <span style='color: green;'>VISUALIZE</span> Focus-Topic Document Network<span style='color: red; float: right'>TRY IT</span>\n"
   ]
  },
  {
   "cell_type": "code",
   "execution_count": null,
   "id": "84276588",
   "metadata": {},
   "outputs": [],
   "source": [
    "tm_ui.display_topic_document_network_gui(plot_mode=tm_ui.PlotMode.FocusTopics, state=current_state())"
   ]
  },
  {
   "cell_type": "markdown",
   "id": "3c09558d",
   "metadata": {},
   "source": [
    "### <span style='color: green;'>VISUALIZE</span> Topic-Token  Network<span style='color: red; float: right'>TRY IT</span>"
   ]
  },
  {
   "cell_type": "code",
   "execution_count": null,
   "id": "86be810f",
   "metadata": {},
   "outputs": [],
   "source": [
    "\n",
    "corpus_folder: str = \"/data/westac/sou_kb_labb\"\n",
    "custom_styles = {'edges': {'curve-style': 'haystack'}}\n",
    "w = tm_ui.create_topics_token_network_gui(data_folder=corpus_folder, custom_styles=custom_styles)\n",
    "display(w.layout())"
   ]
  },
  {
   "cell_type": "code",
   "execution_count": null,
   "id": "58fdc228",
   "metadata": {},
   "outputs": [],
   "source": []
  }
 ],
 "metadata": {
  "jupytext": {
   "encoding": "# -*- coding: utf-8 -*-",
   "formats": "ipynb,py:percent"
  },
  "kernelspec": {
   "display_name": "Python 3 (ipykernel)",
   "language": "python",
   "name": "python3"
  }
 },
 "nbformat": 4,
 "nbformat_minor": 5
}
