{
 "cells": [
  {
   "cell_type": "markdown",
   "id": "b76f04de",
   "metadata": {},
   "source": [
    "## Text Analysis - Topic Modelling\n",
    "### <span style='color: green'>SETUP </span> Setup Notebook<span style='float: right; color: red'>MANDATORY</span>"
   ]
  },
  {
   "cell_type": "code",
   "execution_count": null,
   "id": "f4896fbd",
   "metadata": {
    "lines_to_next_cell": 0
   },
   "outputs": [],
   "source": [
    "import __paths__  # pylint: disable=unused-import\n",
    "import os\n",
    "\n",
    "from bokeh.io import output_notebook\n",
    "from IPython.display import display\n",
    "from penelope import utility as pu\n",
    "from penelope.notebook import topic_modelling as ntm\n",
    "\n",
    "import westac.riksprot.parlaclarin.speech_text as sr\n",
    "from notebooks.riksdagens_protokoll import topic_modeling as wtm\n",
    "from westac.riksprot.parlaclarin import metadata as md\n",
    "\n",
    "jj = os.path.join\n",
    "output_notebook()\n",
    "pu.set_default_options()\n",
    "\n",
    "current_state: ntm.TopicModelContainer = ntm.TopicModelContainer.singleton\n",
    "data_folder: str = jj(__paths__.corpus_folder, \"riksdagen_corpus_data\")\n",
    "members_filename: str = jj(data_folder, 'dtm_1920-2020_v0.3.0.tf20/person_index.zip')\n",
    "\n",
    "riksprot_metadata: md.ProtoMetaData = md.ProtoMetaData(members=members_filename)\n",
    "speech_repository: sr.SpeechTextRepository = sr.SpeechTextRepository(\n",
    "    folder=jj(data_folder, \"tagged_frames_v0.3.0_20201218\"),\n",
    "    riksprot_metadata=riksprot_metadata,\n",
    ")"
   ]
  },
  {
   "cell_type": "code",
   "execution_count": null,
   "id": "d121ebae",
   "metadata": {},
   "outputs": [],
   "source": [
    "# ! jupytext --to py:percent explore.ipynb\n",
    "# ! cat /data/westac/riksdagen_corpus_data/tm_1920-2020_500-TF5-MP0.02.500000.lemma.mallet/topic_token_overview_label.csv"
   ]
  },
  {
   "cell_type": "markdown",
   "id": "0199c1f8",
   "metadata": {},
   "source": [
    "### <span style='color: green'>SETUP </span> Load Model<span style='float: right; color: red'>MANDATORY</span>\n"
   ]
  },
  {
   "cell_type": "code",
   "execution_count": null,
   "id": "4aab531a",
   "metadata": {
    "lines_to_next_cell": 0
   },
   "outputs": [],
   "source": [
    "load_gui: wtm.RiksprotLoadGUI = wtm.RiksprotLoadGUI(\n",
    "    riksprot_metadata, corpus_folder=data_folder, corpus_config=None, state=current_state(), slim=True\n",
    ").setup()\n",
    "display(load_gui.layout())"
   ]
  },
  {
   "cell_type": "markdown",
   "id": "d9bc7a7d",
   "metadata": {},
   "source": [
    "### <span style='color: green'>PREPARE </span> Edit Topic Labels<span style='float: right; color: red'></span>\n"
   ]
  },
  {
   "cell_type": "code",
   "execution_count": null,
   "id": "52f1aa04",
   "metadata": {},
   "outputs": [],
   "source": [
    "ui = ntm.EditTopicLabelsGUI(folder=load_gui.loaded_model_folder, state=current_state()).setup()\n",
    "display(ui.layout())"
   ]
  },
  {
   "cell_type": "markdown",
   "id": "f7ca9608",
   "metadata": {},
   "source": [
    "### <span style='color: green;'>VISUALIZE</span> Display Topic's Word Distribution as a Wordcloud<span style='color: red; float: right'> TRY IT</span>"
   ]
  },
  {
   "cell_type": "code",
   "execution_count": null,
   "id": "9275a636",
   "metadata": {},
   "outputs": [],
   "source": [
    "wc_ui = ntm.WordcloudGUI(current_state()).setup()\n",
    "display(wc_ui.layout())\n",
    "wc_ui.update_handler()"
   ]
  },
  {
   "cell_type": "markdown",
   "id": "e9a53778",
   "metadata": {},
   "source": [
    "### <span style='color: green;'>BROWSE</span> Find topic's documents by token<span style='color: red; float: right'>TRY IT</span>\n",
    "Displays documents having topics in which given token is in toplist of dominant words."
   ]
  },
  {
   "cell_type": "code",
   "execution_count": null,
   "id": "56deb634",
   "metadata": {},
   "outputs": [],
   "source": [
    "find_ui = wtm.RiksprotFindTopicDocumentsGUI(\n",
    "    riksprot_metadata=riksprot_metadata, speech_repository=speech_repository, state=current_state()\n",
    ").setup()\n",
    "display(find_ui.layout())"
   ]
  },
  {
   "cell_type": "markdown",
   "id": "64073b99",
   "metadata": {},
   "source": [
    "### <span style='color: green;'>VISUALIZE</span> Topic-Word Distribution<span style='color: red; float: right'>TRY IT</span>\n"
   ]
  },
  {
   "cell_type": "code",
   "execution_count": null,
   "id": "f6a18bd6",
   "metadata": {},
   "outputs": [],
   "source": [
    "ntm.display_topic_word_distribution_gui(current_state())"
   ]
  },
  {
   "cell_type": "markdown",
   "id": "70e3d89a",
   "metadata": {},
   "source": [
    "### <span style='color: green;'>BROWSE</span> Browse Topic Documents<span style='color: red; float: right'>TRY IT</span>\n",
    "\n",
    "Displays documents in which a topic occurs above a given threshold."
   ]
  },
  {
   "cell_type": "code",
   "execution_count": null,
   "id": "b0b0a90e",
   "metadata": {},
   "outputs": [],
   "source": [
    "btd_ui = wtm.RiksprotBrowseTopicDocumentsGUI(\n",
    "    riksprot_metadata=riksprot_metadata, speech_repository=speech_repository, state=current_state()\n",
    ").setup()\n",
    "display(btd_ui.layout())"
   ]
  },
  {
   "cell_type": "markdown",
   "id": "1e9cd4c4",
   "metadata": {},
   "source": [
    "### <span style='color: green;'>VISUALIZE</span> Topic Trends over Time<span style='color: red; float: right'>RUN</span>"
   ]
  },
  {
   "cell_type": "code",
   "execution_count": null,
   "id": "7c781b5b",
   "metadata": {},
   "outputs": [],
   "source": [
    "rtt_ui = wtm.RiksprotTopicTrendsGUI(\n",
    "    riksprot_metadata, speech_repository=speech_repository, state=current_state()\n",
    ").setup()\n",
    "display(rtt_ui.layout())"
   ]
  },
  {
   "cell_type": "markdown",
   "id": "7d48ede4",
   "metadata": {},
   "source": [
    "### <span style='color: green;'>VISUALIZE</span> Topic Trends Overview<span style='color: red; float: right'>TRY IT</span>\n",
    "The topic shares  displayed as a scattered heatmap plot using gradient color based on topic's weight in documen (see [Stanford’s Termite software](http://vis.stanford.edu/papers/termite).\n"
   ]
  },
  {
   "cell_type": "code",
   "execution_count": null,
   "id": "2014471f",
   "metadata": {},
   "outputs": [],
   "source": [
    "tto_ui = wtm.RiksprotTopicTrendsOverviewGUI(\n",
    "    riksprot_metadata, speech_repository=speech_repository, state=current_state()\n",
    ").setup()\n",
    "display(tto_ui.layout())"
   ]
  },
  {
   "cell_type": "markdown",
   "id": "7bfa8597",
   "metadata": {},
   "source": [
    "### <span style='color: green;'>VISUALIZE</span> Topic Topic Network<span style='color: red; float: right'>TRY IT</span>\n",
    "\n",
    "Computes weighted graph of topics co-occurring in the same document. Topics are defined as co-occurring in a document if they both have a weight above given threshold. The edge weights are the number of co-occurrences (binary yes or no). Node size reflects topic proportions over the entire corpus computed in accordance to LDAvis topic proportions."
   ]
  },
  {
   "cell_type": "code",
   "execution_count": null,
   "id": "f33ae053",
   "metadata": {},
   "outputs": [],
   "source": [
    "ttx_ui = wtm.RiksprotTopicTopicGUI(\n",
    "    riksprot_metadata, speech_repository=speech_repository, state=current_state()\n",
    ").setup()\n",
    "display(ttx_ui.layout())"
   ]
  },
  {
   "cell_type": "markdown",
   "id": "9dd32a56",
   "metadata": {},
   "source": [
    "### <span style='color: green;'>VISUALIZE</span> Pivot Topic Network<span style='color: red; float: right'>TRY IT</span>\n"
   ]
  },
  {
   "cell_type": "code",
   "execution_count": null,
   "id": "78a7af0d",
   "metadata": {},
   "outputs": [],
   "source": [
    "ptn_ui = ntm.PivotTopicNetworkGUI(\n",
    "    pivot_key_specs=riksprot_metadata.member_property_specs, state=current_state()\n",
    ").setup()\n",
    "display(ptn_ui.layout())"
   ]
  },
  {
   "cell_type": "markdown",
   "id": "d1484e96",
   "metadata": {},
   "source": [
    "### <span style='color: green;'>VISUALIZE</span> Focus-Topic Document Network<span style='color: red; float: right'>TRY IT</span>\n"
   ]
  },
  {
   "cell_type": "code",
   "execution_count": null,
   "id": "59eef2d3",
   "metadata": {},
   "outputs": [],
   "source": [
    "ntm.display_topic_document_network_gui(plot_mode=ntm.PlotMode.FocusTopics, state=current_state())"
   ]
  },
  {
   "cell_type": "markdown",
   "id": "4de2f227",
   "metadata": {},
   "source": [
    "### <span style='color: green;'>VISUALIZE</span> Topic-Token  Network<span style='color: red; float: right'>TRY IT</span>"
   ]
  },
  {
   "cell_type": "code",
   "execution_count": null,
   "id": "cbc706c3",
   "metadata": {},
   "outputs": [],
   "source": [
    "w = ntm.create_topics_token_network_gui(data_folder=data_folder, custom_styles={'edges': {'curve-style': 'haystack'}})\n",
    "display(w.layout())"
   ]
  },
  {
   "cell_type": "code",
   "execution_count": null,
   "id": "e8534257",
   "metadata": {},
   "outputs": [],
   "source": []
  }
 ],
 "metadata": {
  "jupytext": {
   "encoding": "# -*- coding: utf-8 -*-",
   "formats": "ipynb,py:percent"
  },
  "kernelspec": {
   "display_name": "Python 3 (ipykernel)",
   "language": "python",
   "name": "python3"
  }
 },
 "nbformat": 4,
 "nbformat_minor": 5
}
