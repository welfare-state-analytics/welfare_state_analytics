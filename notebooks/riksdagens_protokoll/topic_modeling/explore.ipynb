{
 "cells": [
  {
   "cell_type": "markdown",
   "id": "9794cd1c",
   "metadata": {},
   "source": [
    "## Text Analysis - Topic Modelling\n",
    "### <span style='color: green'>SETUP </span> Prepare and Setup Notebook <span style='float: right; color: red'>MANDATORY</span>\n",
    "\n",
    "import os\n",
    "from typing import Callable\n",
    "\n",
    "import __paths__  # pylint: disable=unused-import\n",
    "\n",
    "import penelope.notebook.topic_modelling as tm_ui\n",
    "from bokeh.io import output_notebook\n",
    "from IPython.display import display\n",
    "from penelope.pipeline.config import CorpusConfig\n",
    "from penelope.utility import pandas_utils\n",
    "from westac.riksprot.parlaclarin import metadata as md\n",
    "\n",
    "output_notebook()\n",
    "pandas_utils.set_default_options()\n",
    "\n",
    "current_state: Callable[[], tm_ui.TopicModelContainer] = tm_ui.TopicModelContainer.singleton\n",
    "corpus_folder: str = \"/data/westac/riksdagen_corpus_data/\"\n",
    "corpus_config: CorpusConfig = CorpusConfig.load(os.path.join(corpus_folder, \"dtm_1920-2020_v0.3.0.tf20\", 'corpus.yml'))\n",
    "metadata_folder = '/data/westac/riksdagen_corpus_data/dtm_1920-2020_v0.3.0.tf20'\n",
    "output_notebook()  # resources=INLINE)\n",
    "\n",
    "riksprot_metadata: md.ProtoMetaData = md.ProtoMetaData.load_from_same_folder(metadata_folder)"
   ]
  },
  {
   "cell_type": "markdown",
   "id": "8c1651e7",
   "metadata": {},
   "source": [
    "### <span style='color: green'>PREPARE</span> Load Topic Model <span style='float: right; color: red'>MANDATORY</span>\n",
    "\n",
    "Notea! Underligande modell är tränad på alla enskilda tal. Aktuell testmodel är skapad genom att ett nytt korpus skapats där dokumenten utgörs av ett dokument per talare och år.\n",
    "\n",
    "Data flow:\n",
    " - Use pyriksprot to produce a tokenized and tagged corpus\n",
    "\n",
    "Noteworthy:\n",
    "  - Dehypehnation of source material is done using a frequency based algorithm [eide? Språkbanken]. Given the overall corpus term frequencies (TF) and a hyphenated word \"xxx-yyy\", the individual frequencies for \"xxx\", \"yyy\", \"xxxyyy\" and \"xxx-yyy\" are are used to decide whether the word should be merged, split of left as is.\n",
    "  - A base topic model are"
   ]
  },
  {
   "cell_type": "code",
   "execution_count": null,
   "id": "1c458431",
   "metadata": {},
   "outputs": [],
   "source": [
    "load_gui = tm_ui.create_load_topic_model_gui(corpus_config, corpus_folder, current_state())\n",
    "display(load_gui.layout())"
   ]
  },
  {
   "cell_type": "markdown",
   "id": "bfa74d37",
   "metadata": {},
   "source": [
    "### <span style='color: green;'>VISUALIZE</span> Display Topic's Word Distribution as a Wordcloud<span style='color: red; float: right'> TRY IT</span>"
   ]
  },
  {
   "cell_type": "code",
   "execution_count": null,
   "id": "efaf784f",
   "metadata": {},
   "outputs": [],
   "source": [
    "wc_ui = tm_ui.display_topic_wordcloud_gui(current_state())"
   ]
  },
  {
   "cell_type": "markdown",
   "id": "9ad9874b",
   "metadata": {},
   "source": [
    "### <span style='color: green;'>BROWSE</span> Find topics by token<span style='color: red; float: right'>TRY IT</span>\n",
    "\n",
    "Displays topics in which given token is among toplist of dominant words."
   ]
  },
  {
   "cell_type": "code",
   "execution_count": null,
   "id": "ee43b32f",
   "metadata": {},
   "outputs": [],
   "source": [
    "find_ui = tm_ui.find_topic_documents_gui(current_state())"
   ]
  },
  {
   "cell_type": "markdown",
   "id": "b4baad9b",
   "metadata": {},
   "source": [
    "### <span style='color: green;'>VISUALIZE</span> Topic-Word Distribution<span style='color: red; float: right'>TRY IT</span>\n"
   ]
  },
  {
   "cell_type": "code",
   "execution_count": null,
   "id": "0a1519fd",
   "metadata": {},
   "outputs": [],
   "source": [
    "tm_ui.display_topic_word_distribution_gui(current_state())"
   ]
  },
  {
   "cell_type": "markdown",
   "id": "f42d49ba",
   "metadata": {},
   "source": [
    "### <span style='color: green;'>BROWSE</span> Browse Topic Documents<span style='color: red; float: right'>TRY IT</span>\n",
    "\n",
    "Displays documents in which a topic occurs above a given threshold."
   ]
  },
  {
   "cell_type": "code",
   "execution_count": null,
   "id": "5a76867a",
   "metadata": {},
   "outputs": [],
   "source": [
    "tm_ui.display_topic_documents_gui(current_state())"
   ]
  },
  {
   "cell_type": "markdown",
   "id": "222f38b2",
   "metadata": {},
   "source": [
    "### <span style='color: green;'>VISUALIZE</span> Topic Trends over Time<span style='color: red; float: right'>RUN</span>"
   ]
  },
  {
   "cell_type": "code",
   "execution_count": null,
   "id": "e08baecf",
   "metadata": {},
   "outputs": [],
   "source": [
    "tt_gui = tm_ui.display_topic_trends_gui(current_state())"
   ]
  },
  {
   "cell_type": "markdown",
   "id": "b37313c4",
   "metadata": {},
   "source": [
    "### <span style='color: green;'>VISUALIZE</span> Topic Trends Overview<span style='color: red; float: right'>TRY IT</span>\n",
    "\n",
    "- The topic shares  displayed as a scattered heatmap plot using gradient color based on topic's weight in document.\n",
    "- [Stanford’s Termite software](http://vis.stanford.edu/papers/termite) uses a similar visualization."
   ]
  },
  {
   "cell_type": "code",
   "execution_count": null,
   "id": "dc57c4ba",
   "metadata": {},
   "outputs": [],
   "source": [
    "tm_ui.display_topic_trends_overview_gui(current_state())"
   ]
  },
  {
   "cell_type": "markdown",
   "id": "0b4a8b7c",
   "metadata": {},
   "source": [
    "### <span style='color: green;'>VISUALIZE</span> Topic Topic Network<span style='color: red; float: right'>TRY IT</span>\n",
    "\n",
    "Computes weighted graph of topics co-occurring in the same document. Topics are defined as co-occurring in a document if they both have a weight above given threshold. The edge weights are the number of co-occurrences (binary yes or no). Node size reflects topic proportions over the entire corpus computed in accordance to LDAvis topic proportions."
   ]
  },
  {
   "cell_type": "code",
   "execution_count": null,
   "id": "dffee6ce",
   "metadata": {
    "code_folding": [
     0
    ]
   },
   "outputs": [],
   "source": [
    "tm_ui.display_topic_topic_network_gui(current_state())"
   ]
  },
  {
   "cell_type": "markdown",
   "id": "51b74d48",
   "metadata": {},
   "source": [
    "### <span style='color: green;'>VISUALIZE</span> Document Topic Network<span style='color: red; float: right'>TRY IT</span>\n"
   ]
  },
  {
   "cell_type": "code",
   "execution_count": null,
   "id": "53a8025d",
   "metadata": {},
   "outputs": [],
   "source": [
    "tm_ui.display_topic_document_network_gui(plot_mode=tm_ui.PlotMode.Default, state=current_state())  # type: ignore"
   ]
  },
  {
   "cell_type": "markdown",
   "id": "5da31268",
   "metadata": {},
   "source": [
    "### <span style='color: green;'>VISUALIZE</span> Focus-Topic Document Network<span style='color: red; float: right'>TRY IT</span>\n"
   ]
  },
  {
   "cell_type": "code",
   "execution_count": null,
   "id": "b872703d",
   "metadata": {},
   "outputs": [],
   "source": [
    "tm_ui.display_topic_document_network_gui(plot_mode=tm_ui.PlotMode.FocusTopics, state=current_state())"
   ]
  },
  {
   "cell_type": "markdown",
   "id": "c203e411",
   "metadata": {},
   "source": [
    "### <span style='color: green;'>VISUALIZE</span> Topic-Token  Network<span style='color: red; float: right'>TRY IT</span>"
   ]
  },
  {
   "cell_type": "code",
   "execution_count": null,
   "id": "6a91608e",
   "metadata": {},
   "outputs": [],
   "source": [
    "\n",
    "corpus_folder: str = \"/data/westac/sou_kb_labb\"\n",
    "custom_styles = {'edges': {'curve-style': 'haystack'}}\n",
    "w = tm_ui.create_topics_token_network_gui(data_folder=corpus_folder, custom_styles=custom_styles)\n",
    "display(w.layout())"
   ]
  },
  {
   "cell_type": "code",
   "execution_count": null,
   "id": "f32f65cc",
   "metadata": {},
   "outputs": [],
   "source": []
  }
 ],
 "metadata": {
  "jupytext": {
   "encoding": "# -*- coding: utf-8 -*-",
   "formats": "ipynb,py:percent"
  },
  "kernelspec": {
   "display_name": "Python 3 (ipykernel)",
   "language": "python",
   "name": "python3"
  }
 },
 "nbformat": 4,
 "nbformat_minor": 5
}
