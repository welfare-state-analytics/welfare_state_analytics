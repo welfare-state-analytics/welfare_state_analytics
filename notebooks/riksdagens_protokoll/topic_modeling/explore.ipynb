{
 "cells": [
  {
   "cell_type": "markdown",
   "id": "0a484665",
   "metadata": {},
   "source": [
    "## Text Analysis - Topic Modelling\n",
    "### <span style='color: green'>SETUP </span> Setup Notebook<span style='float: right; color: red'>MANDATORY</span>"
   ]
  },
  {
   "cell_type": "code",
   "execution_count": null,
   "id": "8c2bd989",
   "metadata": {
    "lines_to_next_cell": 0
   },
   "outputs": [],
   "source": [
    "import __paths__  # pylint: disable=unused-import\n",
    "import os\n",
    "\n",
    "from bokeh.io import output_notebook\n",
    "from IPython.display import display\n",
    "from penelope import utility as pu\n",
    "from penelope.notebook import topic_modelling as ntm\n",
    "from penelope.pipeline.config import CorpusConfig\n",
    "\n",
    "import westac.riksprot.parlaclarin.speech_text as sr\n",
    "from notebooks.riksdagens_protokoll import topic_modeling as wtm\n",
    "from westac.riksprot.parlaclarin import metadata as md\n",
    "\n",
    "output_notebook()\n",
    "pu.set_default_options()\n",
    "\n",
    "current_state = ntm.TopicModelContainer.singleton\n",
    "corpus_folder: str = \"/data/westac/riksdagen_corpus_data/\"\n",
    "corpus_config: CorpusConfig = CorpusConfig.load(os.path.join(corpus_folder, \"dtm_1920-2020_v0.3.0.tf20\", 'corpus.yml'))\n",
    "metadata_folder = '/data/westac/riksdagen_corpus_data/dtm_1920-2020_v0.3.0.tf20'\n",
    "\n",
    "riksprot_metadata: md.ProtoMetaData = md.ProtoMetaData.load_from_same_folder(metadata_folder)\n",
    "speech_repository: sr.SpeechTextRepository = sr.SpeechTextRepository(\n",
    "    folder=\"/data/westac/riksdagen_corpus_data/tagged_frames_v0.3.0_20201218\",\n",
    "    riksprot_metadata=riksprot_metadata,\n",
    ")"
   ]
  },
  {
   "cell_type": "markdown",
   "id": "4f40316a",
   "metadata": {},
   "source": [
    "### <span style='color: green'>SETUP </span> Load Model<span style='float: right; color: red'>MANDATORY</span>\n"
   ]
  },
  {
   "cell_type": "code",
   "execution_count": null,
   "id": "66ef982c",
   "metadata": {
    "lines_to_next_cell": 0
   },
   "outputs": [],
   "source": [
    "load_gui = wtm.RiksprotLoadGUI(\n",
    "    riksprot_metadata,\n",
    "    corpus_folder=corpus_folder,\n",
    "    corpus_config=None,\n",
    "    state=current_state(),\n",
    "    slim=True,\n",
    ").setup()\n",
    "display(load_gui.layout())"
   ]
  },
  {
   "cell_type": "markdown",
   "id": "fdd37b73",
   "metadata": {},
   "source": [
    "### <span style='color: green;'>VISUALIZE</span> Display Topic's Word Distribution as a Wordcloud<span style='color: red; float: right'> TRY IT</span>"
   ]
  },
  {
   "cell_type": "code",
   "execution_count": null,
   "id": "a9ab24f4",
   "metadata": {},
   "outputs": [],
   "source": [
    "wc_ui = ntm.WordcloudGUI(current_state()).setup()\n",
    "display(wc_ui.layout())\n",
    "wc_ui.update_handler()"
   ]
  },
  {
   "cell_type": "markdown",
   "id": "179ff7d4",
   "metadata": {},
   "source": [
    "### <span style='color: green;'>BROWSE</span> Find topic's documents by token<span style='color: red; float: right'>TRY IT</span>\n",
    "Displays documents having topics in which given token is in toplist of dominant words."
   ]
  },
  {
   "cell_type": "code",
   "execution_count": null,
   "id": "616180a6",
   "metadata": {},
   "outputs": [],
   "source": [
    "find_ui = wtm.RiksprotFindTopicDocumentsGUI(\n",
    "    riksprot_metadata=riksprot_metadata, speech_repository=speech_repository, state=current_state()\n",
    ").setup()\n",
    "display(find_ui.layout())"
   ]
  },
  {
   "cell_type": "markdown",
   "id": "c25d0a94",
   "metadata": {},
   "source": [
    "### <span style='color: green;'>VISUALIZE</span> Topic-Word Distribution<span style='color: red; float: right'>TRY IT</span>\n"
   ]
  },
  {
   "cell_type": "code",
   "execution_count": null,
   "id": "def77877",
   "metadata": {},
   "outputs": [],
   "source": [
    "ntm.display_topic_word_distribution_gui(current_state())"
   ]
  },
  {
   "cell_type": "markdown",
   "id": "76927f12",
   "metadata": {},
   "source": [
    "### <span style='color: green;'>BROWSE</span> Browse Topic Documents<span style='color: red; float: right'>TRY IT</span>\n",
    "\n",
    "Displays documents in which a topic occurs above a given threshold."
   ]
  },
  {
   "cell_type": "code",
   "execution_count": null,
   "id": "0f27b74f",
   "metadata": {},
   "outputs": [],
   "source": [
    "btd_ui = wtm.RiksprotBrowseTopicDocumentsGUI(\n",
    "    riksprot_metadata=riksprot_metadata, speech_repository=speech_repository, state=current_state()\n",
    ").setup()\n",
    "display(btd_ui.layout())"
   ]
  },
  {
   "cell_type": "markdown",
   "id": "4283f019",
   "metadata": {},
   "source": [
    "### <span style='color: green;'>VISUALIZE</span> Topic Trends over Time<span style='color: red; float: right'>RUN</span>"
   ]
  },
  {
   "cell_type": "code",
   "execution_count": null,
   "id": "a91dc14e",
   "metadata": {},
   "outputs": [],
   "source": [
    "rtt_ui = wtm.RiksprotTopicTrendsGUI(\n",
    "    riksprot_metadata, speech_repository=speech_repository, state=current_state()\n",
    ").setup()\n",
    "display(rtt_ui.layout())"
   ]
  },
  {
   "cell_type": "markdown",
   "id": "1c94f782",
   "metadata": {},
   "source": [
    "### <span style='color: green;'>VISUALIZE</span> Topic Trends Overview<span style='color: red; float: right'>TRY IT</span>\n",
    "The topic shares  displayed as a scattered heatmap plot using gradient color based on topic's weight in documen (see [Stanford’s Termite software](http://vis.stanford.edu/papers/termite).\n"
   ]
  },
  {
   "cell_type": "code",
   "execution_count": null,
   "id": "6cebb8d6",
   "metadata": {},
   "outputs": [],
   "source": [
    "tto_ui = wtm.RiksprotTopicTrendsOverviewGUI(\n",
    "    riksprot_metadata, speech_repository=speech_repository, state=current_state()\n",
    ").setup()\n",
    "display(tto_ui.layout())"
   ]
  },
  {
   "cell_type": "markdown",
   "id": "9f2fe343",
   "metadata": {},
   "source": [
    "### <span style='color: green;'>VISUALIZE</span> Topic Topic Network<span style='color: red; float: right'>TRY IT</span>\n",
    "\n",
    "Computes weighted graph of topics co-occurring in the same document. Topics are defined as co-occurring in a document if they both have a weight above given threshold. The edge weights are the number of co-occurrences (binary yes or no). Node size reflects topic proportions over the entire corpus computed in accordance to LDAvis topic proportions."
   ]
  },
  {
   "cell_type": "code",
   "execution_count": null,
   "id": "29db497d",
   "metadata": {},
   "outputs": [],
   "source": [
    "ttx_ui = wtm.RiksprotTopicTopicGUI(\n",
    "    riksprot_metadata, speech_repository=speech_repository, state=current_state()\n",
    ").setup()\n",
    "display(ttx_ui.layout())"
   ]
  },
  {
   "cell_type": "markdown",
   "id": "f1370df5",
   "metadata": {},
   "source": [
    "### <span style='color: green;'>VISUALIZE</span> Pivot Topic Network<span style='color: red; float: right'>TRY IT</span>\n"
   ]
  },
  {
   "cell_type": "code",
   "execution_count": null,
   "id": "f61bb4bd",
   "metadata": {},
   "outputs": [],
   "source": [
    "ptn_ui = ntm.PivotTopicNetworkGUI(\n",
    "    pivot_key_specs=riksprot_metadata.member_property_specs, state=current_state()\n",
    ").setup()\n",
    "display(ptn_ui.layout())"
   ]
  },
  {
   "cell_type": "markdown",
   "id": "d4f9a2af",
   "metadata": {},
   "source": [
    "### <span style='color: green;'>VISUALIZE</span> Focus-Topic Document Network<span style='color: red; float: right'>TRY IT</span>\n"
   ]
  },
  {
   "cell_type": "code",
   "execution_count": null,
   "id": "92fe7092",
   "metadata": {},
   "outputs": [],
   "source": [
    "ntm.display_topic_document_network_gui(plot_mode=ntm.PlotMode.FocusTopics, state=current_state())"
   ]
  },
  {
   "cell_type": "markdown",
   "id": "6fd68e34",
   "metadata": {},
   "source": [
    "### <span style='color: green;'>VISUALIZE</span> Topic-Token  Network<span style='color: red; float: right'>TRY IT</span>"
   ]
  },
  {
   "cell_type": "code",
   "execution_count": null,
   "id": "7b661cf0",
   "metadata": {},
   "outputs": [],
   "source": [
    "w = ntm.create_topics_token_network_gui(data_folder=corpus_folder, custom_styles={'edges': {'curve-style': 'haystack'}})\n",
    "display(w.layout())"
   ]
  },
  {
   "cell_type": "code",
   "execution_count": null,
   "id": "9a500ef8",
   "metadata": {},
   "outputs": [],
   "source": []
  }
 ],
 "metadata": {
  "jupytext": {
   "encoding": "# -*- coding: utf-8 -*-",
   "formats": "ipynb,py:percent"
  },
  "kernelspec": {
   "display_name": "Python 3 (ipykernel)",
   "language": "python",
   "name": "python3"
  }
 },
 "nbformat": 4,
 "nbformat_minor": 5
}
