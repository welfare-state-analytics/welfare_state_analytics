{
 "cells": [
  {
   "cell_type": "markdown",
   "id": "5872114f",
   "metadata": {},
   "source": [
    "## Text Analysis - Topic Modelling\n",
    "### <span style='color: green'>SETUP </span> Setup Notebook<span style='float: right; color: red'>MANDATORY</span>"
   ]
  },
  {
   "cell_type": "code",
   "execution_count": null,
   "id": "301624ce-3dc2-47d9-a5d5-1bb16fdd0672",
   "metadata": {
    "lines_to_next_cell": 0
   },
   "outputs": [],
   "source": [
    "import __paths__  # pylint: disable=unused-import\n",
    "import os\n",
    "\n",
    "from bokeh.io import output_notebook\n",
    "from IPython.display import display\n",
    "from penelope import utility as pu\n",
    "from penelope.pipeline.config import CorpusConfig\n",
    "from notebooks.riksdagens_protokoll import topic_modeling as wtm\n",
    "from penelope.notebook import topic_modelling as ntm\n",
    "\n",
    "from westac.riksprot.parlaclarin import metadata as md\n",
    "import westac.riksprot.parlaclarin.speech_text as sr\n",
    "\n",
    "output_notebook()\n",
    "pu.set_default_options()\n",
    "\n",
    "current_state = ntm.TopicModelContainer.singleton\n",
    "corpus_folder: str = \"/data/westac/riksdagen_corpus_data/\"\n",
    "corpus_config: CorpusConfig = CorpusConfig.load(os.path.join(corpus_folder, \"dtm_1920-2020_v0.3.0.tf20\", 'corpus.yml'))\n",
    "metadata_folder = '/data/westac/riksdagen_corpus_data/dtm_1920-2020_v0.3.0.tf20'\n",
    "\n",
    "riksprot_metadata: md.ProtoMetaData = md.ProtoMetaData.load_from_same_folder(metadata_folder)\n",
    "speech_repository: sr.SpeechTextRepository = sr.SpeechTextRepository(\n",
    "    folder=\"/data/westac/riksdagen_corpus_data/tagged_frames_v0.3.0_20201218\",\n",
    "    riksprot_metadata=riksprot_metadata,\n",
    ")"
   ]
  },
  {
   "cell_type": "markdown",
   "id": "5fe76560-4529-4844-a738-0cff7abf8552",
   "metadata": {},
   "source": [
    "### <span style='color: green'>SETUP </span> Load Model<span style='float: right; color: red'>MANDATORY</span>\n"
   ]
  },
  {
   "cell_type": "code",
   "execution_count": null,
   "id": "ae15c6cb-5a57-4905-b54d-fa1853286e54",
   "metadata": {
    "lines_to_next_cell": 0
   },
   "outputs": [],
   "source": [
    "load_gui = wtm.RiksprotLoadGUI(\n",
    "    riksprot_metadata,\n",
    "    corpus_folder=corpus_folder,\n",
    "    corpus_config=None,\n",
    "    state=current_state(),\n",
    "    slim=True,\n",
    ").setup()\n",
    "display(load_gui.layout())"
   ]
  },
  {
   "cell_type": "code",
   "execution_count": null,
   "id": "ce202226-96e9-42f3-9b5f-c3ca2bd62504",
   "metadata": {},
   "outputs": [],
   "source": [
    "current_state().inferred_topics.document_index = riksprot_metadata.overload_by_member_data(\n",
    "    current_state().inferred_topics.document_index, encoded=True, drop=True\n",
    ")"
   ]
  },
  {
   "cell_type": "markdown",
   "id": "5e87d262",
   "metadata": {},
   "source": [
    "### <span style='color: green;'>VISUALIZE</span> Display Topic's Word Distribution as a Wordcloud<span style='color: red; float: right'> TRY IT</span>"
   ]
  },
  {
   "cell_type": "code",
   "execution_count": null,
   "id": "92b600a5",
   "metadata": {},
   "outputs": [],
   "source": [
    "wc_ui = ntm.WordcloudGUI(current_state()).setup()\n",
    "display(wc_ui.layout())\n",
    "wc_ui.update_handler()"
   ]
  },
  {
   "cell_type": "markdown",
   "id": "249f860d-3153-4a52-a8df-9f7c24b14fee",
   "metadata": {},
   "source": [
    "### <span style='color: green;'>BROWSE</span> Find topic's documents by token<span style='color: red; float: right'>TRY IT</span>\n",
    "Displays documents having topics in which given token is in toplist of dominant words."
   ]
  },
  {
   "cell_type": "code",
   "execution_count": null,
   "id": "f446dd1e-addc-4ab1-a519-81dfc1f21c9d",
   "metadata": {},
   "outputs": [],
   "source": [
    "find_ui = wtm.RiksprotFindTopicDocumentsGUI(riksprot_metadata=riksprot_metadata, speech_repository=speech_repository, state=current_state()).setup()\n",
    "display(find_ui.layout())"
   ]
  },
  {
   "cell_type": "markdown",
   "id": "8d103dc7",
   "metadata": {},
   "source": [
    "### <span style='color: green;'>VISUALIZE</span> Topic-Word Distribution<span style='color: red; float: right'>TRY IT</span>\n"
   ]
  },
  {
   "cell_type": "code",
   "execution_count": null,
   "id": "93dfe28f",
   "metadata": {},
   "outputs": [],
   "source": [
    "ntm.display_topic_word_distribution_gui(current_state())"
   ]
  },
  {
   "cell_type": "markdown",
   "id": "b3ad7909-a128-46d1-8dbb-58317d96cb38",
   "metadata": {},
   "source": [
    "### <span style='color: green;'>BROWSE</span> Browse Topic Documents<span style='color: red; float: right'>TRY IT</span>\n",
    "\n",
    "Displays documents in which a topic occurs above a given threshold."
   ]
  },
  {
   "cell_type": "code",
   "execution_count": null,
   "id": "861f021e-46c4-4282-bd28-a02154779317",
   "metadata": {},
   "outputs": [],
   "source": [
    "btd_ui = wtm.RiksprotBrowseTopicDocumentsGUI(\n",
    "    riksprot_metadata=riksprot_metadata, speech_repository=speech_repository, state=current_state()\n",
    ").setup()\n",
    "display(btd_ui.layout())"
   ]
  },
  {
   "cell_type": "markdown",
   "id": "fe1a9987",
   "metadata": {},
   "source": [
    "### <span style='color: green;'>VISUALIZE</span> Topic Trends over Time<span style='color: red; float: right'>RUN</span>"
   ]
  },
  {
   "cell_type": "code",
   "execution_count": null,
   "id": "27d47795",
   "metadata": {},
   "outputs": [],
   "source": [
    "rtt_ui = wtm.RiksprotTopicTrendsGUI(riksprot_metadata, speech_repository=speech_repository, state=current_state()).setup()\n",
    "display(rtt_ui.layout())"
   ]
  },
  {
   "cell_type": "markdown",
   "id": "a298ff83",
   "metadata": {},
   "source": [
    "### <span style='color: green;'>VISUALIZE</span> Topic Trends Overview<span style='color: red; float: right'>TRY IT</span>\n",
    "The topic shares  displayed as a scattered heatmap plot using gradient color based on topic's weight in documen (see [Stanford’s Termite software](http://vis.stanford.edu/papers/termite).\n"
   ]
  },
  {
   "cell_type": "code",
   "execution_count": null,
   "id": "6bb929dc",
   "metadata": {},
   "outputs": [],
   "source": [
    "tto_ui = wtm.RiksprotTopicTrendsOverviewGUI(riksprot_metadata, speech_repository=speech_repository, state=current_state()).setup()\n",
    "display(tto_ui.layout())"
   ]
  },
  {
   "cell_type": "markdown",
   "id": "33da0fb1",
   "metadata": {},
   "source": [
    "### <span style='color: green;'>VISUALIZE</span> Topic Topic Network<span style='color: red; float: right'>TRY IT</span>\n",
    "\n",
    "Computes weighted graph of topics co-occurring in the same document. Topics are defined as co-occurring in a document if they both have a weight above given threshold. The edge weights are the number of co-occurrences (binary yes or no). Node size reflects topic proportions over the entire corpus computed in accordance to LDAvis topic proportions."
   ]
  },
  {
   "cell_type": "code",
   "execution_count": null,
   "id": "169af8ae",
   "metadata": {},
   "outputs": [],
   "source": [
    "ttx_ui = wtm.RiksprotTopicTopicGUI(riksprot_metadata, speech_repository=speech_repository, state=current_state()).setup()\n",
    "display(ttx_ui.layout())"
   ]
  },
  {
   "cell_type": "markdown",
   "id": "836b014a",
   "metadata": {},
   "source": [
    "### <span style='color: green;'>VISUALIZE</span> Document Topic Network<span style='color: red; float: right'>TRY IT</span>\n"
   ]
  },
  {
   "cell_type": "code",
   "execution_count": null,
   "id": "be6df530",
   "metadata": {},
   "outputs": [],
   "source": [
    "ptn_ui = ntm.PivotTopicNetworkGUI(pivot_key_specs=riksprot_metadata.member_property_specs, state=current_state()).setup()\n",
    "display(ptn_ui.layout())"
   ]
  },
  {
   "cell_type": "markdown",
   "id": "5d910a85",
   "metadata": {},
   "source": [
    "### <span style='color: green;'>VISUALIZE</span> Focus-Topic Document Network<span style='color: red; float: right'>TRY IT</span>\n"
   ]
  },
  {
   "cell_type": "code",
   "execution_count": null,
   "id": "2144ebdd",
   "metadata": {},
   "outputs": [],
   "source": [
    "ntm.display_topic_document_network_gui(plot_mode=ntm.PlotMode.FocusTopics, state=current_state())"
   ]
  },
  {
   "cell_type": "markdown",
   "id": "2c8ea711",
   "metadata": {},
   "source": [
    "### <span style='color: green;'>VISUALIZE</span> Topic-Token  Network<span style='color: red; float: right'>TRY IT</span>"
   ]
  },
  {
   "cell_type": "code",
   "execution_count": null,
   "id": "511dc022",
   "metadata": {},
   "outputs": [],
   "source": [
    "w = ntm.create_topics_token_network_gui(\n",
    "    data_folder=corpus_folder, custom_styles={'edges': {'curve-style': 'haystack'}}\n",
    ")\n",
    "display(w.layout())"
   ]
  }
 ],
 "metadata": {
  "jupytext": {
   "encoding": "# -*- coding: utf-8 -*-",
   "formats": "ipynb,py:percent"
  },
  "kernelspec": {
   "display_name": "Python 3 (ipykernel)",
   "language": "python",
   "name": "python3"
  },
  "language_info": {
   "codemirror_mode": {
    "name": "ipython",
    "version": 3
   },
   "file_extension": ".py",
   "mimetype": "text/x-python",
   "name": "python",
   "nbconvert_exporter": "python",
   "pygments_lexer": "ipython3",
   "version": "3.8.5"
  }
 },
 "nbformat": 4,
 "nbformat_minor": 5
}
