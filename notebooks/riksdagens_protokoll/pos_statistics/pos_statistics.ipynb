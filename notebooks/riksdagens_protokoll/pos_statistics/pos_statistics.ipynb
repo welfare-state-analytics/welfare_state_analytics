{
 "cells": [
  {
   "cell_type": "markdown",
   "id": "69859904",
   "metadata": {},
   "source": [
    "# Token Count Statistics\n",
    "### Text Processing Pipeline\n",
    "\n",
    "| | Building block | Arguments | Description |\n",
    "| -- | :------------- | :------------- | :------------- |\n",
    "| 💾 | <b>Checkpoint</b> | checkpoint_filename | Checkpoint (tagged frames) to file\n",
    "\n",
    "The PoS tagging notebook uses the same processing pipeline as the Word trends tnotebook  do to produce a tagged data frame. The processing will henceread\n",
    "a checkpoint file if it exists, otherwise resolve the full pipeline.\n",
    "\n",
    "The word count statistics are collected in the tagging task (part-of-speech and lemma annotation). The computed statistics, total word count and the word counts for each PoS-grouping, are added (or updated) to the _document index file_ as new columns. This file is stored in the tagged text archive as `document_index.csv`.\n",
    "\n",
    "Note: The dcument index file is either a pre-existing document index or, if no such index exists, automatically generated during the initial text loading pipeline task.\n",
    "If no pre-existing file exists, then the necessary attributes (e.g. document's year) are extracted from the filename of each  document.\n",
    "\n",
    "import __paths__  # pylint: disable=unused-import"
   ]
  },
  {
   "cell_type": "code",
   "execution_count": 1,
   "id": "bfe789e6",
   "metadata": {
    "lines_to_next_cell": 0,
    "tags": []
   },
   "outputs": [
    {
     "ename": "NameError",
     "evalue": "name '__paths__' is not defined",
     "output_type": "error",
     "traceback": [
      "\u001b[0;31m---------------------------------------------------------------------------\u001b[0m",
      "\u001b[0;31mNameError\u001b[0m                                 Traceback (most recent call last)",
      "Input \u001b[0;32mIn [1]\u001b[0m, in \u001b[0;36m<cell line: 4>\u001b[0;34m()\u001b[0m\n\u001b[1;32m      1\u001b[0m \u001b[38;5;28;01mfrom\u001b[39;00m \u001b[38;5;21;01mIPython\u001b[39;00m\u001b[38;5;21;01m.\u001b[39;00m\u001b[38;5;21;01mdisplay\u001b[39;00m \u001b[38;5;28;01mimport\u001b[39;00m display\n\u001b[1;32m      2\u001b[0m \u001b[38;5;28;01mfrom\u001b[39;00m \u001b[38;5;21;01mpenelope\u001b[39;00m\u001b[38;5;21;01m.\u001b[39;00m\u001b[38;5;21;01mnotebook\u001b[39;00m\u001b[38;5;21;01m.\u001b[39;00m\u001b[38;5;21;01mtoken_counts\u001b[39;00m \u001b[38;5;28;01mimport\u001b[39;00m pipeline_gui\n\u001b[1;32m      4\u001b[0m gui \u001b[38;5;241m=\u001b[39m pipeline_gui\u001b[38;5;241m.\u001b[39mcreate_token_count_gui(\n\u001b[0;32m----> 5\u001b[0m     corpus_folder\u001b[38;5;241m=\u001b[39m\u001b[43m__paths__\u001b[49m\u001b[38;5;241m.\u001b[39mcorpus_folder,\n\u001b[1;32m      6\u001b[0m     resources_folder\u001b[38;5;241m=\u001b[39m__paths__\u001b[38;5;241m.\u001b[39mresources_folder,\n\u001b[1;32m      7\u001b[0m )\n\u001b[1;32m      8\u001b[0m display(gui\u001b[38;5;241m.\u001b[39mlayout())\n",
      "\u001b[0;31mNameError\u001b[0m: name '__paths__' is not defined"
     ]
    }
   ],
   "source": [
    "from IPython.display import display\n",
    "from penelope.notebook.token_counts import pipeline_gui\n",
    "\n",
    "gui = pipeline_gui.create_token_count_gui(\n",
    "    corpus_folder=__paths__.corpus_folder,\n",
    "    resources_folder=__paths__.resources_folder,\n",
    ")\n",
    "display(gui.layout())"
   ]
  },
  {
   "cell_type": "code",
   "execution_count": null,
   "id": "98214faa",
   "metadata": {},
   "outputs": [],
   "source": []
  }
 ],
 "metadata": {
  "jupytext": {
   "encoding": "# -*- coding: utf-8 -*-",
   "formats": "ipynb,py:percent"
  },
  "kernelspec": {
   "display_name": "Python 3 (ipykernel)",
   "language": "python",
   "name": "python3"
  },
  "language_info": {
   "codemirror_mode": {
    "name": "ipython",
    "version": 3
   },
   "file_extension": ".py",
   "mimetype": "text/x-python",
   "name": "python",
   "nbconvert_exporter": "python",
   "pygments_lexer": "ipython3",
   "version": "3.9.10"
  }
 },
 "nbformat": 4,
 "nbformat_minor": 5
}
