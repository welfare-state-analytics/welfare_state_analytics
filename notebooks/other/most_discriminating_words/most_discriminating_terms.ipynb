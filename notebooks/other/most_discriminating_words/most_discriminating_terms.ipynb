{
 "cells": [
  {
   "cell_type": "markdown",
   "id": "27e8a6ad",
   "metadata": {},
   "source": [
    "## Most Discriminating Terms\n",
    "\n",
    "References:\n",
    "\n",
    "   King, Gary, Patrick Lam, and Margaret Roberts. \"Computer-Assisted Keyword\n",
    "   and Document Set Discovery from Unstructured Text.\" (2014).\n",
    "   http://citeseerx.ist.psu.edu/viewdoc/download?doi=10.1.1.458.1445&rep=rep1&type=pdf\n"
   ]
  },
  {
   "cell_type": "code",
   "execution_count": null,
   "id": "16852219",
   "metadata": {},
   "outputs": [],
   "source": [
    "\n",
    "import __paths__\n",
    "\n",
    "from IPython.display import display\n",
    "from penelope.notebook.mdw import main_gui\n",
    "\n",
    "gui = main_gui.create_main_gui(corpus_folder=__paths__.data_folder)\n",
    "\n",
    "display(gui)"
   ]
  }
 ],
 "metadata": {
  "jupytext": {
   "formats": "ipynb,py:percent"
  },
  "kernelspec": {
   "display_name": "Python 3",
   "language": "python",
   "name": "python3"
  }
 },
 "nbformat": 4,
 "nbformat_minor": 5
}
