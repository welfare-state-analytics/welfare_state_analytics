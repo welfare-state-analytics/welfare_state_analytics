{
 "cells": [
  {
   "cell_type": "code",
   "execution_count": null,
   "id": "5150a168",
   "metadata": {},
   "outputs": [],
   "source": [
    "import csv\n",
    "import hashlib\n",
    "from collections import defaultdict"
   ]
  },
  {
   "cell_type": "code",
   "execution_count": null,
   "id": "80907ee3",
   "metadata": {},
   "outputs": [],
   "source": [
    "from io import StringIO"
   ]
  },
  {
   "cell_type": "code",
   "execution_count": null,
   "id": "d3a9a11c",
   "metadata": {},
   "outputs": [],
   "source": [
    "import numpy as np"
   ]
  },
  {
   "cell_type": "code",
   "execution_count": null,
   "id": "f544be91",
   "metadata": {
    "lines_to_next_cell": 0
   },
   "outputs": [],
   "source": []
  },
  {
   "cell_type": "code",
   "execution_count": null,
   "id": "9cc0a59a",
   "metadata": {},
   "outputs": [],
   "source": [
    "import pandas as pd\n",
    "from penelope.co_occurrence import Bundle\n",
    "\n",
    "# pylint: skip-file\n",
    "\n",
    "bundle = Bundle.load(\n",
    "    folder='/data/westac/shared/v2_information_w1_VB_PASSTHROUGH_TF10_LEMMA_KEEPSTOPS',\n",
    "    tag='v2_information_w1_VB_PASSTHROUGH_TF10_LEMMA_KEEPSTOPS',\n",
    ")"
   ]
  },
  {
   "cell_type": "code",
   "execution_count": null,
   "id": "f06538b5",
   "metadata": {
    "lines_to_next_cell": 0
   },
   "outputs": [],
   "source": [
    "\n",
    "dir(bundle)\n",
    "# df = pd.read_feather('/data/westac/shared/v2_information_w1_VB_PASSTHROUGH_TF10_LEMMA_KEEPSTOPS/v2_information_w1_VB_PASSTHROUGH_TF10_LEMMA_KEEPSTOPS_co-occurrence.csv.feather')"
   ]
  },
  {
   "cell_type": "code",
   "execution_count": null,
   "id": "72e3b79c",
   "metadata": {
    "lines_to_next_cell": 0
   },
   "outputs": [],
   "source": [
    "\n",
    "# 839K  v2_information_w5_NNPM_PASSTHROUGH_TF10_LEMMA_KEEPSTOPS_concept_corpus_windows_counts.pickle\n",
    "# 608K  v2_information_w5_NNPM_PASSTHROUGH_TF10_LEMMA_KEEPSTOPS_concept_document_windows_counts.npz\n",
    "# 2.2M  v2_information_w5_NNPM_PASSTHROUGH_TF10_LEMMA_KEEPSTOPS_concept_vector_data.npz\n",
    "# 1.9K  v2_information_w5_NNPM_PASSTHROUGH_TF10_LEMMA_KEEPSTOPS_concept_vectorizer_data.json\n",
    "# 2.0G  v2_information_w5_NNPM_PASSTHROUGH_TF10_LEMMA_KEEPSTOPS_concept_vectorizer_data.pickle\n",
    "# 2.2G  v2_information_w5_NNPM_PASSTHROUGH_TF10_LEMMA_KEEPSTOPS_co-occurrence.csv.feather\n",
    "# 1.9K  v2_information_w5_NNPM_PASSTHROUGH_TF10_LEMMA_KEEPSTOPS_co-occurrence.csv.json\n",
    "# 2.1G  v2_information_w5_NNPM_PASSTHROUGH_TF10_LEMMA_KEEPSTOPS_co-occurrence.csv.zip\n",
    "# 664K  v2_information_w5_NNPM_PASSTHROUGH_TF10_LEMMA_KEEPSTOPS_co-occurrence.dictionary_tf.pbz2\n",
    "# 1.6M  v2_information_w5_NNPM_PASSTHROUGH_TF10_LEMMA_KEEPSTOPS_co-occurrence.dictionary.zip\n",
    "# 464K  v2_information_w5_NNPM_PASSTHROUGH_TF10_LEMMA_KEEPSTOPS_co-occurrence.document_index.zip\n",
    "# 6.5M  v2_information_w5_NNPM_PASSTHROUGH_TF10_LEMMA_KEEPSTOPS_corpus_windows_counts.pickle\n",
    "#  49M  v2_information_w5_NNPM_PASSTHROUGH_TF10_LEMMA_KEEPSTOPS_document_windows_counts.npz\n",
    "# 594M  v2_information_w5_NNPM_PASSTHROUGH_TF10_LEMMA_KEEPSTOPS_vector_data.npz\n",
    "# 1.9K  v2_information_w5_NNPM_PASSTHROUGH_TF10_LEMMA_KEEPSTOPS_vectorizer_data.json\n",
    "# 2.0G  v2_information_w5_NNPM_PASSTHROUGH_TF10_LEMMA_KEEPSTOPS_vectorizer_data.pickle\n",
    "# 472M  v2_information_w5_NNPM_PASSTHROUGH_TF10_LEMMA_KEEPSTOPS_vocabs_mapping.pickle"
   ]
  },
  {
   "cell_type": "code",
   "execution_count": null,
   "id": "7b2286c6",
   "metadata": {},
   "outputs": [],
   "source": [
    "bundle.concept_corpus.data.shape"
   ]
  },
  {
   "cell_type": "code",
   "execution_count": null,
   "id": "7d894d27",
   "metadata": {
    "lines_to_next_cell": 0
   },
   "outputs": [],
   "source": [
    "# len(bundle.concept_corpus.term_frequency.nonzero()[0].ravel())\n",
    "bundle.corpus.data.data.nbytes"
   ]
  },
  {
   "cell_type": "code",
   "execution_count": null,
   "id": "8a1561c5",
   "metadata": {},
   "outputs": [],
   "source": [
    "\n",
    "\n",
    "def nbytes(corpus):\n",
    "    try:\n",
    "        # return corpus.data.data.nbytes + corpus.data.indptr.nbytes + corpus.data.indices.nbytes\n",
    "        return (corpus.data.nbytes + corpus.indptr.nbytes + corpus.indices.nbytes) / 1024\n",
    "    except:\n",
    "        return None\n",
    "\n",
    "\n",
    "def mask_nonzero_other(self, other) -> None:\n",
    "\n",
    "    mask = other > 0\n",
    "    B = bundle.corpus.data\n",
    "    B = B.multiply(mask)\n",
    "    B.eliminate_zeros()\n",
    "    return B\n",
    "\n",
    "\n",
    "print(f\"Corpus: {bundle.corpus.data.shape} size {nbytes(bundle.corpus.data)}\")\n",
    "print(f\"Corpus: {bundle.concept_corpus.data.shape} size {nbytes(bundle.concept_corpus.data)}\")\n",
    "\n",
    "mask = bundle.concept_corpus.data > 0\n",
    "\n",
    "B = bundle.corpus.data\n",
    "B = B.multiply(mask)\n",
    "B.eliminate_zeros()\n",
    "print(nbytes(B))"
   ]
  },
  {
   "cell_type": "code",
   "execution_count": null,
   "id": "53a0ecc6",
   "metadata": {
    "lines_to_next_cell": 0
   },
   "outputs": [],
   "source": [
    "\n",
    "B[:, bundle.concept_corpus.data.nonzero()[0]] = 0\n",
    "print(B.shape)\n",
    "# https://stackoverflow.com/questions/41505416/efficient-way-to-set-elements-to-zero-where-mask-is-true-on-scipy-sparse-matrix"
   ]
  },
  {
   "cell_type": "code",
   "execution_count": null,
   "id": "a9b98a9b",
   "metadata": {},
   "outputs": [],
   "source": [
    "mask = bundle.concept_corpus.data > 0\n",
    "B = bundle.corpus.data - bundle.corpus.data.multiply(mask)"
   ]
  },
  {
   "cell_type": "code",
   "execution_count": null,
   "id": "e87d1fb8",
   "metadata": {},
   "outputs": [],
   "source": [
    "nbytes(mask)\n",
    "\n",
    "A = np.array([1, 2, 9, 3, 5, 1, 6, 4])\n",
    "\n",
    "\n",
    "def nlargest(a, n_top: int) -> np.ndarray:\n",
    "    return np.argpartition(a, -n_top)[-n_top:]\n",
    "\n",
    "\n",
    "print(nlargest(A, 3))\n",
    "\n",
    "indices = np.argpartition(A, -3)[-3:]\n",
    "\n",
    "print(indices)\n",
    "print([A[i] for i in indices])\n",
    "# indices = np.argpartition(-self.term_frequency, n_top-1)[-n_top:]\n",
    "# np.argpartition(arr, len(arr) - 1)[len(arr) - 1]"
   ]
  },
  {
   "cell_type": "code",
   "execution_count": null,
   "id": "9da3307a",
   "metadata": {
    "lines_to_next_cell": 0
   },
   "outputs": [],
   "source": [
    "\n",
    "\n",
    "dd = defaultdict()\n",
    "dd.default_factory = dd.__len__\n",
    "\n",
    "pairs = ((i, i + 1) for i in range(0, 5))\n",
    "for p in pairs:\n",
    "    _ = dd[p]\n",
    "dd"
   ]
  },
  {
   "cell_type": "code",
   "execution_count": null,
   "id": "c95bb587",
   "metadata": {},
   "outputs": [],
   "source": [
    "\n",
    "\n",
    "tagged_csv_str = (\n",
    "    \"token\\tlemma\\tpos\\txpos\\n\"\n",
    "    \"Hej\\thej\\tIN\\tIN\\n\"\n",
    "    \"!\\t!\\tMID\\tMID\\n\"\n",
    "    \"Detta\\tdetta\\tPN\\tPN.NEU.SIN.DEF.SUB+OBJ\\n\"\n",
    "    \"är\\tvara\\tVB\\tVB.PRS.AKT\\n\"\n",
    "    \"ett\\ten\\tDT\\tDT.NEU.SIN.IND\\n\"\n",
    "    \"test\\ttest\\tNN\\tNN.NEU.SIN.IND.NOM\\n\"\n",
    "    \"!\\t!\\tMAD\\tMAD\\n\"\n",
    "    \"'\\t\\tMAD\\tMAD\\n\"\n",
    "    '\"\\t\\tMAD\\tMAD'\n",
    ")\n",
    "\n",
    "write_opts = dict(\n",
    "    quoting=csv.QUOTE_MINIMAL,\n",
    "    escapechar=\"\\\\\",\n",
    "    doublequote=False,\n",
    "    index=False,\n",
    "    sep='\\t',\n",
    ")\n",
    "\n",
    "data = [\n",
    "    {'id': i, 'checksum': hashlib.sha1(tagged_csv_str.encode('utf-8')).hexdigest(), 'text': tagged_csv_str}\n",
    "    for i in range(0, 1)\n",
    "]\n",
    "df = pd.DataFrame(data).set_index('id')\n",
    "df.to_csv('APA.csv', **write_opts)"
   ]
  },
  {
   "cell_type": "code",
   "execution_count": null,
   "id": "7eb7e29e",
   "metadata": {},
   "outputs": [],
   "source": []
  },
  {
   "cell_type": "code",
   "execution_count": null,
   "id": "4fdca7f8",
   "metadata": {
    "lines_to_next_cell": 2
   },
   "outputs": [],
   "source": [
    "df2 = pd.read_csv('APA.csv', sep='\\t', quoting=csv.QUOTE_MINIMAL, escapechar='\\\\', quotechar='\"', index_col='id')\n",
    "df2.to_csv('APA.csv', sep='\\t', quoting=csv.QUOTE_MINIMAL, escapechar='\\\\', quotechar='\"')"
   ]
  },
  {
   "cell_type": "code",
   "execution_count": null,
   "id": "eb3db909",
   "metadata": {
    "lines_to_next_cell": 0
   },
   "outputs": [],
   "source": [
    "tagged_csv_str"
   ]
  },
  {
   "cell_type": "code",
   "execution_count": null,
   "id": "cf5645dd",
   "metadata": {
    "lines_to_next_cell": 0
   },
   "outputs": [],
   "source": [
    "df2.info()"
   ]
  },
  {
   "cell_type": "code",
   "execution_count": null,
   "id": "34cb4a41",
   "metadata": {
    "lines_to_next_cell": 0
   },
   "outputs": [],
   "source": [
    "print(df)"
   ]
  },
  {
   "cell_type": "code",
   "execution_count": null,
   "id": "7842f2cb",
   "metadata": {
    "lines_to_next_cell": 0
   },
   "outputs": [],
   "source": [
    "\n",
    "\n",
    "tagged_csv_str2 = str(df2.loc[0].text)\n",
    "pd.read_csv(tagged_csv_str2)"
   ]
  },
  {
   "cell_type": "code",
   "execution_count": null,
   "id": "3bd0bf04",
   "metadata": {},
   "outputs": [],
   "source": [
    "# tagged_csv_str2\n",
    "\n",
    "'token\\tlemma\\tpos\\txpos\\nHej\\thej\\tIN\\tIN\\n!\\t!\\tMID\\tMID\\nDetta\\tdetta\\tPN\\tPN.NEU.SIN.DEF.SUB+OBJ\\när\\tvara\\tVB\\tVB.PRS.AKT\\nett\\ten\\tDT\\tDT.NEU.SIN.IND\\ntest\\ttest\\tNN\\tNN.NEU.SIN.IND.NOM\\n!\\t!\\tMAD\\tMAD\\n\\'\\t\\tMAD\\tMAD\\n\"\\t\\tMAD\\tMAD'"
   ]
  },
  {
   "cell_type": "code",
   "execution_count": null,
   "id": "067f0894",
   "metadata": {
    "lines_to_next_cell": 0
   },
   "outputs": [],
   "source": [
    "df2"
   ]
  },
  {
   "cell_type": "code",
   "execution_count": null,
   "id": "0329487e",
   "metadata": {
    "lines_to_next_cell": 0
   },
   "outputs": [],
   "source": [
    "df2.reset_index().to_dict(orient='records')"
   ]
  },
  {
   "cell_type": "code",
   "execution_count": null,
   "id": "3f7f2c1d",
   "metadata": {},
   "outputs": [],
   "source": [
    "\n",
    "\n",
    "# state_filename = '\\\\\\\\portal1.humlab.umu.se\\\\data\\\\westac\\\\riksdagen_corpus_data\\\\tmp\\\\100\\mallet\\\\state.mallet.gz'\n",
    "# data = pd.read_csv(state_filename, compression='gzip', sep=' ', skiprows=[1, 2])"
   ]
  }
 ],
 "metadata": {
  "jupytext": {
   "cell_metadata_filter": "-all",
   "main_language": "python",
   "notebook_metadata_filter": "-all"
  }
 },
 "nbformat": 4,
 "nbformat_minor": 5
}
