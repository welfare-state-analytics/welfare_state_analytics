{
 "cells": [
  {
   "cell_type": "markdown",
   "id": "72075827",
   "metadata": {},
   "source": [
    "## Text Analysis - Topic Modelling\n",
    "### <span style='color: green'>SETUP </span> Prepare and Setup Notebook <span style='float: right; color: red'>MANDATORY</span>"
   ]
  },
  {
   "cell_type": "code",
   "execution_count": null,
   "id": "ed4307df",
   "metadata": {
    "lines_to_next_cell": 2
   },
   "outputs": [],
   "source": [
    "\n",
    "import __paths__  # pylint: disable=unused-import\n",
    "from typing import Callable\n",
    "\n",
    "import bokeh.plotting\n",
    "import penelope.notebook.topic_modelling as ntm\n",
    "from IPython.display import display\n",
    "from penelope import utility as pu\n",
    "\n",
    "bokeh.plotting.output_notebook()\n",
    "pu.set_default_options()\n",
    "\n",
    "current_state: Callable[[], ntm.TopicModelContainer] = ntm.TopicModelContainer.singleton\n",
    "data_folder: str = \"/data/westac/sou_kb_labb\""
   ]
  },
  {
   "cell_type": "markdown",
   "id": "a00b8b30",
   "metadata": {},
   "source": [
    "### <span style='color: green'>PREPARE</span> Load Topic Model <span style='float: right; color: red'>MANDATORY</span>"
   ]
  },
  {
   "cell_type": "code",
   "execution_count": null,
   "id": "c4b50b9d",
   "metadata": {},
   "outputs": [],
   "source": [
    "load_gui: ntm.LoadGUI = ntm.LoadGUI(data_folder=data_folder, state=current_state(), slim=True).setup()\n",
    "display(load_gui.layout())"
   ]
  },
  {
   "cell_type": "markdown",
   "id": "6e44dc9f",
   "metadata": {},
   "source": [
    "### <span style='color: green;'>BROWSE</span> Find topics by token<span style='color: red; float: right'>TRY IT</span>\n",
    "\n",
    "Displays topics in which given token is among toplist of dominant words."
   ]
  },
  {
   "cell_type": "code",
   "execution_count": null,
   "id": "adc06666",
   "metadata": {},
   "outputs": [],
   "source": [
    "find_gui = ntm.topic_documents_gui.FindTopicDocumentsGUI(state=current_state()).setup()\n",
    "display(find_gui.layout())"
   ]
  },
  {
   "cell_type": "markdown",
   "id": "7c194984",
   "metadata": {},
   "source": [
    "### <span style='color: green;'>BROWSE</span> Browse Topic Documents<span style='color: red; float: right'>TRY IT</span>\n",
    "\n",
    "Displays documents in which a topic occurs above a given threshold."
   ]
  },
  {
   "cell_type": "code",
   "execution_count": null,
   "id": "7560f342",
   "metadata": {},
   "outputs": [],
   "source": [
    "browse_gui = ntm.topic_documents_gui.BrowseTopicDocumentsGUI(state=current_state()).setup()\n",
    "display(browse_gui.layout())"
   ]
  },
  {
   "cell_type": "markdown",
   "id": "e18248b7",
   "metadata": {},
   "source": [
    "### <span style='color: green;'>VISUALIZE</span> Display Topic's Word Distribution as a Wordcloud<span style='color: red; float: right'> TRY IT</span>"
   ]
  },
  {
   "cell_type": "code",
   "execution_count": null,
   "id": "4e936767",
   "metadata": {},
   "outputs": [],
   "source": [
    "ntm.display_topic_wordcloud_gui(current_state())"
   ]
  },
  {
   "cell_type": "markdown",
   "id": "120920d6",
   "metadata": {},
   "source": [
    "### <span style='color: green;'>VISUALIZE</span> Topic-Word Distribution<span style='color: red; float: right'>TRY IT</span>\n"
   ]
  },
  {
   "cell_type": "code",
   "execution_count": null,
   "id": "0289f234",
   "metadata": {},
   "outputs": [],
   "source": [
    "ntm.display_topic_word_distribution_gui(current_state())"
   ]
  },
  {
   "cell_type": "markdown",
   "id": "9045ebd4",
   "metadata": {},
   "source": [
    "### <span style='color: green;'>VISUALIZE</span> Topic Trends over Time<span style='color: red; float: right'>RUN</span>"
   ]
  },
  {
   "cell_type": "code",
   "execution_count": null,
   "id": "e7fa4bf6",
   "metadata": {},
   "outputs": [],
   "source": [
    "ntm.display_topic_trends_gui(current_state())"
   ]
  },
  {
   "cell_type": "markdown",
   "id": "63f7f010",
   "metadata": {},
   "source": [
    "### <span style='color: green;'>VISUALIZE</span> Topic Trends Overview<span style='color: red; float: right'>TRY IT</span>\n",
    "\n",
    "- The topic shares  displayed as a scattered heatmap plot using gradient color based on topic's weight in document.\n",
    "- [Stanford’s Termite software](http://vis.stanford.edu/papers/termite) uses a similar visualization."
   ]
  },
  {
   "cell_type": "code",
   "execution_count": null,
   "id": "98f8bef2",
   "metadata": {},
   "outputs": [],
   "source": [
    "ntm.display_topic_trends_overview_gui(current_state())"
   ]
  },
  {
   "cell_type": "markdown",
   "id": "41291523",
   "metadata": {},
   "source": [
    "### <span style='color: green;'>VISUALIZE</span> Topic Topic Network<span style='color: red; float: right'>TRY IT</span>\n",
    "\n",
    "Computes weighted graph of topics co-occurring in the same document. Topics are defined as co-occurring in a document if they both have a weight above given threshold. The edge weights are the number of co-occurrences (binary yes or no). Node size reflects topic proportions over the entire corpus computed in accordance to LDAvis topic proportions."
   ]
  },
  {
   "cell_type": "code",
   "execution_count": null,
   "id": "67077830",
   "metadata": {
    "code_folding": [
     0
    ]
   },
   "outputs": [],
   "source": [
    "ntm.display_topic_topic_network_gui(current_state())"
   ]
  },
  {
   "cell_type": "markdown",
   "id": "b273c8fe",
   "metadata": {},
   "source": [
    "### <span style='color: green;'>VISUALIZE</span> Document Topic Network<span style='color: red; float: right'>TRY IT</span>\n"
   ]
  },
  {
   "cell_type": "code",
   "execution_count": null,
   "id": "55d0caf9",
   "metadata": {
    "lines_to_next_cell": 0
   },
   "outputs": [],
   "source": [
    "doc_topic_gui = ntm.DefaultTopicDocumentNetworkGui(pivot_key_specs={}, state=current_state()).setup()\n",
    "display(doc_topic_gui.layout())"
   ]
  },
  {
   "cell_type": "markdown",
   "id": "78f77dd9",
   "metadata": {},
   "source": [
    "### <span style='color: green;'>VISUALIZE</span> Focus-Topic Document Network<span style='color: red; float: right'>TRY IT</span>\n"
   ]
  },
  {
   "cell_type": "code",
   "execution_count": null,
   "id": "a0a124f9",
   "metadata": {
    "lines_to_next_cell": 0
   },
   "outputs": [],
   "source": [
    "display(ntm.FocusTopicDocumentNetworkGui(pivot_key_specs={}, state=current_state()).setup().layout())"
   ]
  },
  {
   "cell_type": "markdown",
   "id": "b827288e",
   "metadata": {},
   "source": [
    "### <span style='color: green;'>VISUALIZE</span> Topic-Token  Network<span style='color: red; float: right'>TRY IT</span>"
   ]
  },
  {
   "cell_type": "code",
   "execution_count": null,
   "id": "dfed0487",
   "metadata": {},
   "outputs": [],
   "source": [
    "data_folder: str = \"/data/westac/sou_kb_labb\"\n",
    "custom_styles = {'edges': {'curve-style': 'haystack'}}\n",
    "w = ntm.create_topics_token_network_gui(data_folder=data_folder, custom_styles=custom_styles)\n",
    "display(w.layout())"
   ]
  }
 ],
 "metadata": {
  "jupytext": {
   "encoding": "# -*- coding: utf-8 -*-",
   "formats": "ipynb,py:percent"
  },
  "kernelspec": {
   "display_name": "Python 3 (ipykernel)",
   "language": "python",
   "name": "python3"
  }
 },
 "nbformat": 4,
 "nbformat_minor": 5
}
