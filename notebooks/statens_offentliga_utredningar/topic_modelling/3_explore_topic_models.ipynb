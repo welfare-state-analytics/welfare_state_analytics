{
 "cells": [
  {
   "cell_type": "markdown",
   "id": "e3aed14a",
   "metadata": {},
   "source": [
    "## Text Analysis - Topic Modelling\n",
    "### <span style='color: green'>SETUP </span> Prepare and Setup Notebook <span style='float: right; color: red'>MANDATORY</span>"
   ]
  },
  {
   "cell_type": "code",
   "execution_count": null,
   "id": "7f717c24",
   "metadata": {
    "lines_to_next_cell": 2
   },
   "outputs": [],
   "source": [
    "\n",
    "import __paths__  # pylint: disable=unused-import\n",
    "import os\n",
    "from typing import Callable\n",
    "\n",
    "import bokeh.plotting\n",
    "import penelope.notebook.topic_modelling as ntm\n",
    "from IPython.display import display\n",
    "from penelope import utility as pu\n",
    "from penelope.pipeline.config import CorpusConfig\n",
    "\n",
    "bokeh.plotting.output_notebook()\n",
    "pu.set_default_options()\n",
    "\n",
    "current_state: Callable[[], ntm.TopicModelContainer] = ntm.TopicModelContainer.singleton\n",
    "corpus_folder: str = \"/data/westac/sou_kb_labb\"\n",
    "corpus_config: CorpusConfig = CorpusConfig.load(os.path.join(__paths__.resources_folder, 'sou_sparv4.yml'))"
   ]
  },
  {
   "cell_type": "markdown",
   "id": "a125adb5",
   "metadata": {},
   "source": [
    "### <span style='color: green'>PREPARE</span> Load Topic Model <span style='float: right; color: red'>MANDATORY</span>"
   ]
  },
  {
   "cell_type": "code",
   "execution_count": null,
   "id": "746edf8b",
   "metadata": {},
   "outputs": [],
   "source": [
    "# load_gui = ntm.create_load_topic_model_gui(\n",
    "#     corpus_folder=corpus_folder, corpus_config=corpus_config, state=current_state(), slim=True\n",
    "# )\n",
    "load_gui: ntm.LoadGUI = ntm.LoadGUI(corpus_folder=corpus_folder, state=current_state(), slim=True).setup()\n",
    "\n",
    "display(load_gui.layout())"
   ]
  },
  {
   "cell_type": "markdown",
   "id": "0f36088e",
   "metadata": {},
   "source": [
    "### <span style='color: green;'>BROWSE</span> Find topics by token<span style='color: red; float: right'>TRY IT</span>\n",
    "\n",
    "Displays topics in which given token is among toplist of dominant words."
   ]
  },
  {
   "cell_type": "code",
   "execution_count": null,
   "id": "55703d44",
   "metadata": {},
   "outputs": [],
   "source": [
    "display(ntm.topic_documents_gui.FindTopicDocumentsGUI(state=current_state()).setup().layout())"
   ]
  },
  {
   "cell_type": "markdown",
   "id": "ff272766",
   "metadata": {},
   "source": [
    "### <span style='color: green;'>BROWSE</span> Browse Topic Documents<span style='color: red; float: right'>TRY IT</span>\n",
    "\n",
    "Displays documents in which a topic occurs above a given threshold."
   ]
  },
  {
   "cell_type": "code",
   "execution_count": null,
   "id": "89540e17",
   "metadata": {},
   "outputs": [],
   "source": [
    "display(ntm.topic_documents_gui.BrowseTopicDocumentsGUI(state=current_state()).setup().layout())"
   ]
  },
  {
   "cell_type": "markdown",
   "id": "fadffa77",
   "metadata": {},
   "source": [
    "### <span style='color: green;'>VISUALIZE</span> Display Topic's Word Distribution as a Wordcloud<span style='color: red; float: right'> TRY IT</span>"
   ]
  },
  {
   "cell_type": "code",
   "execution_count": null,
   "id": "5440dcff",
   "metadata": {},
   "outputs": [],
   "source": [
    "ntm.display_topic_wordcloud_gui(current_state())"
   ]
  },
  {
   "cell_type": "markdown",
   "id": "cb08cfec",
   "metadata": {},
   "source": [
    "### <span style='color: green;'>VISUALIZE</span> Topic-Word Distribution<span style='color: red; float: right'>TRY IT</span>\n"
   ]
  },
  {
   "cell_type": "code",
   "execution_count": null,
   "id": "57b48210",
   "metadata": {},
   "outputs": [],
   "source": [
    "ntm.display_topic_word_distribution_gui(current_state())"
   ]
  },
  {
   "cell_type": "markdown",
   "id": "2d127607",
   "metadata": {},
   "source": [
    "### <span style='color: green;'>VISUALIZE</span> Topic Trends over Time<span style='color: red; float: right'>RUN</span>"
   ]
  },
  {
   "cell_type": "code",
   "execution_count": null,
   "id": "68081448",
   "metadata": {},
   "outputs": [],
   "source": [
    "ntm.display_topic_trends_gui(current_state())"
   ]
  },
  {
   "cell_type": "markdown",
   "id": "9b884923",
   "metadata": {},
   "source": [
    "### <span style='color: green;'>VISUALIZE</span> Topic Trends Overview<span style='color: red; float: right'>TRY IT</span>\n",
    "\n",
    "- The topic shares  displayed as a scattered heatmap plot using gradient color based on topic's weight in document.\n",
    "- [Stanford’s Termite software](http://vis.stanford.edu/papers/termite) uses a similar visualization."
   ]
  },
  {
   "cell_type": "code",
   "execution_count": null,
   "id": "c9045ac7",
   "metadata": {},
   "outputs": [],
   "source": [
    "ntm.display_topic_trends_overview_gui(current_state())"
   ]
  },
  {
   "cell_type": "markdown",
   "id": "d2f71076",
   "metadata": {},
   "source": [
    "### <span style='color: green;'>VISUALIZE</span> Topic Topic Network<span style='color: red; float: right'>TRY IT</span>\n",
    "\n",
    "Computes weighted graph of topics co-occurring in the same document. Topics are defined as co-occurring in a document if they both have a weight above given threshold. The edge weights are the number of co-occurrences (binary yes or no). Node size reflects topic proportions over the entire corpus computed in accordance to LDAvis topic proportions."
   ]
  },
  {
   "cell_type": "code",
   "execution_count": null,
   "id": "0a499d7f",
   "metadata": {
    "code_folding": [
     0
    ]
   },
   "outputs": [],
   "source": [
    "ntm.display_topic_topic_network_gui(current_state())"
   ]
  },
  {
   "cell_type": "markdown",
   "id": "2d844e1b",
   "metadata": {},
   "source": [
    "### <span style='color: green;'>VISUALIZE</span> Document Topic Network<span style='color: red; float: right'>TRY IT</span>\n"
   ]
  },
  {
   "cell_type": "code",
   "execution_count": null,
   "id": "898db2eb",
   "metadata": {
    "lines_to_next_cell": 0
   },
   "outputs": [],
   "source": [
    "display(ntm.DefaultTopicDocumentNetworkGui(pivot_key_specs={}, state=current_state()).setup().layout())"
   ]
  },
  {
   "cell_type": "markdown",
   "id": "93f8ae64",
   "metadata": {},
   "source": [
    "### <span style='color: green;'>VISUALIZE</span> Focus-Topic Document Network<span style='color: red; float: right'>TRY IT</span>\n"
   ]
  },
  {
   "cell_type": "code",
   "execution_count": null,
   "id": "67f9ef97",
   "metadata": {
    "lines_to_next_cell": 0
   },
   "outputs": [],
   "source": [
    "display(ntm.FocusTopicDocumentNetworkGui(pivot_key_specs={}, state=current_state()).setup().layout())"
   ]
  },
  {
   "cell_type": "markdown",
   "id": "b4179bdf",
   "metadata": {},
   "source": [
    "### <span style='color: green;'>VISUALIZE</span> Topic-Token  Network<span style='color: red; float: right'>TRY IT</span>"
   ]
  },
  {
   "cell_type": "code",
   "execution_count": null,
   "id": "d40eebe8",
   "metadata": {},
   "outputs": [],
   "source": [
    "\n",
    "corpus_folder: str = \"/data/westac/sou_kb_labb\"\n",
    "custom_styles = {'edges': {'curve-style': 'haystack'}}\n",
    "w = ntm.create_topics_token_network_gui(data_folder=corpus_folder, custom_styles=custom_styles)\n",
    "display(w.layout())"
   ]
  },
  {
   "cell_type": "code",
   "execution_count": null,
   "id": "3ee37cd0",
   "metadata": {},
   "outputs": [],
   "source": []
  }
 ],
 "metadata": {
  "jupytext": {
   "encoding": "# -*- coding: utf-8 -*-",
   "formats": "ipynb,py:percent"
  },
  "kernelspec": {
   "display_name": "Python 3 (ipykernel)",
   "language": "python",
   "name": "python3"
  }
 },
 "nbformat": 4,
 "nbformat_minor": 5
}
