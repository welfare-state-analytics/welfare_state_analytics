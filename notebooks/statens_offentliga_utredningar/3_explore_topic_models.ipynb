{
 "cells": [
  {
   "cell_type": "markdown",
   "id": "03420614",
   "metadata": {},
   "source": [
    "## Text Analysis - Topic Modelling\n",
    "### <span style='color: green'>SETUP </span> Prepare and Setup Notebook <span style='float: right; color: red'>MANDATORY</span>"
   ]
  },
  {
   "cell_type": "code",
   "execution_count": null,
   "id": "8d4b2c37",
   "metadata": {
    "lines_to_next_cell": 2
   },
   "outputs": [],
   "source": [
    "\n",
    "import os\n",
    "from typing import Callable\n",
    "\n",
    "import bokeh.plotting\n",
    "import penelope.notebook.topic_modelling as gui\n",
    "from IPython.display import display\n",
    "from penelope.pipeline.config import CorpusConfig\n",
    "from penelope.utility import pandas_utils\n",
    "\n",
    "import __paths__  # pylint: disable=unused-import\n",
    "\n",
    "bokeh.plotting.output_notebook()\n",
    "pandas_utils.set_default_options()\n",
    "\n",
    "current_state: Callable[[], gui.TopicModelContainer] = gui.TopicModelContainer.singleton\n",
    "corpus_folder: str = \"/data/westac/sou_kb_labb\"\n",
    "corpus_config: CorpusConfig = CorpusConfig.load(os.path.join(__paths__.resources_folder, 'sou_sparv4.yml'))"
   ]
  },
  {
   "cell_type": "markdown",
   "id": "f889886f",
   "metadata": {},
   "source": [
    "### <span style='color: green'>PREPARE</span> Load Topic Model <span style='float: right; color: red'>MANDATORY</span>"
   ]
  },
  {
   "cell_type": "code",
   "execution_count": null,
   "id": "b0a945fa",
   "metadata": {},
   "outputs": [],
   "source": [
    "load_gui = gui.create_load_topic_model_gui(corpus_config, corpus_folder, current_state())\n",
    "display(load_gui.layout())"
   ]
  },
  {
   "cell_type": "markdown",
   "id": "16121706",
   "metadata": {},
   "source": [
    "### <span style='color: green;'>BROWSE</span> Find topics by token<span style='color: red; float: right'>TRY IT</span>\n",
    "\n",
    "Displays topics in which given token is among toplist of dominant words."
   ]
  },
  {
   "cell_type": "code",
   "execution_count": null,
   "id": "8314e55b",
   "metadata": {},
   "outputs": [],
   "source": [
    "gui.find_topic_documents_gui(current_state().inferred_topics)"
   ]
  },
  {
   "cell_type": "markdown",
   "id": "46bd75fb",
   "metadata": {},
   "source": [
    "### <span style='color: green;'>BROWSE</span> Browse Topic Documents<span style='color: red; float: right'>TRY IT</span>\n",
    "\n",
    "Displays documents in which a topic occurs above a given threshold."
   ]
  },
  {
   "cell_type": "code",
   "execution_count": null,
   "id": "97ff7547",
   "metadata": {},
   "outputs": [],
   "source": [
    "gui.display_topic_documents_gui(current_state())"
   ]
  },
  {
   "cell_type": "markdown",
   "id": "acb3754b",
   "metadata": {},
   "source": [
    "### <span style='color: green;'>VISUALIZE</span> Display Topic's Word Distribution as a Wordcloud<span style='color: red; float: right'> TRY IT</span>"
   ]
  },
  {
   "cell_type": "code",
   "execution_count": null,
   "id": "5f4036f2",
   "metadata": {},
   "outputs": [],
   "source": [
    "gui.display_topic_wordcloud_gui(current_state())"
   ]
  },
  {
   "cell_type": "markdown",
   "id": "130b6101",
   "metadata": {},
   "source": [
    "### <span style='color: green;'>VISUALIZE</span> Topic-Word Distribution<span style='color: red; float: right'>TRY IT</span>\n"
   ]
  },
  {
   "cell_type": "code",
   "execution_count": null,
   "id": "84fd89ad",
   "metadata": {},
   "outputs": [],
   "source": [
    "gui.display_topic_word_distribution_gui(current_state())"
   ]
  },
  {
   "cell_type": "markdown",
   "id": "976143a1",
   "metadata": {},
   "source": [
    "### <span style='color: green;'>VISUALIZE</span> Topic Trends over Time<span style='color: red; float: right'>RUN</span>"
   ]
  },
  {
   "cell_type": "code",
   "execution_count": null,
   "id": "3f7b8667",
   "metadata": {},
   "outputs": [],
   "source": [
    "gui.display_topic_trends_gui(current_state())"
   ]
  },
  {
   "cell_type": "markdown",
   "id": "fffd609c",
   "metadata": {},
   "source": [
    "### <span style='color: green;'>VISUALIZE</span> Topic Trends Overview<span style='color: red; float: right'>TRY IT</span>\n",
    "\n",
    "- The topic shares  displayed as a scattered heatmap plot using gradient color based on topic's weight in document.\n",
    "- [Stanford’s Termite software](http://vis.stanford.edu/papers/termite) uses a similar visualization."
   ]
  },
  {
   "cell_type": "code",
   "execution_count": null,
   "id": "0bd64473",
   "metadata": {},
   "outputs": [],
   "source": [
    "gui.display_topic_trends_overview_gui(current_state())"
   ]
  },
  {
   "cell_type": "markdown",
   "id": "cc20daf2",
   "metadata": {},
   "source": [
    "### <span style='color: green;'>VISUALIZE</span> Topic Topic Network<span style='color: red; float: right'>TRY IT</span>\n",
    "\n",
    "Computes weighted graph of topics co-occurring in the same document. Topics are defined as co-occurring in a document if they both have a weight above given threshold. The edge weights are the number of co-occurrences (binary yes or no). Node size reflects topic proportions over the entire corpus computed in accordance to LDAvis topic proportions."
   ]
  },
  {
   "cell_type": "code",
   "execution_count": null,
   "id": "133a0cfb",
   "metadata": {
    "code_folding": [
     0
    ]
   },
   "outputs": [],
   "source": [
    "gui.display_topic_topic_network_gui(current_state())"
   ]
  },
  {
   "cell_type": "markdown",
   "id": "2ea5446c",
   "metadata": {},
   "source": [
    "### <span style='color: green;'>VISUALIZE</span> Document Topic Network<span style='color: red; float: right'>TRY IT</span>\n"
   ]
  },
  {
   "cell_type": "code",
   "execution_count": null,
   "id": "0c1b5a59",
   "metadata": {},
   "outputs": [],
   "source": [
    "gui.display_topic_document_network_gui(plot_mode=gui.PlotMode.Default, state=current_state())  # type: ignore"
   ]
  },
  {
   "cell_type": "markdown",
   "id": "8789b36f",
   "metadata": {},
   "source": [
    "### <span style='color: green;'>VISUALIZE</span> Focus-Topic Document Network<span style='color: red; float: right'>TRY IT</span>\n"
   ]
  },
  {
   "cell_type": "code",
   "execution_count": null,
   "id": "bf368658",
   "metadata": {},
   "outputs": [],
   "source": [
    "gui.display_topic_document_network_gui(plot_mode=gui.PlotMode.FocusTopics, state=current_state())"
   ]
  },
  {
   "cell_type": "markdown",
   "id": "85b0cf22",
   "metadata": {},
   "source": [
    "### <span style='color: green;'>VISUALIZE</span> Topic-Token  Network<span style='color: red; float: right'>TRY IT</span>"
   ]
  },
  {
   "cell_type": "code",
   "execution_count": null,
   "id": "08e71a55",
   "metadata": {},
   "outputs": [],
   "source": [
    "\n",
    "corpus_folder: str = \"/data/westac/sou_kb_labb\"\n",
    "custom_styles = {'edges': {'curve-style': 'haystack'}}\n",
    "w = gui.create_topics_token_network_gui(data_folder=corpus_folder, custom_styles=custom_styles)\n",
    "display(w.layout())"
   ]
  },
  {
   "cell_type": "code",
   "execution_count": null,
   "id": "164fc9c5",
   "metadata": {},
   "outputs": [],
   "source": []
  }
 ],
 "metadata": {
  "jupytext": {
   "encoding": "# -*- coding: utf-8 -*-",
   "formats": "ipynb,py:percent"
  },
  "kernelspec": {
   "display_name": "Python 3 (ipykernel)",
   "language": "python",
   "name": "python3"
  }
 },
 "nbformat": 4,
 "nbformat_minor": 5
}
