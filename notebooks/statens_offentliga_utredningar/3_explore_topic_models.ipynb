{
 "cells": [
  {
   "cell_type": "markdown",
   "id": "19abbabf",
   "metadata": {},
   "source": [
    "## Text Analysis - Topic Modelling\n",
    "### <span style='color: green'>SETUP </span> Prepare and Setup Notebook <span style='float: right; color: red'>MANDATORY</span>"
   ]
  },
  {
   "cell_type": "code",
   "execution_count": null,
   "id": "2ac07021",
   "metadata": {
    "lines_to_next_cell": 2
   },
   "outputs": [],
   "source": [
    "\n",
    "import __paths__  # pylint: disable=unused-import\n",
    "import os\n",
    "from typing import Callable\n",
    "\n",
    "import bokeh.plotting\n",
    "import penelope.notebook.topic_modelling as ntm\n",
    "from IPython.display import display\n",
    "from penelope import utility as pu\n",
    "from penelope.pipeline.config import CorpusConfig\n",
    "\n",
    "bokeh.plotting.output_notebook()\n",
    "pu.set_default_options()\n",
    "\n",
    "current_state: Callable[[], ntm.TopicModelContainer] = ntm.TopicModelContainer.singleton\n",
    "corpus_folder: str = \"/data/westac/sou_kb_labb\"\n",
    "corpus_config: CorpusConfig = CorpusConfig.load(os.path.join(__paths__.resources_folder, 'sou_sparv4.yml'))"
   ]
  },
  {
   "cell_type": "markdown",
   "id": "4dc2ce88",
   "metadata": {},
   "source": [
    "### <span style='color: green'>PREPARE</span> Load Topic Model <span style='float: right; color: red'>MANDATORY</span>"
   ]
  },
  {
   "cell_type": "code",
   "execution_count": null,
   "id": "4a139ab2",
   "metadata": {},
   "outputs": [],
   "source": [
    "load_gui = ntm.create_load_topic_model_gui(corpus_config, corpus_folder, current_state())\n",
    "display(load_gui.layout())"
   ]
  },
  {
   "cell_type": "markdown",
   "id": "73ead774",
   "metadata": {},
   "source": [
    "### <span style='color: green;'>BROWSE</span> Find topics by token<span style='color: red; float: right'>TRY IT</span>\n",
    "\n",
    "Displays topics in which given token is among toplist of dominant words."
   ]
  },
  {
   "cell_type": "code",
   "execution_count": null,
   "id": "20d0dca3",
   "metadata": {},
   "outputs": [],
   "source": [
    "display(ntm.topic_documents_gui.FindTopicDocumentsGUI(state=current_state).setup().layout())"
   ]
  },
  {
   "cell_type": "markdown",
   "id": "50fa93ed",
   "metadata": {},
   "source": [
    "### <span style='color: green;'>BROWSE</span> Browse Topic Documents<span style='color: red; float: right'>TRY IT</span>\n",
    "\n",
    "Displays documents in which a topic occurs above a given threshold."
   ]
  },
  {
   "cell_type": "code",
   "execution_count": null,
   "id": "b3b66ec4",
   "metadata": {},
   "outputs": [],
   "source": [
    "display(ntm.topic_documents_gui.BrowseTopicDocumentsGUI(state=current_state).setup().layout())"
   ]
  },
  {
   "cell_type": "markdown",
   "id": "8007c6de",
   "metadata": {},
   "source": [
    "### <span style='color: green;'>VISUALIZE</span> Display Topic's Word Distribution as a Wordcloud<span style='color: red; float: right'> TRY IT</span>"
   ]
  },
  {
   "cell_type": "code",
   "execution_count": null,
   "id": "79d5090d",
   "metadata": {},
   "outputs": [],
   "source": [
    "ntm.display_topic_wordcloud_gui(current_state())"
   ]
  },
  {
   "cell_type": "markdown",
   "id": "cfe3d4e7",
   "metadata": {},
   "source": [
    "### <span style='color: green;'>VISUALIZE</span> Topic-Word Distribution<span style='color: red; float: right'>TRY IT</span>\n"
   ]
  },
  {
   "cell_type": "code",
   "execution_count": null,
   "id": "8db579ab",
   "metadata": {},
   "outputs": [],
   "source": [
    "ntm.display_topic_word_distribution_gui(current_state())"
   ]
  },
  {
   "cell_type": "markdown",
   "id": "354caeec",
   "metadata": {},
   "source": [
    "### <span style='color: green;'>VISUALIZE</span> Topic Trends over Time<span style='color: red; float: right'>RUN</span>"
   ]
  },
  {
   "cell_type": "code",
   "execution_count": null,
   "id": "73bc2e91",
   "metadata": {},
   "outputs": [],
   "source": [
    "ntm.display_topic_trends_gui(current_state())"
   ]
  },
  {
   "cell_type": "markdown",
   "id": "8e8e7437",
   "metadata": {},
   "source": [
    "### <span style='color: green;'>VISUALIZE</span> Topic Trends Overview<span style='color: red; float: right'>TRY IT</span>\n",
    "\n",
    "- The topic shares  displayed as a scattered heatmap plot using gradient color based on topic's weight in document.\n",
    "- [Stanford’s Termite software](http://vis.stanford.edu/papers/termite) uses a similar visualization."
   ]
  },
  {
   "cell_type": "code",
   "execution_count": null,
   "id": "1f8c7730",
   "metadata": {},
   "outputs": [],
   "source": [
    "ntm.display_topic_trends_overview_gui(current_state())"
   ]
  },
  {
   "cell_type": "markdown",
   "id": "0130ae28",
   "metadata": {},
   "source": [
    "### <span style='color: green;'>VISUALIZE</span> Topic Topic Network<span style='color: red; float: right'>TRY IT</span>\n",
    "\n",
    "Computes weighted graph of topics co-occurring in the same document. Topics are defined as co-occurring in a document if they both have a weight above given threshold. The edge weights are the number of co-occurrences (binary yes or no). Node size reflects topic proportions over the entire corpus computed in accordance to LDAvis topic proportions."
   ]
  },
  {
   "cell_type": "code",
   "execution_count": null,
   "id": "9610f582",
   "metadata": {
    "code_folding": [
     0
    ]
   },
   "outputs": [],
   "source": [
    "ntm.display_topic_topic_network_gui(current_state())"
   ]
  },
  {
   "cell_type": "markdown",
   "id": "5a8bbb4c",
   "metadata": {},
   "source": [
    "### <span style='color: green;'>VISUALIZE</span> Document Topic Network<span style='color: red; float: right'>TRY IT</span>\n"
   ]
  },
  {
   "cell_type": "code",
   "execution_count": null,
   "id": "04922f37",
   "metadata": {
    "lines_to_next_cell": 0
   },
   "outputs": [],
   "source": [
    "display(ntm.DefaultTopicDocumentNetworkGui(pivot_key_specs={}, state=current_state()).setup().layout())"
   ]
  },
  {
   "cell_type": "markdown",
   "id": "9fc50696",
   "metadata": {},
   "source": [
    "### <span style='color: green;'>VISUALIZE</span> Focus-Topic Document Network<span style='color: red; float: right'>TRY IT</span>\n"
   ]
  },
  {
   "cell_type": "code",
   "execution_count": null,
   "id": "1213f1af",
   "metadata": {
    "lines_to_next_cell": 0
   },
   "outputs": [],
   "source": [
    "display(ntm.FocusTopicDocumentNetworkGui(pivot_key_specs={}, state=current_state()).setup().layout())"
   ]
  },
  {
   "cell_type": "markdown",
   "id": "0a1800ef",
   "metadata": {},
   "source": [
    "### <span style='color: green;'>VISUALIZE</span> Topic-Token  Network<span style='color: red; float: right'>TRY IT</span>"
   ]
  },
  {
   "cell_type": "code",
   "execution_count": null,
   "id": "136f3eb8",
   "metadata": {},
   "outputs": [],
   "source": [
    "\n",
    "corpus_folder: str = \"/data/westac/sou_kb_labb\"\n",
    "custom_styles = {'edges': {'curve-style': 'haystack'}}\n",
    "w = ntm.create_topics_token_network_gui(data_folder=corpus_folder, custom_styles=custom_styles)\n",
    "display(w.layout())"
   ]
  },
  {
   "cell_type": "code",
   "execution_count": null,
   "id": "f189e50d",
   "metadata": {},
   "outputs": [],
   "source": []
  }
 ],
 "metadata": {
  "jupytext": {
   "encoding": "# -*- coding: utf-8 -*-",
   "formats": "ipynb,py:percent"
  },
  "kernelspec": {
   "display_name": "Python 3 (ipykernel)",
   "language": "python",
   "name": "python3"
  }
 },
 "nbformat": 4,
 "nbformat_minor": 5
}
