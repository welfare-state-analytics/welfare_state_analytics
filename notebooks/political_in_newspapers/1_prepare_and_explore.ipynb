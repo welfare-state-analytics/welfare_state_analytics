{
 "cells": [
  {
   "cell_type": "markdown",
   "id": "83016d30",
   "metadata": {},
   "source": [
    "### Process R data files"
   ]
  },
  {
   "cell_type": "code",
   "execution_count": null,
   "id": "45e5f175",
   "metadata": {},
   "outputs": [],
   "source": [
    "%load_ext autoreload\n",
    "%autoreload 2\n",
    "\n",
    "# pylint: disable=redefined-outer-name,no-member\n",
    "\n",
    "import __paths__  # isort:skip pylint: disable=import-error, unused-import\n",
    "\n",
    "from notebooks.political_in_newspapers import repository\n",
    "\n",
    "CORPUS_FOLDER = '/data/westac/textblock_politisk'"
   ]
  },
  {
   "cell_type": "markdown",
   "id": "5a5ec838",
   "metadata": {},
   "source": [
    "### Load DTM, document index and vocabulary\n",
    "Load data from CSV files exported from R (drm1)"
   ]
  },
  {
   "cell_type": "code",
   "execution_count": null,
   "id": "de0f78e4",
   "metadata": {},
   "outputs": [],
   "source": [
    "\n",
    "source_corpus: repository.SourceCorpus = repository.SourceRepository.load(CORPUS_FOLDER)"
   ]
  },
  {
   "cell_type": "code",
   "execution_count": null,
   "id": "f2ada901",
   "metadata": {},
   "outputs": [],
   "source": [
    "\n",
    "_ = repository.plot_document_size_distribution(source_corpus.document_index)\n",
    "\n",
    "source_corpus.corpus.head()\n",
    "source_corpus.document_index.head()\n",
    "source_corpus.info()"
   ]
  },
  {
   "cell_type": "markdown",
   "id": "d0ee6ae1",
   "metadata": {
    "lines_to_next_cell": 0
   },
   "source": [
    "### Document size distribution"
   ]
  },
  {
   "cell_type": "code",
   "execution_count": null,
   "id": "08827efe",
   "metadata": {
    "lines_to_next_cell": 2
   },
   "outputs": [],
   "source": [
    "\n",
    "# print(df.describe())"
   ]
  },
  {
   "cell_type": "markdown",
   "id": "3cb2af43",
   "metadata": {},
   "source": [
    "### Number of documents per year and publication"
   ]
  },
  {
   "cell_type": "code",
   "execution_count": null,
   "id": "ddb32410",
   "metadata": {
    "lines_to_next_cell": 2
   },
   "outputs": [],
   "source": [
    "\n",
    "\n",
    "unique_yearly_docs = repository.unique_documents_per_year_and_publication(source_corpus.document_index)\n",
    "\n",
    "unique_yearly_docs.unstack(\"publication\").plot(kind=\"bar\", subplots=True, figsize=(20, 20), layout=(2, 2), rot=45)\n",
    "\n",
    "mean_tokens_per_year = repository.mean_tokens_per_year(source_corpus.document_index)\n",
    "mean_tokens_per_year.to_excel(\"mean_tokens_per_year.xlsx\")\n",
    "# display(mean_tokens_per_year)\n",
    "mean_tokens_per_year.plot(kind='bar', subplots=True, figsize=(25, 25), layout=(2, 2), rot=45)"
   ]
  },
  {
   "cell_type": "markdown",
   "id": "c6e76984",
   "metadata": {
    "lines_to_next_cell": 0
   },
   "source": [
    "### Extract text for DN 1968"
   ]
  },
  {
   "cell_type": "code",
   "execution_count": null,
   "id": "8f485835",
   "metadata": {},
   "outputs": [],
   "source": [
    "\n",
    "# repository.ExtractDN68.extract(folder=CORPUS_FOLDER, document_index=source_corpus.document_index)"
   ]
  }
 ],
 "metadata": {
  "jupytext": {
   "formats": "ipynb,py:percent",
   "main_language": "python"
  }
 },
 "nbformat": 4,
 "nbformat_minor": 5
}
