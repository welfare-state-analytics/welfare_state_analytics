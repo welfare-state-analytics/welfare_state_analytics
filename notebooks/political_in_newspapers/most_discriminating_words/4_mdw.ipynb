{
 "cells": [
  {
   "cell_type": "markdown",
   "id": "3c9c9361",
   "metadata": {},
   "source": [
    "## Most Discriminating Terms\n",
    "Note! The computation can take a very long time depending on corpus size and arguments. It might be preferable to use the CLI version instead.\n",
    "\n",
    "### Example CLI call\n",
    "Compare AB 1949-1949 to DN 1989-1989. Only the 200 top words are included in the computation, and at most 100 words are returned per group. Words that occur in few documents ( less than 3%), and many documents (more than 95%) are filtered out.\n",
    "\n",
    "```\n",
    "python mdw_runner.py --group AB 1945 1949 --group DN 1985 1989 --top-n-terms 200 --max-n-terms 100 --min-df 3.0 --max-df 95.0\n",
    "```\n",
    "\n",
    "The result is stored in an excel file which is named based on the execution parameters.\n"
   ]
  },
  {
   "cell_type": "code",
   "execution_count": null,
   "id": "ef818d57",
   "metadata": {},
   "outputs": [],
   "source": [
    "%load_ext autoreload\n",
    "%autoreload 2\n",
    "\n",
    "import os\n",
    "import sys\n",
    "\n",
    "from . import mdw_gui\n",
    "\n",
    "\n",
    "def get_root_folder():\n",
    "    parts = os.getcwd().split(os.path.sep)\n",
    "    parts = parts[: parts.index(\"welfare_state_analytics\") + 1]\n",
    "    return os.path.join(\"/\", *parts)\n",
    "\n",
    "\n",
    "if os.environ.get(\"JUPYTER_IMAGE_SPEC\", \"\") == \"westac_lab\":\n",
    "    root_folder = \"/home/jovyan/welfare_state_analytics\"\n",
    "    corpus_folder = \"/data/westac/textblock_politisk\"\n",
    "else:\n",
    "    root_folder = get_root_folder()\n",
    "    corpus_folder = os.path.join(root_folder, \"data/textblock_politisk\")\n",
    "\n",
    "sys.path = [root_folder] + sys.path\n",
    "\n",
    "\n",
    "v_corpus = mdw_gui.load_vectorized_corpus(corpus_folder, [1, 3])\n",
    "\n",
    "gui = mdw_gui.display_gui(v_corpus, v_corpus.document_index)"
   ]
  },
  {
   "cell_type": "code",
   "execution_count": null,
   "id": "e1d3a2bb",
   "metadata": {},
   "outputs": [],
   "source": []
  }
 ],
 "metadata": {
  "jupytext": {
   "formats": "ipynb,py:percent"
  },
  "kernelspec": {
   "display_name": "Python 3 (ipykernel)",
   "language": "python",
   "name": "python3"
  }
 },
 "nbformat": 4,
 "nbformat_minor": 5
}
