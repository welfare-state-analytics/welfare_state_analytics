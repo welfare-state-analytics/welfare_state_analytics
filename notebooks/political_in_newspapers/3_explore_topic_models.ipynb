{
 "cells": [
  {
   "cell_type": "markdown",
   "id": "5d980ea4",
   "metadata": {},
   "source": [
    "## Text Analysis - Topic Modelling\n",
    "### <span style='color: green'>SETUP </span> Prepare and Setup Notebook <span style='float: right; color: red'>MANDATORY</span>"
   ]
  },
  {
   "cell_type": "code",
   "execution_count": null,
   "id": "719ea8ae",
   "metadata": {},
   "outputs": [],
   "source": [
    "# pylint: disable=wrong-import-position\n",
    "\n",
    "import __paths__  # isort:skip pylint: disable=import-error, unused-import\n",
    "\n",
    "import bokeh.plotting\n",
    "import penelope.notebook.topic_modelling as gui\n",
    "from IPython.core.interactiveshell import InteractiveShell\n",
    "from IPython.display import display\n",
    "\n",
    "import notebooks.political_in_newspapers.notebook_gui.publication_topic_network_gui as publication_topic_network_gui\n",
    "import notebooks.political_in_newspapers.notebook_gui.topic_document_texts_gui as texts_gui\n",
    "import notebooks.political_in_newspapers.notebook_gui.topic_topic_network_gui as topic_topic_gui\n",
    "import notebooks.political_in_newspapers.notebook_gui.topic_trends_gui as trends_gui\n",
    "import notebooks.political_in_newspapers.notebook_gui.topic_trends_overview_gui as overview_gui\n",
    "\n",
    "InteractiveShell.ast_node_interactivity = \"all\"\n",
    "\n",
    "%matplotlib inline\n",
    "\n",
    "current_state = gui.TopicModelContainer.singleton\n",
    "bokeh.plotting.output_notebook()"
   ]
  },
  {
   "cell_type": "markdown",
   "id": "ffac3882",
   "metadata": {},
   "source": [
    "### <span style='color: green'>PREPARE</span> Load Topic Model <span style='float: right; color: red'>MANDATORY</span>"
   ]
  },
  {
   "cell_type": "code",
   "execution_count": null,
   "id": "d1cf2b15",
   "metadata": {},
   "outputs": [],
   "source": [
    "load_gui = gui.create_load_topic_model_gui(\n",
    "    corpus_config=None, corpus_folder='/data/westac/textblock_politisk', state=current_state()\n",
    ")\n",
    "display(load_gui.layout())"
   ]
  },
  {
   "cell_type": "markdown",
   "id": "a011bad8",
   "metadata": {},
   "source": [
    "### <span style='color: green;'>VISUALIZE</span> Display Topic's Word Distribution as a Wordcloud<span style='color: red; float: right'> TRY IT</span>"
   ]
  },
  {
   "cell_type": "code",
   "execution_count": null,
   "id": "56a72c8a",
   "metadata": {},
   "outputs": [],
   "source": [
    "gui.display_topic_wordcloud_gui(current_state())"
   ]
  },
  {
   "cell_type": "markdown",
   "id": "62e6f7d8",
   "metadata": {},
   "source": [
    "### <span style='color: green;'>VISUALIZE</span> Topic-Word Distribution<span style='color: red; float: right'>TRY IT</span>\n"
   ]
  },
  {
   "cell_type": "code",
   "execution_count": null,
   "id": "383498fa",
   "metadata": {},
   "outputs": [],
   "source": [
    "gui.display_topic_word_distribution_gui(current_state())\n",
    "# topic_word_distribution_gui.display_topic_tokens(current_state(), topic_id=0, n_words=100, output_format='Chart')"
   ]
  },
  {
   "cell_type": "markdown",
   "id": "31ab5d23",
   "metadata": {
    "lines_to_next_cell": 2
   },
   "source": [
    "### <span style='color: green;'>VISUALIZE</span> Topic Trends over Time<span style='color: red; float: right'>RUN</span>"
   ]
  },
  {
   "cell_type": "code",
   "execution_count": null,
   "id": "b3940c23",
   "metadata": {},
   "outputs": [],
   "source": [
    "trends_gui.display_gui(current_state())\n",
    "# trends_gui.display_topic_trend(current_state().inferred_topics.document_topic_weights, topic_id=0, year=None, year_aggregate='mean', output_format='Table')"
   ]
  },
  {
   "cell_type": "markdown",
   "id": "10a6c7d7",
   "metadata": {},
   "source": [
    "### <span style='color: green;'>VISUALIZE</span> Topic Trends Overview<span style='color: red; float: right'>TRY IT</span>\n",
    "\n",
    "- The topic shares  displayed as a scattered heatmap plot using gradient color based on topic's weight in document.\n",
    "- [Stanford’s Termite software](http://vis.stanford.edu/papers/termite) uses a similar visualization."
   ]
  },
  {
   "cell_type": "code",
   "execution_count": null,
   "id": "a4547984",
   "metadata": {},
   "outputs": [],
   "source": [
    "overview_gui.display_gui(current_state())"
   ]
  },
  {
   "cell_type": "markdown",
   "id": "dfb588e1",
   "metadata": {},
   "source": [
    "### <span style='color: green;'>VISUALIZE</span> Publication Topic Network<span style='color: red; float: right'>TRY IT</span>\n",
    "The green nodes are documents, and blue nodes are topics. The edges (lines) indicates the strength of a topic in the connected document. The width of the edge is proportinal to the strength of the connection. Note that only edges with a strength above the certain threshold are displayed."
   ]
  },
  {
   "cell_type": "code",
   "execution_count": null,
   "id": "edc6efe7",
   "metadata": {},
   "outputs": [],
   "source": [
    "publication_topic_network_gui.display_gui(current_state())"
   ]
  },
  {
   "cell_type": "markdown",
   "id": "cc756f6a",
   "metadata": {},
   "source": [
    "### <span style='color: green;'>BROWSE</span> Browse Topic Documents<span style='color: red; float: right'>TRY IT</span>\n",
    "\n",
    "Computes weighted graph of topics co-occurring in the same document. Topics are defined as co-occurring if they both exists  in the same document both having weights above threshold. Weight are number of co-occurrences (binary yes or no). Node size reflects topic proportions over the entire corpus (normalized document) length, and are computed in accordance to how node sizes are computed in LDAvis."
   ]
  },
  {
   "cell_type": "code",
   "execution_count": null,
   "id": "f345677e",
   "metadata": {},
   "outputs": [],
   "source": [
    "texts_gui.display_gui(current_state())"
   ]
  },
  {
   "cell_type": "markdown",
   "id": "45911b0d",
   "metadata": {
    "lines_to_next_cell": 2
   },
   "source": [
    "### <span style='color: green;'>VISUALIZE</span> Topic-Topic Network<span style='color: red; float: right'>TRY IT</span>\n",
    "\n",
    "Computes weighted graph of topics co-occurring in the same document. Topics are defined as co-occurring in a document if they both have a weight above given threshold. The edge weights are the number of co-occurrences (binary yes or no). Node size reflects topic proportions over the entire corpus computed in accordance to LDAvis topic proportions."
   ]
  },
  {
   "cell_type": "code",
   "execution_count": null,
   "id": "2cf06c24",
   "metadata": {
    "code_folding": [
     0
    ]
   },
   "outputs": [],
   "source": [
    "topic_topic_gui.display_gui(current_state())"
   ]
  },
  {
   "cell_type": "code",
   "execution_count": null,
   "id": "c1210bbc",
   "metadata": {},
   "outputs": [],
   "source": []
  }
 ],
 "metadata": {
  "jupytext": {
   "encoding": "# -*- coding: utf-8 -*-",
   "formats": "ipynb,py:percent"
  },
  "kernelspec": {
   "display_name": "Python 3 (ipykernel)",
   "language": "python",
   "name": "python3"
  }
 },
 "nbformat": 4,
 "nbformat_minor": 5
}
