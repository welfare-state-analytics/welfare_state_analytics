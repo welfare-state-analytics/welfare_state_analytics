{
 "cells": [
  {
   "cell_type": "markdown",
   "id": "43c912de",
   "metadata": {},
   "source": [
    "## Text Analysis - Topic Modelling\n",
    "### <span style='color: green'>SETUP </span> Prepare and Setup Notebook <span style='float: right; color: red'>MANDATORY</span>"
   ]
  },
  {
   "cell_type": "code",
   "execution_count": null,
   "id": "7f0c018d",
   "metadata": {},
   "outputs": [],
   "source": [
    "# pylint: disable=wrong-import-position\n",
    "\n",
    "import __paths__  # isort:skip pylint: disable=import-error, unused-import\n",
    "\n",
    "import bokeh.plotting\n",
    "import penelope.notebook.topic_modelling as gui\n",
    "from IPython.core.interactiveshell import InteractiveShell\n",
    "from IPython.display import display\n",
    "\n",
    "import notebooks.political_in_newspapers.notebook_gui.publication_topic_network_gui as publication_topic_network_gui\n",
    "import notebooks.political_in_newspapers.notebook_gui.topic_document_texts_gui as texts_gui\n",
    "import notebooks.political_in_newspapers.notebook_gui.topic_topic_network_gui as topic_topic_gui\n",
    "import notebooks.political_in_newspapers.notebook_gui.topic_trends_gui as trends_gui\n",
    "import notebooks.political_in_newspapers.notebook_gui.topic_trends_overview_gui as overview_gui\n",
    "\n",
    "InteractiveShell.ast_node_interactivity = \"all\"\n",
    "\n",
    "%matplotlib inline\n",
    "\n",
    "current_state = gui.TopicModelContainer.singleton\n",
    "bokeh.plotting.output_notebook()"
   ]
  },
  {
   "cell_type": "markdown",
   "id": "e950f3f3",
   "metadata": {},
   "source": [
    "### <span style='color: green'>PREPARE</span> Load Topic Model <span style='float: right; color: red'>MANDATORY</span>"
   ]
  },
  {
   "cell_type": "code",
   "execution_count": null,
   "id": "7ba656a4",
   "metadata": {},
   "outputs": [],
   "source": [
    "\n",
    "load_gui = gui.create_load_topic_model_gui(\n",
    "    corpus_config=None, corpus_folder='/data/westac/political_in_newspapers', state=current_state()\n",
    ")\n",
    "display(load_gui.layout())"
   ]
  },
  {
   "cell_type": "markdown",
   "id": "dd284f48",
   "metadata": {},
   "source": [
    "### <span style='color: green;'>VISUALIZE</span> Display Topic's Word Distribution as a Wordcloud<span style='color: red; float: right'> TRY IT</span>"
   ]
  },
  {
   "cell_type": "code",
   "execution_count": null,
   "id": "80a0fc95",
   "metadata": {},
   "outputs": [],
   "source": [
    "\n",
    "try:\n",
    "    gui.display_topic_wordcloud_gui(current_state())\n",
    "except Exception as ex:\n",
    "    print(ex)"
   ]
  },
  {
   "cell_type": "markdown",
   "id": "7d2a1255",
   "metadata": {},
   "source": [
    "### <span style='color: green;'>VISUALIZE</span> Topic-Word Distribution<span style='color: red; float: right'>TRY IT</span>\n"
   ]
  },
  {
   "cell_type": "code",
   "execution_count": null,
   "id": "bc8d86c3",
   "metadata": {},
   "outputs": [],
   "source": [
    "\n",
    "try:\n",
    "    gui.display_topic_word_distribution_gui(current_state())\n",
    "    # topic_word_distribution_gui.display_topic_tokens(current_state(), topic_id=0, n_words=100, output_format='Chart')\n",
    "except Exception as ex:\n",
    "    print(ex)"
   ]
  },
  {
   "cell_type": "markdown",
   "id": "ac58861d",
   "metadata": {
    "lines_to_next_cell": 2
   },
   "source": [
    "### <span style='color: green;'>VISUALIZE</span> Topic Trends over Time<span style='color: red; float: right'>RUN</span>"
   ]
  },
  {
   "cell_type": "code",
   "execution_count": null,
   "id": "2a1b904e",
   "metadata": {},
   "outputs": [],
   "source": [
    "\n",
    "try:\n",
    "    trends_gui.display_gui(current_state())\n",
    "    # trends_gui.display_topic_trend(current_state().inferred_topics.document_topic_weights, topic_id=0, year=None, year_aggregate='mean', output_format='Table')\n",
    "except Exception as ex:\n",
    "    print(ex)"
   ]
  },
  {
   "cell_type": "markdown",
   "id": "f1e77d54",
   "metadata": {},
   "source": [
    "### <span style='color: green;'>VISUALIZE</span> Topic Trends Overview<span style='color: red; float: right'>TRY IT</span>\n",
    "\n",
    "- The topic shares  displayed as a scattered heatmap plot using gradient color based on topic's weight in document.\n",
    "- [Stanford’s Termite software](http://vis.stanford.edu/papers/termite) uses a similar visualization."
   ]
  },
  {
   "cell_type": "code",
   "execution_count": null,
   "id": "fb1bb47a",
   "metadata": {},
   "outputs": [],
   "source": [
    "\n",
    "try:\n",
    "    overview_gui.display_gui(current_state())\n",
    "except ValueError as ex:\n",
    "    print(ex)"
   ]
  },
  {
   "cell_type": "markdown",
   "id": "450f9eef",
   "metadata": {},
   "source": [
    "### <span style='color: green;'>VISUALIZE</span> Publication Topic Network<span style='color: red; float: right'>TRY IT</span>\n",
    "The green nodes are documents, and blue nodes are topics. The edges (lines) indicates the strength of a topic in the connected document. The width of the edge is proportinal to the strength of the connection. Note that only edges with a strength above the certain threshold are displayed."
   ]
  },
  {
   "cell_type": "code",
   "execution_count": null,
   "id": "90b0a0d1",
   "metadata": {},
   "outputs": [],
   "source": [
    "\n",
    "try:\n",
    "    publication_topic_network_gui.display_gui(current_state())\n",
    "except Exception as ex:\n",
    "    print(ex)"
   ]
  },
  {
   "cell_type": "markdown",
   "id": "9ca9968b",
   "metadata": {},
   "source": [
    "### <span style='color: green;'>BROWSE</span> Browse Topic Documents<span style='color: red; float: right'>TRY IT</span>\n",
    "\n",
    "Computes weighted graph of topics co-occurring in the same document. Topics are defined as co-occurring if they both exists  in the same document both having weights above threshold. Weight are number of co-occurrences (binary yes or no). Node size reflects topic proportions over the entire corpus (normalized document) length, and are computed in accordance to how node sizes are computed in LDAvis."
   ]
  },
  {
   "cell_type": "code",
   "execution_count": null,
   "id": "feb740d5",
   "metadata": {},
   "outputs": [],
   "source": [
    "\n",
    "try:\n",
    "    texts_gui.display_gui(current_state())\n",
    "except Exception as ex:\n",
    "    print(ex)"
   ]
  },
  {
   "cell_type": "markdown",
   "id": "9ea80bc9",
   "metadata": {
    "lines_to_next_cell": 2
   },
   "source": [
    "### <span style='color: green;'>VISUALIZE</span> Topic-Topic Network<span style='color: red; float: right'>TRY IT</span>\n",
    "\n",
    "Computes weighted graph of topics co-occurring in the same document. Topics are defined as co-occurring in a document if they both have a weight above given threshold. The edge weights are the number of co-occurrences (binary yes or no). Node size reflects topic proportions over the entire corpus computed in accordance to LDAvis topic proportions."
   ]
  },
  {
   "cell_type": "code",
   "execution_count": null,
   "id": "d5ad59f3",
   "metadata": {
    "code_folding": [
     0
    ]
   },
   "outputs": [],
   "source": [
    "\n",
    "try:\n",
    "    topic_topic_gui.display_gui(current_state())\n",
    "except Exception as ex:\n",
    "    print(ex)"
   ]
  }
 ],
 "metadata": {
  "jupytext": {
   "encoding": "# -*- coding: utf-8 -*-",
   "formats": "ipynb,py:percent"
  },
  "kernelspec": {
   "display_name": "Python 3.7.5 64-bit ('text_analytic_tools': pipenv)",
   "language": "python",
   "name": "python37564bittextanalytictoolspipenv8c3d4c9c6f39484cb74f0ad2d777602d"
  }
 },
 "nbformat": 4,
 "nbformat_minor": 5
}
