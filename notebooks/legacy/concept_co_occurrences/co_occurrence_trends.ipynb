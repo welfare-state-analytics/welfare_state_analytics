{
 "cells": [
  {
   "cell_type": "markdown",
   "id": "disciplinary-sheriff",
   "metadata": {},
   "source": [
    "## Concept Context Co-Occurrences Analysis"
   ]
  },
  {
   "cell_type": "markdown",
   "id": "changed-processor",
   "metadata": {
    "lines_to_next_cell": 0
   },
   "source": [
    "### Setup notebook"
   ]
  },
  {
   "cell_type": "code",
   "execution_count": null,
   "id": "inclusive-designer",
   "metadata": {},
   "outputs": [],
   "source": [
    "%load_ext autoreload\n",
    "%autoreload 2\n",
    "# pylint: disable=too-many-instance-attributes, unused-argument\n",
    "\n",
    "import importlib\n",
    "import warnings\n",
    "from typing import Optional\n",
    "\n",
    "import penelope.notebook.co_occurrence.load_co_occurrences_gui as load_gui\n",
    "import penelope.notebook.co_occurrence.to_co_occurrence_gui as compute_gui\n",
    "from bokeh.plotting import output_notebook\n",
    "from IPython.display import display\n",
    "from penelope import co_occurrence, pipeline, workflows\n",
    "from penelope.notebook.interface import ComputeOpts\n",
    "\n",
    "import __paths__  # pylint: disable=unused-import\n",
    "\n",
    "from .loaded_callback import loaded_callback\n",
    "\n",
    "warnings.filterwarnings(\"ignore\", category=FutureWarning)\n",
    "\n",
    "output_notebook()\n",
    "corpus_folder = __paths__.root_folder"
   ]
  },
  {
   "cell_type": "markdown",
   "id": "systematic-cassette",
   "metadata": {
    "lines_to_next_cell": 0
   },
   "source": [
    "### Generate new concept context co-co_occurrences"
   ]
  },
  {
   "cell_type": "code",
   "execution_count": null,
   "id": "instrumental-standing",
   "metadata": {
    "lines_to_next_cell": 0
   },
   "outputs": [],
   "source": [
    "\n",
    "\n",
    "def compute_co_occurrence_callback(\n",
    "    corpus_config: pipeline.CorpusConfig,\n",
    "    args: ComputeOpts,\n",
    "    checkpoint_file: Optional[str] = None,\n",
    ") -> co_occurrence.ComputeResult:\n",
    "    compute_result = workflows.co_occurrence.compute(\n",
    "        args=args,\n",
    "        corpus_config=corpus_config,\n",
    "        checkpoint_file=checkpoint_file,\n",
    "    )\n",
    "    return compute_result\n",
    "\n",
    "\n",
    "importlib.reload(compute_gui)\n",
    "gui: compute_gui.ComputeGUI = compute_gui.create_compute_gui(\n",
    "    corpus_folder=corpus_folder,\n",
    "    corpus_config=\"riksdagens-protokoll\",\n",
    "    done_callback=loaded_callback,\n",
    "    compute_callback=compute_co_occurrence_callback,\n",
    ")\n",
    "display(gui.layout())"
   ]
  },
  {
   "cell_type": "markdown",
   "id": "violent-president",
   "metadata": {
    "lines_to_next_cell": 0
   },
   "source": [
    "### Load saved concept context co-occurrences"
   ]
  },
  {
   "cell_type": "code",
   "execution_count": null,
   "id": "otherwise-charles",
   "metadata": {},
   "outputs": [],
   "source": [
    "lgu: load_gui.LoadGUI = load_gui.create_load_gui(\n",
    "    data_folder=corpus_folder, filename_pattern=\"*.co_occurrence.csv.zip\", loaded_callback=loaded_callback\n",
    ")\n",
    "display(lgu.layout())"
   ]
  }
 ],
 "metadata": {
  "jupytext": {
   "encoding": "# -*- coding: utf-8 -*-",
   "formats": "ipynb,py:percent"
  },
  "kernelspec": {
   "display_name": "Python 3",
   "language": "python",
   "name": "python3"
  }
 },
 "nbformat": 4,
 "nbformat_minor": 5
}
