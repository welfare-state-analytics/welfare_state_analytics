{
 "cells": [
  {
   "cell_type": "markdown",
   "id": "cultural-appendix",
   "metadata": {},
   "source": [
    "## Word Trend Analysis\n",
    "\n",
    "### Load previously vectorized corpus\n",
    "\n",
    "Use the `vectorize_protocol` script to create a new corpus with different settings."
   ]
  },
  {
   "cell_type": "code",
   "execution_count": null,
   "id": "honest-wildlife",
   "metadata": {},
   "outputs": [],
   "source": [
    "%load_ext autoreload\n",
    "%autoreload 2"
   ]
  },
  {
   "cell_type": "code",
   "execution_count": null,
   "id": "threatened-baking",
   "metadata": {},
   "outputs": [],
   "source": [
    "\n",
    "from bokeh.plotting import output_notebook\n",
    "from IPython.core.display import display\n",
    "from penelope import pipeline, workflows\n",
    "from penelope.corpus import dtm\n",
    "from penelope.notebook import interface, word_trends\n",
    "from penelope.notebook.dtm import load_dtm_gui, to_dtm_gui\n",
    "\n",
    "import __paths__\n",
    "\n",
    "output_notebook()"
   ]
  },
  {
   "cell_type": "code",
   "execution_count": null,
   "id": "infectious-wheat",
   "metadata": {
    "tags": [],
    "vscode": {
     "end_execution_time": "2020-08-31T18:34:55.995Z",
     "start_execution_time": "2020-08-31T18:34:55.854Z"
    }
   },
   "outputs": [],
   "source": [
    "\n",
    "\n",
    "def done_callback(corpus: dtm.VectorizedCorpus, corpus_folder: str, corpus_tag: str):\n",
    "\n",
    "    trends_data: word_trends.TrendsData = word_trends.TrendsData(\n",
    "        corpus=corpus,\n",
    "        corpus_folder=corpus_folder,\n",
    "        corpus_tag=corpus_tag,\n",
    "        n_count=25000,\n",
    "    ).update()\n",
    "\n",
    "    gui = word_trends.GofTrendsGUI(\n",
    "        gofs_gui=word_trends.GoFsGUI().setup(),\n",
    "        trends_gui=word_trends.TrendsGUI().setup(),\n",
    "    )\n",
    "\n",
    "    display(gui.layout())\n",
    "    gui.display(trends_data=trends_data)\n",
    "\n",
    "\n",
    "def compute_done_callback(corpus: dtm.VectorizedCorpus, opts: interface.ComputeOpts):\n",
    "    done_callback(corpus=corpus, corpus_folder=opts.target_folder, corpus_tag=opts.corpus_tag)\n",
    "\n",
    "\n",
    "def compute_callback(args: interface.ComputeOpts, corpus_config: pipeline.CorpusConfig) -> dtm.VectorizedCorpus:\n",
    "    corpus: dtm.VectorizedCorpus = workflows.document_term_matrix.compute(args=args, corpus_config=corpus_config)\n",
    "    return corpus\n",
    "\n",
    "\n",
    "compute_gui: to_dtm_gui.ComputeGUI = to_dtm_gui.create_compute_gui(\n",
    "    corpus_folder=__paths__.data_folder,\n",
    "    corpus_config=\"riksdagens-protokoll\",\n",
    "    compute_callback=compute_callback,\n",
    "    done_callback=compute_done_callback,\n",
    ")\n",
    "display(compute_gui.layout())"
   ]
  },
  {
   "cell_type": "code",
   "execution_count": null,
   "id": "scenic-norway",
   "metadata": {},
   "outputs": [],
   "source": [
    "load_gui: load_dtm_gui.LoadGUI = load_dtm_gui.create_load_gui(\n",
    "    corpus_folder=__paths__.data_folder, loaded_callback=done_callback\n",
    ")\n",
    "display(load_gui.layout())"
   ]
  }
 ],
 "metadata": {
  "jupytext": {
   "formats": "ipynb,py:percent"
  },
  "kernelspec": {
   "display_name": "Python 3",
   "language": "python",
   "name": "python3"
  }
 },
 "nbformat": 4,
 "nbformat_minor": 5
}
